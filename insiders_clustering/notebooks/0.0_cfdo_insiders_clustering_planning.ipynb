{
 "cells": [
  {
   "cell_type": "markdown",
   "id": "1f5c7d5f",
   "metadata": {},
   "source": [
    "# 0.0  Planejamento da solução (IOT)"
   ]
  },
  {
   "cell_type": "markdown",
   "id": "d2c678d8",
   "metadata": {
    "heading_collapsed": true
   },
   "source": [
    "## Texto blog"
   ]
  },
  {
   "cell_type": "markdown",
   "id": "73741c36",
   "metadata": {
    "hidden": true
   },
   "source": [
    "A empresa All In One Place\n",
    "\n",
    "    Disclaimer: O contexto a seguir é completamente fictício, a empresa, o contexto, o CEO, as perguntas de negócio existem somente na minha imaginação. \n",
    "\n",
    "A empresa All in One Place é uma empresa Outlet Multimarcas, ou seja, ela comercializa produtos de segunda linha de várias marcas a um preço menor, através de um e-commerce.\n",
    "\n",
    "Em pouco mais de 1 anos de operação, o time de marketing percebeu que alguns clientes da sua base, compram produtos mais caros, com alta frequência e acabam contribuindo com uma parcela significativa do faturamento da empresa.\n",
    "\n",
    "Baseado nessa percepção, o time de marketing vai lançar um programa de fidelidade para os melhores clientes da base, chamado Insiders. Mas o time não tem um conhecimento avançado em análise de dados para eleger os participantes do programa.\n",
    "\n",
    "Por esse motivo, o time de marketing requisitou ao time de dados uma seleção de clientes elegíveis ao programa, usando técnicas avançadas de manipulação de dados.\n",
    "O Desafio\n",
    "\n",
    "Você faz parte do time de cientistas de dados da empresa All In One Place, que precisa determinar quem são os clientes elegíveis para participar do Insiders. Em posse dessa lista, o time de Marketing fará uma sequência de ações personalizadas e exclusivas ao grupo, de modo a aumentar o faturamento e a frequência de compra.\n",
    "\n",
    "Como resultado para esse projeto, é esperado que você entregue uma lista de pessoas elegíveis a participar do programa Insiders, junto com um relatório respondendo às seguintes perguntas:\n",
    "\n",
    "    Quem são as pessoas elegíveis para participar do programa de Insiders ?\n",
    "    Quantos clientes farão parte do grupo?\n",
    "    Quais as principais características desses clientes ?\n",
    "    Qual a porcentagem de contribuição do faturamento, vinda do Insiders ?\n",
    "    Qual a expectativa de faturamento desse grupo para os próximos meses ?\n",
    "    Quais as condições para uma pessoa ser elegível ao Insiders ?\n",
    "    Quais as condições para uma pessoa ser removida do Insiders ?\n",
    "    Qual a garantia que o programa Insiders é melhor que o restante da base ?\n",
    "    Quais ações o time de marketing pode realizar para aumentar o faturamento?\n",
    "\n",
    "Os Dados\n",
    "\n",
    "O conjunto de dados está disponível na plataforma do Kaggle, através desse link: https://www.kaggle.com/vik2012kvs/high-value-customers-identification \n",
    "\n",
    "Cada linha representa uma transação de venda, que ocorreu entre o período de Novembro de 2016 e Dezembro de 2017.\n",
    "\n",
    "O conjunto de dados inclui as seguintes informações:\n",
    "\n",
    "    Invoice Number: identificador único de cada transação.\n",
    "    Stock Code Product: código do item.\n",
    "    Description Product: nome do item\n",
    "    Quantity: A quantidade de cada item comprado por transação.\n",
    "    Invoice Date: O dia em que a transação ocorreu\n",
    "    Unit Price: Preço do produto por unidade\n",
    "    Customer ID: identificador único do cliente\n",
    "    Country: O nome do país que o cliente reside\n",
    "\n",
    "Roteiro Sugerido para a Solução:\n",
    "\n",
    "Esse é o roteiro de resolução do desafio que eu sugiro:\n",
    "\n",
    "    Explore os Dados usando ferramentas e testes Estatísticos com o objetivo de encontrar inconsistências dos dados e tratar possíveis dados faltantes.\n",
    "\n",
    "    Levante Hipóteses sobre as características de um cliente Insider. Valide ou refute essas hipóteses através dos dados.\n",
    "\n",
    "    Prepare os Dados para que os Algoritmos Estatísticos ou de Machine Learning sejam capazes de aprender a tarefa.\n",
    "\n",
    "    Escreva vários algoritmos de Agrupamento ou clusterização.\n",
    "\n",
    "    Contabilize a Performance do Modelo de Machine Learning e transforme em Performance de Negócio.\n",
    "\n",
    "    Desenvolva uma API que retorne um “Score de Cluster” para cada cliente, indicando à qual cluster ele pertence.\n",
    "\n",
    "    Crie um README sobre como interpretar e usar a sua solução.\n",
    "\n",
    "     Escreva um Relatório, respondendo às perguntas de negócio.\n"
   ]
  },
  {
   "cell_type": "markdown",
   "id": "08bec941",
   "metadata": {},
   "source": [
    "## Input - Entrada"
   ]
  },
  {
   "cell_type": "markdown",
   "id": "ad1fad45",
   "metadata": {},
   "source": [
    "1. Problema de Negócio\n",
    "    - Selecionar os clients mais valiosos para integrar um programa de fidelização\n",
    "\n",
    "2. Conjunto de Dados\n",
    "    - Vendas de um e-commerce online durante o período de um ano.\n",
    "    "
   ]
  },
  {
   "cell_type": "markdown",
   "id": "88eb6784",
   "metadata": {
    "heading_collapsed": true
   },
   "source": [
    "## Output"
   ]
  },
  {
   "cell_type": "markdown",
   "id": "793c9303",
   "metadata": {
    "hidden": true
   },
   "source": [
    "1. A indicação das pessoas que farão parte do programa de insiders\n",
    "    - Lista: cliente_id | is_insider |\n",
    "                2023    |     yes/ 1 |\n",
    "                3493    |     no/ 0  |\n",
    "\n",
    "2. Relatório com as respostas das perguntas de negócios\n",
    "    \n",
    "    - Quem são as pessoas elegíveis para participar do programa de Insiders ?\n",
    "    - Quantos clientes farão parte do grupo?\n",
    "    - Quais as principais características desses clientes ?\n",
    "    - Qual a porcentagem de contribuição do faturamento, vinda do Insiders ?\n",
    "    - Qual a expectativa de faturamento desse grupo para os próximos meses ?\n",
    "    - Quais as condições para uma pessoa ser elegível ao Insiders ?\n",
    "    - Quais as condições para uma pessoa ser removida do Insiders ?\n",
    "    - Qual a garantia que o programa Insiders é melhor que o restante da base ?\n",
    "    - Quais ações o time de marketing pode realizar para aumentar o faturamento?\n"
   ]
  },
  {
   "cell_type": "markdown",
   "id": "9d4b4735",
   "metadata": {
    "heading_collapsed": true
   },
   "source": [
    "## Tasks"
   ]
  },
  {
   "cell_type": "markdown",
   "id": "b97e26d3",
   "metadata": {
    "hidden": true
   },
   "source": [
    "    1. Quem são as pessoas elegíveis para participar do programa de Insiders ?\n",
    "        - O que é ser elegível? O que são clientes de maior \"valor\"?\n",
    "        - Suposições:\n",
    "            - Faturamento:\n",
    "                - Alto Ticket médio. (10, 20, 30 -> 20)\n",
    "                - Alto LTV (gasto durante a \"estadia\" na empresa)\n",
    "                - Baixa recência (tempo desde a última compra)\n",
    "                - Alto basket size (tamanho da cesta de compra)\n",
    "                - Baixa probabilidade de churn (quando a pessoa para de comprar, mais fácil de ser utilizado em                       empresas de contrato (celular))\n",
    "                - Alta Previsão de LTV\n",
    "                - Alta propensão de compra.\n",
    "                \n",
    "            - Custo:\n",
    "                - Baixa taxa de devolução\n",
    "                \n",
    "            - Experiência de compra\n",
    "                - Média alta das avaliações\n",
    "    \n",
    "    2. Quantos clientes farão parte do grupo?\n",
    "        - Número total de clientes\n",
    "        - % do grupo insiders\n",
    "    \n",
    "    3. Quais as principais características desses clientes ?\n",
    "        - Escrever características do cliente:\n",
    "            - Idade\n",
    "            - Localização\n",
    "        \n",
    "        - Escrever características de consumo\n",
    "            - Atributos da clusterização\n",
    "    \n",
    "    4. Qual a porcentagem de contribuição do faturamento, vinda do Insiders ?\n",
    "        - Faturamento total do ano\n",
    "        - Faturamento do grupo insiders\n",
    "    \n",
    "    5. Qual a expectativa de faturamento desse grupo para os próximos meses ?\n",
    "        - LTV do grupo insiders\n",
    "        - Análise de Cohort (como que um grupo que foi marcado se comporta)\n",
    "    \n",
    "    6. Quais as condições para uma pessoa ser elegível ao Insiders ?\n",
    "        - Definir a periodicidade para rodar o modelo (1 mes, 3 meses)\n",
    "        - A pessoa precisa ser similar ou parecida com uma pessoa do grupo.\n",
    "    \n",
    "    7. Quais as condições para uma pessoa ser removida do Insiders ?\n",
    "        - Definir a periodicidade para rodar o modelo (1 mes, 3 meses)\n",
    "        - A pessoa precisa ser pocuo similar ao grupo.\n",
    "    \n",
    "    8. Qual a garantia que o programa Insiders é melhor que o restante da base ?\n",
    "        - Teste A/B\n",
    "        - Teste A/B baysiano\n",
    "        - Teste de hipóteses\n",
    "        \n",
    "    9. Quais ações o time de marketing pode realizar para aumentar o faturamento?\n",
    "        - Desconto\n",
    "        - Preferência de compra\n",
    "        - Frete\n",
    "        - Visita a empresa"
   ]
  },
  {
   "cell_type": "markdown",
   "id": "11625426",
   "metadata": {
    "heading_collapsed": true
   },
   "source": [
    "## Benchmark de soluções"
   ]
  },
  {
   "cell_type": "markdown",
   "id": "9d7a115c",
   "metadata": {
    "hidden": true
   },
   "source": [
    "### 1. Desk Research"
   ]
  },
  {
   "cell_type": "markdown",
   "id": "bc70c4bd",
   "metadata": {
    "hidden": true
   },
   "source": [
    "Processo no qual se pesquisa soluções já sendo praticadas no mercado, elenca-se as três melhores com o time de dados ou um mvp para iniciar a entrega de valor para a empresa."
   ]
  },
  {
   "cell_type": "markdown",
   "id": "08024b2d",
   "metadata": {
    "hidden": true
   },
   "source": [
    "### Modelo RFM"
   ]
  },
  {
   "cell_type": "code",
   "execution_count": null,
   "id": "ed5f8f8b",
   "metadata": {
    "hidden": true
   },
   "outputs": [],
   "source": []
  }
 ],
 "metadata": {
  "kernelspec": {
   "display_name": "InsidersClustering",
   "language": "python",
   "name": "insidersclustering"
  },
  "language_info": {
   "codemirror_mode": {
    "name": "ipython",
    "version": 3
   },
   "file_extension": ".py",
   "mimetype": "text/x-python",
   "name": "python",
   "nbconvert_exporter": "python",
   "pygments_lexer": "ipython3",
   "version": "3.8.0"
  }
 },
 "nbformat": 4,
 "nbformat_minor": 5
}
