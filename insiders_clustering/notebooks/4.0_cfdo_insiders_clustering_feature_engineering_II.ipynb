{
 "cells": [
  {
   "cell_type": "markdown",
   "id": "1f5c7d5f",
   "metadata": {},
   "source": [
    "# 0.0  Planejamento da solução (IOT)"
   ]
  },
  {
   "cell_type": "markdown",
   "id": "d2c678d8",
   "metadata": {},
   "source": [
    "## Texto blog"
   ]
  },
  {
   "cell_type": "markdown",
   "id": "73741c36",
   "metadata": {},
   "source": [
    "A empresa All In One Place\n",
    "\n",
    "    Disclaimer: O contexto a seguir é completamente fictício, a empresa, o contexto, o CEO, as perguntas de negócio existem somente na minha imaginação. \n",
    "\n",
    "A empresa All in One Place é uma empresa Outlet Multimarcas, ou seja, ela comercializa produtos de segunda linha de várias marcas a um preço menor, através de um e-commerce.\n",
    "\n",
    "Em pouco mais de 1 anos de operação, o time de marketing percebeu que alguns clientes da sua base, compram produtos mais caros, com alta frequência e acabam contribuindo com uma parcela significativa do faturamento da empresa.\n",
    "\n",
    "Baseado nessa percepção, o time de marketing vai lançar um programa de fidelidade para os melhores clientes da base, chamado Insiders. Mas o time não tem um conhecimento avançado em análise de dados para eleger os participantes do programa.\n",
    "\n",
    "Por esse motivo, o time de marketing requisitou ao time de dados uma seleção de clientes elegíveis ao programa, usando técnicas avançadas de manipulação de dados.\n",
    "O Desafio\n",
    "\n",
    "Você faz parte do time de cientistas de dados da empresa All In One Place, que precisa determinar quem são os clientes elegíveis para participar do Insiders. Em posse dessa lista, o time de Marketing fará uma sequência de ações personalizadas e exclusivas ao grupo, de modo a aumentar o faturamento e a frequência de compra.\n",
    "\n",
    "Como resultado para esse projeto, é esperado que você entregue uma lista de pessoas elegíveis a participar do programa Insiders, junto com um relatório respondendo às seguintes perguntas:\n",
    "\n",
    "    Quem são as pessoas elegíveis para participar do programa de Insiders ?\n",
    "    Quantos clientes farão parte do grupo?\n",
    "    Quais as principais características desses clientes ?\n",
    "    Qual a porcentagem de contribuição do faturamento, vinda do Insiders ?\n",
    "    Qual a expectativa de faturamento desse grupo para os próximos meses ?\n",
    "    Quais as condições para uma pessoa ser elegível ao Insiders ?\n",
    "    Quais as condições para uma pessoa ser removida do Insiders ?\n",
    "    Qual a garantia que o programa Insiders é melhor que o restante da base ?\n",
    "    Quais ações o time de marketing pode realizar para aumentar o faturamento?\n",
    "\n",
    "Os Dados\n",
    "\n",
    "O conjunto de dados está disponível na plataforma do Kaggle, através desse link: https://www.kaggle.com/vik2012kvs/high-value-customers-identification \n",
    "\n",
    "Cada linha representa uma transação de venda, que ocorreu entre o período de Novembro de 2016 e Dezembro de 2017.\n",
    "\n",
    "O conjunto de dados inclui as seguintes informações:\n",
    "\n",
    "    Invoice Number: identificador único de cada transação.\n",
    "    Stock Code Product: código do item.\n",
    "    Description Product: nome do item\n",
    "    Quantity: A quantidade de cada item comprado por transação.\n",
    "    Invoice Date: O dia em que a transação ocorreu\n",
    "    Unit Price: Preço do produto por unidade\n",
    "    Customer ID: identificador único do cliente\n",
    "    Country: O nome do país que o cliente reside\n",
    "\n",
    "Roteiro Sugerido para a Solução:\n",
    "\n",
    "Esse é o roteiro de resolução do desafio que eu sugiro:\n",
    "\n",
    "    Explore os Dados usando ferramentas e testes Estatísticos com o objetivo de encontrar inconsistências dos dados e tratar possíveis dados faltantes.\n",
    "\n",
    "    Levante Hipóteses sobre as características de um cliente Insider. Valide ou refute essas hipóteses através dos dados.\n",
    "\n",
    "    Prepare os Dados para que os Algoritmos Estatísticos ou de Machine Learning sejam capazes de aprender a tarefa.\n",
    "\n",
    "    Escreva vários algoritmos de Agrupamento ou clusterização.\n",
    "\n",
    "    Contabilize a Performance do Modelo de Machine Learning e transforme em Performance de Negócio.\n",
    "\n",
    "    Desenvolva uma API que retorne um “Score de Cluster” para cada cliente, indicando à qual cluster ele pertence.\n",
    "\n",
    "    Crie um README sobre como interpretar e usar a sua solução.\n",
    "\n",
    "     Escreva um Relatório, respondendo às perguntas de negócio.\n"
   ]
  },
  {
   "cell_type": "markdown",
   "id": "08bec941",
   "metadata": {},
   "source": [
    "## Input - Entrada"
   ]
  },
  {
   "cell_type": "markdown",
   "id": "ad1fad45",
   "metadata": {},
   "source": [
    "1. Problema de Negócio\n",
    "    - Selecionar os clients mais valiosos para integrar um programa de fidelização\n",
    "\n",
    "2. Conjunto de Dados\n",
    "    - Vendas de um e-commerce online durante o período de um ano.\n",
    "    "
   ]
  },
  {
   "cell_type": "markdown",
   "id": "88eb6784",
   "metadata": {},
   "source": [
    "## Output"
   ]
  },
  {
   "cell_type": "markdown",
   "id": "793c9303",
   "metadata": {},
   "source": [
    "1. A indicação das pessoas que farão parte do programa de insiders\n",
    "    - Lista: cliente_id | is_insider |\n",
    "                2023    |     yes/ 1 |\n",
    "                3493    |     no/ 0  |\n",
    "\n",
    "2. Relatório com as respostas das perguntas de negócios\n",
    "    \n",
    "    - Quem são as pessoas elegíveis para participar do programa de Insiders ?\n",
    "    - Quantos clientes farão parte do grupo?\n",
    "    - Quais as principais características desses clientes ?\n",
    "    - Qual a porcentagem de contribuição do faturamento, vinda do Insiders ?\n",
    "    - Qual a expectativa de faturamento desse grupo para os próximos meses ?\n",
    "    - Quais as condições para uma pessoa ser elegível ao Insiders ?\n",
    "    - Quais as condições para uma pessoa ser removida do Insiders ?\n",
    "    - Qual a garantia que o programa Insiders é melhor que o restante da base ?\n",
    "    - Quais ações o time de marketing pode realizar para aumentar o faturamento?\n"
   ]
  },
  {
   "cell_type": "markdown",
   "id": "9d4b4735",
   "metadata": {},
   "source": [
    "## Tasks"
   ]
  },
  {
   "cell_type": "markdown",
   "id": "b97e26d3",
   "metadata": {},
   "source": [
    "    1. Quem são as pessoas elegíveis para participar do programa de Insiders ?\n",
    "        - O que é ser elegível? O que são clientes de maior \"valor\"?\n",
    "        - Suposições:\n",
    "            - Faturamento:\n",
    "                - Alto Ticket médio. (10, 20, 30 -> 20)\n",
    "                - Alto LTV (gasto durante a \"estadia\" na empresa)\n",
    "                - Baixa recência (tempo desde a última compra)\n",
    "                - Alto basket size (tamanho da cesta de compra)\n",
    "                - Baixa probabilidade de churn (quando a pessoa para de comprar, mais fácil de ser utilizado em                       empresas de contrato (celular))\n",
    "                - Alta Previsão de LTV\n",
    "                - Alta propensão de compra.\n",
    "                \n",
    "            - Custo:\n",
    "                - Baixa taxa de devolução\n",
    "                \n",
    "            - Experiência de compra\n",
    "                - Média alta das avaliações\n",
    "    \n",
    "    2. Quantos clientes farão parte do grupo?\n",
    "        - Número total de clientes\n",
    "        - % do grupo insiders\n",
    "    \n",
    "    3. Quais as principais características desses clientes ?\n",
    "        - Escrever características do cliente:\n",
    "            - Idade\n",
    "            - Localização\n",
    "        \n",
    "        - Escrever características de consumo\n",
    "            - Atributos da clusterização\n",
    "    \n",
    "    4. Qual a porcentagem de contribuição do faturamento, vinda do Insiders ?\n",
    "        - Faturamento total do ano\n",
    "        - Faturamento do grupo insiders\n",
    "    \n",
    "    5. Qual a expectativa de faturamento desse grupo para os próximos meses ?\n",
    "        - LTV do grupo insiders\n",
    "        - Análise de Cohort (como que um grupo que foi marcado se comporta)\n",
    "    \n",
    "    6. Quais as condições para uma pessoa ser elegível ao Insiders ?\n",
    "        - Definir a periodicidade para rodar o modelo (1 mes, 3 meses)\n",
    "        - A pessoa precisa ser similar ou parecida com uma pessoa do grupo.\n",
    "    \n",
    "    7. Quais as condições para uma pessoa ser removida do Insiders ?\n",
    "        - Definir a periodicidade para rodar o modelo (1 mes, 3 meses)\n",
    "        - A pessoa precisa ser pocuo similar ao grupo.\n",
    "    \n",
    "    8. Qual a garantia que o programa Insiders é melhor que o restante da base ?\n",
    "        - Teste A/B\n",
    "        - Teste A/B baysiano\n",
    "        - Teste de hipóteses\n",
    "        \n",
    "    9. Quais ações o time de marketing pode realizar para aumentar o faturamento?\n",
    "        - Desconto\n",
    "        - Preferência de compra\n",
    "        - Frete\n",
    "        - Visita a empresa"
   ]
  },
  {
   "cell_type": "markdown",
   "id": "11625426",
   "metadata": {},
   "source": [
    "## Benchmark de soluções"
   ]
  },
  {
   "cell_type": "markdown",
   "id": "9d7a115c",
   "metadata": {},
   "source": [
    "### 1. Desk Research"
   ]
  },
  {
   "cell_type": "markdown",
   "id": "bc70c4bd",
   "metadata": {},
   "source": [
    "Processo no qual se pesquisa soluções já sendo praticadas no mercado, elenca-se as três melhores com o time de dados ou um mvp para iniciar a entrega de valor para a empresa."
   ]
  },
  {
   "cell_type": "markdown",
   "id": "08024b2d",
   "metadata": {
    "heading_collapsed": true
   },
   "source": [
    "### Modelo RFM"
   ]
  },
  {
   "cell_type": "markdown",
   "id": "bccb0ab6",
   "metadata": {},
   "source": [
    "## 0.1 Imports"
   ]
  },
  {
   "cell_type": "code",
   "execution_count": 474,
   "id": "96de4612",
   "metadata": {
    "ExecuteTime": {
     "end_time": "2022-07-07T23:07:59.920918Z",
     "start_time": "2022-07-07T23:07:04.711666Z"
    }
   },
   "outputs": [],
   "source": [
    "import numpy      as np\n",
    "import pandas     as pd\n",
    "import seaborn    as sns\n",
    "# pip install umap-learn\n",
    "import umap.umap_ as umap\n",
    "\n",
    "from IPython.display import HTML\n",
    "from sklearn         import cluster as c\n",
    "from sklearn         import metrics as m\n",
    "from plotly          import express as px\n",
    "from matplotlib      import pyplot  as plt\n",
    "from sklearn         import preprocessing as pp\n",
    "from yellowbrick.cluster import KElbowVisualizer, SilhouetteVisualizer\n",
    "from pandas_profiling import ProfileReport\n"
   ]
  },
  {
   "cell_type": "markdown",
   "id": "e76fe818",
   "metadata": {},
   "source": [
    "## 0.2 Helper Functions"
   ]
  },
  {
   "cell_type": "code",
   "execution_count": 2,
   "id": "79e557e3",
   "metadata": {
    "ExecuteTime": {
     "end_time": "2022-07-07T23:08:00.204823Z",
     "start_time": "2022-07-07T23:07:59.938975Z"
    }
   },
   "outputs": [
    {
     "name": "stdout",
     "output_type": "stream",
     "text": [
      "%pylab is deprecated, use %matplotlib inline and import the required libraries.\n",
      "Populating the interactive namespace from numpy and matplotlib\n"
     ]
    },
    {
     "data": {
      "text/html": [
       "<style>.container{width:100% !important;}</style>"
      ],
      "text/plain": [
       "<IPython.core.display.HTML object>"
      ]
     },
     "metadata": {},
     "output_type": "display_data"
    }
   ],
   "source": [
    "def jupyter_settings():\n",
    "    %matplotlib inline\n",
    "    %pylab inline\n",
    "    \n",
    "    plt.style.use('bmh')\n",
    "    plt.rcParams['figure.figsize'] = [25, 12]\n",
    "    plt.rcParams['font.size'] = 24\n",
    "    \n",
    "    display(HTML('<style>.container{width:100% !important;}</style>'))\n",
    "    pd.options.display.max_columns = None\n",
    "    pd.options.display.max_rows = None\n",
    "    pd.set_option('display.expand_frame_repr', False)\n",
    "    \n",
    "    sns.set()\n",
    "    \n",
    "jupyter_settings()"
   ]
  },
  {
   "cell_type": "markdown",
   "id": "d6eadf0b",
   "metadata": {},
   "source": [
    "## 0.3 Load Dataset"
   ]
  },
  {
   "cell_type": "code",
   "execution_count": 3,
   "id": "8b08ea6c",
   "metadata": {
    "ExecuteTime": {
     "end_time": "2022-07-07T23:08:06.102030Z",
     "start_time": "2022-07-07T23:08:00.219056Z"
    }
   },
   "outputs": [
    {
     "data": {
      "text/html": [
       "<div>\n",
       "<style scoped>\n",
       "    .dataframe tbody tr th:only-of-type {\n",
       "        vertical-align: middle;\n",
       "    }\n",
       "\n",
       "    .dataframe tbody tr th {\n",
       "        vertical-align: top;\n",
       "    }\n",
       "\n",
       "    .dataframe thead th {\n",
       "        text-align: right;\n",
       "    }\n",
       "</style>\n",
       "<table border=\"1\" class=\"dataframe\">\n",
       "  <thead>\n",
       "    <tr style=\"text-align: right;\">\n",
       "      <th></th>\n",
       "      <th>InvoiceNo</th>\n",
       "      <th>StockCode</th>\n",
       "      <th>Description</th>\n",
       "      <th>Quantity</th>\n",
       "      <th>InvoiceDate</th>\n",
       "      <th>UnitPrice</th>\n",
       "      <th>CustomerID</th>\n",
       "      <th>Country</th>\n",
       "    </tr>\n",
       "  </thead>\n",
       "  <tbody>\n",
       "    <tr>\n",
       "      <th>0</th>\n",
       "      <td>536365</td>\n",
       "      <td>85123A</td>\n",
       "      <td>WHITE HANGING HEART T-LIGHT HOLDER</td>\n",
       "      <td>6</td>\n",
       "      <td>29-Nov-16</td>\n",
       "      <td>2.55</td>\n",
       "      <td>17850.0</td>\n",
       "      <td>United Kingdom</td>\n",
       "    </tr>\n",
       "    <tr>\n",
       "      <th>1</th>\n",
       "      <td>536365</td>\n",
       "      <td>71053</td>\n",
       "      <td>WHITE METAL LANTERN</td>\n",
       "      <td>6</td>\n",
       "      <td>29-Nov-16</td>\n",
       "      <td>3.39</td>\n",
       "      <td>17850.0</td>\n",
       "      <td>United Kingdom</td>\n",
       "    </tr>\n",
       "    <tr>\n",
       "      <th>2</th>\n",
       "      <td>536365</td>\n",
       "      <td>84406B</td>\n",
       "      <td>CREAM CUPID HEARTS COAT HANGER</td>\n",
       "      <td>8</td>\n",
       "      <td>29-Nov-16</td>\n",
       "      <td>2.75</td>\n",
       "      <td>17850.0</td>\n",
       "      <td>United Kingdom</td>\n",
       "    </tr>\n",
       "    <tr>\n",
       "      <th>3</th>\n",
       "      <td>536365</td>\n",
       "      <td>84029G</td>\n",
       "      <td>KNITTED UNION FLAG HOT WATER BOTTLE</td>\n",
       "      <td>6</td>\n",
       "      <td>29-Nov-16</td>\n",
       "      <td>3.39</td>\n",
       "      <td>17850.0</td>\n",
       "      <td>United Kingdom</td>\n",
       "    </tr>\n",
       "    <tr>\n",
       "      <th>4</th>\n",
       "      <td>536365</td>\n",
       "      <td>84029E</td>\n",
       "      <td>RED WOOLLY HOTTIE WHITE HEART.</td>\n",
       "      <td>6</td>\n",
       "      <td>29-Nov-16</td>\n",
       "      <td>3.39</td>\n",
       "      <td>17850.0</td>\n",
       "      <td>United Kingdom</td>\n",
       "    </tr>\n",
       "  </tbody>\n",
       "</table>\n",
       "</div>"
      ],
      "text/plain": [
       "  InvoiceNo StockCode                          Description  Quantity InvoiceDate  UnitPrice  CustomerID         Country\n",
       "0    536365    85123A   WHITE HANGING HEART T-LIGHT HOLDER         6   29-Nov-16       2.55     17850.0  United Kingdom\n",
       "1    536365     71053                  WHITE METAL LANTERN         6   29-Nov-16       3.39     17850.0  United Kingdom\n",
       "2    536365    84406B       CREAM CUPID HEARTS COAT HANGER         8   29-Nov-16       2.75     17850.0  United Kingdom\n",
       "3    536365    84029G  KNITTED UNION FLAG HOT WATER BOTTLE         6   29-Nov-16       3.39     17850.0  United Kingdom\n",
       "4    536365    84029E       RED WOOLLY HOTTIE WHITE HEART.         6   29-Nov-16       3.39     17850.0  United Kingdom"
      ]
     },
     "execution_count": 3,
     "metadata": {},
     "output_type": "execute_result"
    }
   ],
   "source": [
    "# Load data\n",
    "df_raw = pd.read_csv('../data/raw/Ecommerce.csv', encoding='latin1')\n",
    "\n",
    "# Drop extra column\n",
    "df_raw = df_raw.drop(columns=['Unnamed: 8'], axis=1)\n",
    "df_raw.head()"
   ]
  },
  {
   "cell_type": "markdown",
   "id": "c738a5a6",
   "metadata": {
    "heading_collapsed": true
   },
   "source": [
    "# 1.0 Data Description"
   ]
  },
  {
   "cell_type": "code",
   "execution_count": 4,
   "id": "3a803aa7",
   "metadata": {
    "ExecuteTime": {
     "end_time": "2022-07-07T23:08:06.288650Z",
     "start_time": "2022-07-07T23:08:06.119571Z"
    },
    "hidden": true
   },
   "outputs": [],
   "source": [
    "df1 = df_raw.copy()"
   ]
  },
  {
   "cell_type": "markdown",
   "id": "f2ec9175",
   "metadata": {
    "heading_collapsed": true,
    "hidden": true
   },
   "source": [
    "## 1.1 Rename Columns"
   ]
  },
  {
   "cell_type": "code",
   "execution_count": 5,
   "id": "b8b25e24",
   "metadata": {
    "ExecuteTime": {
     "end_time": "2022-07-07T23:08:06.330402Z",
     "start_time": "2022-07-07T23:08:06.302234Z"
    },
    "hidden": true
   },
   "outputs": [
    {
     "data": {
      "text/plain": [
       "Index(['InvoiceNo', 'StockCode', 'Description', 'Quantity', 'InvoiceDate',\n",
       "       'UnitPrice', 'CustomerID', 'Country'],\n",
       "      dtype='object')"
      ]
     },
     "execution_count": 5,
     "metadata": {},
     "output_type": "execute_result"
    }
   ],
   "source": [
    "df1.columns"
   ]
  },
  {
   "cell_type": "code",
   "execution_count": 6,
   "id": "730339eb",
   "metadata": {
    "ExecuteTime": {
     "end_time": "2022-07-07T23:08:06.379273Z",
     "start_time": "2022-07-07T23:08:06.351247Z"
    },
    "hidden": true
   },
   "outputs": [],
   "source": [
    "cols_new = ['invoice_no', 'stock_code', 'description', 'quantity', 'invoice_date', 'unit_price', 'customer_id', 'country']\n",
    "df1.columns = cols_new"
   ]
  },
  {
   "cell_type": "code",
   "execution_count": 7,
   "id": "33756a84",
   "metadata": {
    "ExecuteTime": {
     "end_time": "2022-07-07T23:08:06.597555Z",
     "start_time": "2022-07-07T23:08:06.394767Z"
    },
    "hidden": true,
    "scrolled": true
   },
   "outputs": [
    {
     "data": {
      "text/html": [
       "<div>\n",
       "<style scoped>\n",
       "    .dataframe tbody tr th:only-of-type {\n",
       "        vertical-align: middle;\n",
       "    }\n",
       "\n",
       "    .dataframe tbody tr th {\n",
       "        vertical-align: top;\n",
       "    }\n",
       "\n",
       "    .dataframe thead th {\n",
       "        text-align: right;\n",
       "    }\n",
       "</style>\n",
       "<table border=\"1\" class=\"dataframe\">\n",
       "  <thead>\n",
       "    <tr style=\"text-align: right;\">\n",
       "      <th></th>\n",
       "      <th>invoice_no</th>\n",
       "      <th>stock_code</th>\n",
       "      <th>description</th>\n",
       "      <th>quantity</th>\n",
       "      <th>invoice_date</th>\n",
       "      <th>unit_price</th>\n",
       "      <th>customer_id</th>\n",
       "      <th>country</th>\n",
       "    </tr>\n",
       "  </thead>\n",
       "  <tbody>\n",
       "    <tr>\n",
       "      <th>198307</th>\n",
       "      <td>554030</td>\n",
       "      <td>23163</td>\n",
       "      <td>REGENCY SUGAR TONGS</td>\n",
       "      <td>8</td>\n",
       "      <td>18-May-17</td>\n",
       "      <td>2.49</td>\n",
       "      <td>16497.0</td>\n",
       "      <td>United Kingdom</td>\n",
       "    </tr>\n",
       "  </tbody>\n",
       "</table>\n",
       "</div>"
      ],
      "text/plain": [
       "       invoice_no stock_code          description  quantity invoice_date  unit_price  customer_id         country\n",
       "198307     554030      23163  REGENCY SUGAR TONGS         8    18-May-17        2.49      16497.0  United Kingdom"
      ]
     },
     "execution_count": 7,
     "metadata": {},
     "output_type": "execute_result"
    }
   ],
   "source": [
    "df1.sample()"
   ]
  },
  {
   "cell_type": "markdown",
   "id": "0065e8c2",
   "metadata": {
    "ExecuteTime": {
     "end_time": "2022-05-18T12:14:44.056343Z",
     "start_time": "2022-05-18T12:14:44.023405Z"
    },
    "heading_collapsed": true,
    "hidden": true
   },
   "source": [
    "## 1.2  Data Dimensions"
   ]
  },
  {
   "cell_type": "code",
   "execution_count": 8,
   "id": "66789601",
   "metadata": {
    "ExecuteTime": {
     "end_time": "2022-07-07T23:08:16.133584Z",
     "start_time": "2022-07-07T23:08:16.095322Z"
    },
    "hidden": true
   },
   "outputs": [
    {
     "name": "stdout",
     "output_type": "stream",
     "text": [
      "Number of rows:    541909\n",
      "Number of columns: 8\n"
     ]
    }
   ],
   "source": [
    "print(f'Number of rows:    {df1.shape[0]}')\n",
    "print(f'Number of columns: {df1.shape[1]}')"
   ]
  },
  {
   "cell_type": "markdown",
   "id": "7a8f8d8b",
   "metadata": {
    "heading_collapsed": true,
    "hidden": true
   },
   "source": [
    "## 1.3 Data Types"
   ]
  },
  {
   "cell_type": "code",
   "execution_count": 9,
   "id": "ac9f31bc",
   "metadata": {
    "ExecuteTime": {
     "end_time": "2022-07-07T23:08:20.113066Z",
     "start_time": "2022-07-07T23:08:20.064595Z"
    },
    "hidden": true
   },
   "outputs": [
    {
     "data": {
      "text/plain": [
       "invoice_no       object\n",
       "stock_code       object\n",
       "description      object\n",
       "quantity          int64\n",
       "invoice_date     object\n",
       "unit_price      float64\n",
       "customer_id     float64\n",
       "country          object\n",
       "dtype: object"
      ]
     },
     "execution_count": 9,
     "metadata": {},
     "output_type": "execute_result"
    }
   ],
   "source": [
    "df1.dtypes"
   ]
  },
  {
   "cell_type": "code",
   "execution_count": 10,
   "id": "747c0a04",
   "metadata": {
    "ExecuteTime": {
     "end_time": "2022-07-07T23:08:21.269585Z",
     "start_time": "2022-07-07T23:08:21.175329Z"
    },
    "hidden": true,
    "scrolled": true
   },
   "outputs": [
    {
     "data": {
      "text/html": [
       "<div>\n",
       "<style scoped>\n",
       "    .dataframe tbody tr th:only-of-type {\n",
       "        vertical-align: middle;\n",
       "    }\n",
       "\n",
       "    .dataframe tbody tr th {\n",
       "        vertical-align: top;\n",
       "    }\n",
       "\n",
       "    .dataframe thead th {\n",
       "        text-align: right;\n",
       "    }\n",
       "</style>\n",
       "<table border=\"1\" class=\"dataframe\">\n",
       "  <thead>\n",
       "    <tr style=\"text-align: right;\">\n",
       "      <th></th>\n",
       "      <th>invoice_no</th>\n",
       "      <th>stock_code</th>\n",
       "      <th>description</th>\n",
       "      <th>quantity</th>\n",
       "      <th>invoice_date</th>\n",
       "      <th>unit_price</th>\n",
       "      <th>customer_id</th>\n",
       "      <th>country</th>\n",
       "    </tr>\n",
       "  </thead>\n",
       "  <tbody>\n",
       "    <tr>\n",
       "      <th>0</th>\n",
       "      <td>536365</td>\n",
       "      <td>85123A</td>\n",
       "      <td>WHITE HANGING HEART T-LIGHT HOLDER</td>\n",
       "      <td>6</td>\n",
       "      <td>29-Nov-16</td>\n",
       "      <td>2.55</td>\n",
       "      <td>17850.0</td>\n",
       "      <td>United Kingdom</td>\n",
       "    </tr>\n",
       "    <tr>\n",
       "      <th>1</th>\n",
       "      <td>536365</td>\n",
       "      <td>71053</td>\n",
       "      <td>WHITE METAL LANTERN</td>\n",
       "      <td>6</td>\n",
       "      <td>29-Nov-16</td>\n",
       "      <td>3.39</td>\n",
       "      <td>17850.0</td>\n",
       "      <td>United Kingdom</td>\n",
       "    </tr>\n",
       "    <tr>\n",
       "      <th>2</th>\n",
       "      <td>536365</td>\n",
       "      <td>84406B</td>\n",
       "      <td>CREAM CUPID HEARTS COAT HANGER</td>\n",
       "      <td>8</td>\n",
       "      <td>29-Nov-16</td>\n",
       "      <td>2.75</td>\n",
       "      <td>17850.0</td>\n",
       "      <td>United Kingdom</td>\n",
       "    </tr>\n",
       "    <tr>\n",
       "      <th>3</th>\n",
       "      <td>536365</td>\n",
       "      <td>84029G</td>\n",
       "      <td>KNITTED UNION FLAG HOT WATER BOTTLE</td>\n",
       "      <td>6</td>\n",
       "      <td>29-Nov-16</td>\n",
       "      <td>3.39</td>\n",
       "      <td>17850.0</td>\n",
       "      <td>United Kingdom</td>\n",
       "    </tr>\n",
       "    <tr>\n",
       "      <th>4</th>\n",
       "      <td>536365</td>\n",
       "      <td>84029E</td>\n",
       "      <td>RED WOOLLY HOTTIE WHITE HEART.</td>\n",
       "      <td>6</td>\n",
       "      <td>29-Nov-16</td>\n",
       "      <td>3.39</td>\n",
       "      <td>17850.0</td>\n",
       "      <td>United Kingdom</td>\n",
       "    </tr>\n",
       "  </tbody>\n",
       "</table>\n",
       "</div>"
      ],
      "text/plain": [
       "  invoice_no stock_code                          description  quantity invoice_date  unit_price  customer_id         country\n",
       "0     536365     85123A   WHITE HANGING HEART T-LIGHT HOLDER         6    29-Nov-16        2.55      17850.0  United Kingdom\n",
       "1     536365      71053                  WHITE METAL LANTERN         6    29-Nov-16        3.39      17850.0  United Kingdom\n",
       "2     536365     84406B       CREAM CUPID HEARTS COAT HANGER         8    29-Nov-16        2.75      17850.0  United Kingdom\n",
       "3     536365     84029G  KNITTED UNION FLAG HOT WATER BOTTLE         6    29-Nov-16        3.39      17850.0  United Kingdom\n",
       "4     536365     84029E       RED WOOLLY HOTTIE WHITE HEART.         6    29-Nov-16        3.39      17850.0  United Kingdom"
      ]
     },
     "execution_count": 10,
     "metadata": {},
     "output_type": "execute_result"
    }
   ],
   "source": [
    "df1.head()"
   ]
  },
  {
   "cell_type": "code",
   "execution_count": 11,
   "id": "c2c0fa97",
   "metadata": {
    "ExecuteTime": {
     "end_time": "2022-07-07T23:08:55.253512Z",
     "start_time": "2022-07-07T23:08:55.224191Z"
    },
    "hidden": true
   },
   "outputs": [],
   "source": [
    "# to confirm the presence of caracters in the invoice_no we can force the type to int and see if it return an error\n",
    "# df1['invoice_no'] = df1['invoice_no'].astype(int)"
   ]
  },
  {
   "cell_type": "markdown",
   "id": "66e76f60",
   "metadata": {
    "heading_collapsed": true,
    "hidden": true
   },
   "source": [
    "## 1.4 Check NA"
   ]
  },
  {
   "cell_type": "code",
   "execution_count": 12,
   "id": "aca5d792",
   "metadata": {
    "ExecuteTime": {
     "end_time": "2022-07-07T23:09:02.643776Z",
     "start_time": "2022-07-07T23:08:57.782156Z"
    },
    "hidden": true
   },
   "outputs": [
    {
     "data": {
      "text/plain": [
       "invoice_no           0\n",
       "stock_code           0\n",
       "description       1454\n",
       "quantity             0\n",
       "invoice_date         0\n",
       "unit_price           0\n",
       "customer_id     135080\n",
       "country              0\n",
       "dtype: int64"
      ]
     },
     "execution_count": 12,
     "metadata": {},
     "output_type": "execute_result"
    }
   ],
   "source": [
    "df1.isna().sum()"
   ]
  },
  {
   "cell_type": "markdown",
   "id": "a27a1054",
   "metadata": {
    "heading_collapsed": true,
    "hidden": true
   },
   "source": [
    "## 1.5 Replace NA"
   ]
  },
  {
   "cell_type": "code",
   "execution_count": 13,
   "id": "4a537099",
   "metadata": {
    "ExecuteTime": {
     "end_time": "2022-07-07T23:09:03.064098Z",
     "start_time": "2022-07-07T23:09:02.669677Z"
    },
    "hidden": true
   },
   "outputs": [],
   "source": [
    "df_missing = df1.loc[df1['customer_id'].isna(), :]\n",
    "df_not_missing = df1.loc[~df1['customer_id'].isna(), :]"
   ]
  },
  {
   "cell_type": "code",
   "execution_count": 14,
   "id": "3335d2a1",
   "metadata": {
    "ExecuteTime": {
     "end_time": "2022-07-07T23:09:03.179250Z",
     "start_time": "2022-07-07T23:09:03.076405Z"
    },
    "hidden": true
   },
   "outputs": [
    {
     "data": {
      "text/html": [
       "<div>\n",
       "<style scoped>\n",
       "    .dataframe tbody tr th:only-of-type {\n",
       "        vertical-align: middle;\n",
       "    }\n",
       "\n",
       "    .dataframe tbody tr th {\n",
       "        vertical-align: top;\n",
       "    }\n",
       "\n",
       "    .dataframe thead th {\n",
       "        text-align: right;\n",
       "    }\n",
       "</style>\n",
       "<table border=\"1\" class=\"dataframe\">\n",
       "  <thead>\n",
       "    <tr style=\"text-align: right;\">\n",
       "      <th></th>\n",
       "      <th>invoice_no</th>\n",
       "      <th>stock_code</th>\n",
       "      <th>description</th>\n",
       "      <th>quantity</th>\n",
       "      <th>invoice_date</th>\n",
       "      <th>unit_price</th>\n",
       "      <th>customer_id</th>\n",
       "      <th>country</th>\n",
       "    </tr>\n",
       "  </thead>\n",
       "  <tbody>\n",
       "    <tr>\n",
       "      <th>622</th>\n",
       "      <td>536414</td>\n",
       "      <td>22139</td>\n",
       "      <td>NaN</td>\n",
       "      <td>56</td>\n",
       "      <td>29-Nov-16</td>\n",
       "      <td>0.00</td>\n",
       "      <td>NaN</td>\n",
       "      <td>United Kingdom</td>\n",
       "    </tr>\n",
       "    <tr>\n",
       "      <th>1443</th>\n",
       "      <td>536544</td>\n",
       "      <td>21773</td>\n",
       "      <td>DECORATIVE ROSE BATHROOM BOTTLE</td>\n",
       "      <td>1</td>\n",
       "      <td>29-Nov-16</td>\n",
       "      <td>2.51</td>\n",
       "      <td>NaN</td>\n",
       "      <td>United Kingdom</td>\n",
       "    </tr>\n",
       "    <tr>\n",
       "      <th>1444</th>\n",
       "      <td>536544</td>\n",
       "      <td>21774</td>\n",
       "      <td>DECORATIVE CATS BATHROOM BOTTLE</td>\n",
       "      <td>2</td>\n",
       "      <td>29-Nov-16</td>\n",
       "      <td>2.51</td>\n",
       "      <td>NaN</td>\n",
       "      <td>United Kingdom</td>\n",
       "    </tr>\n",
       "    <tr>\n",
       "      <th>1445</th>\n",
       "      <td>536544</td>\n",
       "      <td>21786</td>\n",
       "      <td>POLKADOT RAIN HAT</td>\n",
       "      <td>4</td>\n",
       "      <td>29-Nov-16</td>\n",
       "      <td>0.85</td>\n",
       "      <td>NaN</td>\n",
       "      <td>United Kingdom</td>\n",
       "    </tr>\n",
       "    <tr>\n",
       "      <th>1446</th>\n",
       "      <td>536544</td>\n",
       "      <td>21787</td>\n",
       "      <td>RAIN PONCHO RETROSPOT</td>\n",
       "      <td>2</td>\n",
       "      <td>29-Nov-16</td>\n",
       "      <td>1.66</td>\n",
       "      <td>NaN</td>\n",
       "      <td>United Kingdom</td>\n",
       "    </tr>\n",
       "  </tbody>\n",
       "</table>\n",
       "</div>"
      ],
      "text/plain": [
       "     invoice_no stock_code                      description  quantity invoice_date  unit_price  customer_id         country\n",
       "622      536414      22139                              NaN        56    29-Nov-16        0.00          NaN  United Kingdom\n",
       "1443     536544      21773  DECORATIVE ROSE BATHROOM BOTTLE         1    29-Nov-16        2.51          NaN  United Kingdom\n",
       "1444     536544      21774  DECORATIVE CATS BATHROOM BOTTLE         2    29-Nov-16        2.51          NaN  United Kingdom\n",
       "1445     536544      21786               POLKADOT RAIN HAT          4    29-Nov-16        0.85          NaN  United Kingdom\n",
       "1446     536544      21787            RAIN PONCHO RETROSPOT         2    29-Nov-16        1.66          NaN  United Kingdom"
      ]
     },
     "execution_count": 14,
     "metadata": {},
     "output_type": "execute_result"
    }
   ],
   "source": [
    "df_missing.head()"
   ]
  },
  {
   "cell_type": "code",
   "execution_count": 15,
   "id": "a0af8a23",
   "metadata": {
    "ExecuteTime": {
     "end_time": "2022-07-07T23:09:03.301033Z",
     "start_time": "2022-07-07T23:09:03.194865Z"
    },
    "hidden": true
   },
   "outputs": [
    {
     "data": {
      "text/html": [
       "<div>\n",
       "<style scoped>\n",
       "    .dataframe tbody tr th:only-of-type {\n",
       "        vertical-align: middle;\n",
       "    }\n",
       "\n",
       "    .dataframe tbody tr th {\n",
       "        vertical-align: top;\n",
       "    }\n",
       "\n",
       "    .dataframe thead th {\n",
       "        text-align: right;\n",
       "    }\n",
       "</style>\n",
       "<table border=\"1\" class=\"dataframe\">\n",
       "  <thead>\n",
       "    <tr style=\"text-align: right;\">\n",
       "      <th></th>\n",
       "      <th>invoice_no</th>\n",
       "      <th>stock_code</th>\n",
       "      <th>description</th>\n",
       "      <th>quantity</th>\n",
       "      <th>invoice_date</th>\n",
       "      <th>unit_price</th>\n",
       "      <th>customer_id</th>\n",
       "      <th>country</th>\n",
       "    </tr>\n",
       "  </thead>\n",
       "  <tbody>\n",
       "    <tr>\n",
       "      <th>0</th>\n",
       "      <td>536365</td>\n",
       "      <td>85123A</td>\n",
       "      <td>WHITE HANGING HEART T-LIGHT HOLDER</td>\n",
       "      <td>6</td>\n",
       "      <td>29-Nov-16</td>\n",
       "      <td>2.55</td>\n",
       "      <td>17850.0</td>\n",
       "      <td>United Kingdom</td>\n",
       "    </tr>\n",
       "    <tr>\n",
       "      <th>1</th>\n",
       "      <td>536365</td>\n",
       "      <td>71053</td>\n",
       "      <td>WHITE METAL LANTERN</td>\n",
       "      <td>6</td>\n",
       "      <td>29-Nov-16</td>\n",
       "      <td>3.39</td>\n",
       "      <td>17850.0</td>\n",
       "      <td>United Kingdom</td>\n",
       "    </tr>\n",
       "    <tr>\n",
       "      <th>2</th>\n",
       "      <td>536365</td>\n",
       "      <td>84406B</td>\n",
       "      <td>CREAM CUPID HEARTS COAT HANGER</td>\n",
       "      <td>8</td>\n",
       "      <td>29-Nov-16</td>\n",
       "      <td>2.75</td>\n",
       "      <td>17850.0</td>\n",
       "      <td>United Kingdom</td>\n",
       "    </tr>\n",
       "    <tr>\n",
       "      <th>3</th>\n",
       "      <td>536365</td>\n",
       "      <td>84029G</td>\n",
       "      <td>KNITTED UNION FLAG HOT WATER BOTTLE</td>\n",
       "      <td>6</td>\n",
       "      <td>29-Nov-16</td>\n",
       "      <td>3.39</td>\n",
       "      <td>17850.0</td>\n",
       "      <td>United Kingdom</td>\n",
       "    </tr>\n",
       "    <tr>\n",
       "      <th>4</th>\n",
       "      <td>536365</td>\n",
       "      <td>84029E</td>\n",
       "      <td>RED WOOLLY HOTTIE WHITE HEART.</td>\n",
       "      <td>6</td>\n",
       "      <td>29-Nov-16</td>\n",
       "      <td>3.39</td>\n",
       "      <td>17850.0</td>\n",
       "      <td>United Kingdom</td>\n",
       "    </tr>\n",
       "  </tbody>\n",
       "</table>\n",
       "</div>"
      ],
      "text/plain": [
       "  invoice_no stock_code                          description  quantity invoice_date  unit_price  customer_id         country\n",
       "0     536365     85123A   WHITE HANGING HEART T-LIGHT HOLDER         6    29-Nov-16        2.55      17850.0  United Kingdom\n",
       "1     536365      71053                  WHITE METAL LANTERN         6    29-Nov-16        3.39      17850.0  United Kingdom\n",
       "2     536365     84406B       CREAM CUPID HEARTS COAT HANGER         8    29-Nov-16        2.75      17850.0  United Kingdom\n",
       "3     536365     84029G  KNITTED UNION FLAG HOT WATER BOTTLE         6    29-Nov-16        3.39      17850.0  United Kingdom\n",
       "4     536365     84029E       RED WOOLLY HOTTIE WHITE HEART.         6    29-Nov-16        3.39      17850.0  United Kingdom"
      ]
     },
     "execution_count": 15,
     "metadata": {},
     "output_type": "execute_result"
    }
   ],
   "source": [
    "df_not_missing.head()"
   ]
  },
  {
   "cell_type": "code",
   "execution_count": 16,
   "id": "863a862a",
   "metadata": {
    "ExecuteTime": {
     "end_time": "2022-07-07T23:09:03.848824Z",
     "start_time": "2022-07-07T23:09:03.807680Z"
    },
    "hidden": true
   },
   "outputs": [
    {
     "data": {
      "text/plain": [
       "622     536414\n",
       "1443    536544\n",
       "1444    536544\n",
       "1445    536544\n",
       "1446    536544\n",
       "Name: invoice_no, dtype: object"
      ]
     },
     "execution_count": 16,
     "metadata": {},
     "output_type": "execute_result"
    }
   ],
   "source": [
    "missing_invoice = df_missing['invoice_no']\n",
    "missing_invoice.head()"
   ]
  },
  {
   "cell_type": "code",
   "execution_count": 17,
   "id": "8dc76079",
   "metadata": {
    "ExecuteTime": {
     "end_time": "2022-07-07T23:09:04.681812Z",
     "start_time": "2022-07-07T23:09:04.618801Z"
    },
    "hidden": true
   },
   "outputs": [
    {
     "data": {
      "text/plain": [
       "['536544',\n",
       " '536545',\n",
       " '536546',\n",
       " '536547',\n",
       " '536549',\n",
       " '536550',\n",
       " '536552',\n",
       " '536553',\n",
       " '536554']"
      ]
     },
     "execution_count": 17,
     "metadata": {},
     "output_type": "execute_result"
    }
   ],
   "source": [
    "missing_invoice = df_missing['invoice_no'].drop_duplicates().tolist()\n",
    "missing_invoice[1:10]"
   ]
  },
  {
   "cell_type": "code",
   "execution_count": 18,
   "id": "4a7dbb2b",
   "metadata": {
    "ExecuteTime": {
     "end_time": "2022-07-07T23:09:05.259998Z",
     "start_time": "2022-07-07T23:09:05.091658Z"
    },
    "hidden": true
   },
   "outputs": [
    {
     "data": {
      "text/html": [
       "<div>\n",
       "<style scoped>\n",
       "    .dataframe tbody tr th:only-of-type {\n",
       "        vertical-align: middle;\n",
       "    }\n",
       "\n",
       "    .dataframe tbody tr th {\n",
       "        vertical-align: top;\n",
       "    }\n",
       "\n",
       "    .dataframe thead th {\n",
       "        text-align: right;\n",
       "    }\n",
       "</style>\n",
       "<table border=\"1\" class=\"dataframe\">\n",
       "  <thead>\n",
       "    <tr style=\"text-align: right;\">\n",
       "      <th></th>\n",
       "      <th>invoice_no</th>\n",
       "      <th>stock_code</th>\n",
       "      <th>description</th>\n",
       "      <th>quantity</th>\n",
       "      <th>invoice_date</th>\n",
       "      <th>unit_price</th>\n",
       "      <th>customer_id</th>\n",
       "      <th>country</th>\n",
       "    </tr>\n",
       "  </thead>\n",
       "  <tbody>\n",
       "  </tbody>\n",
       "</table>\n",
       "</div>"
      ],
      "text/plain": [
       "Empty DataFrame\n",
       "Columns: [invoice_no, stock_code, description, quantity, invoice_date, unit_price, customer_id, country]\n",
       "Index: []"
      ]
     },
     "execution_count": 18,
     "metadata": {},
     "output_type": "execute_result"
    }
   ],
   "source": [
    "# searching for invoice_no in df_missing and df_not_missing\n",
    "df_not_missing.loc[df_not_missing['invoice_no'].isin(missing_invoice), :].head()"
   ]
  },
  {
   "cell_type": "code",
   "execution_count": 19,
   "id": "75bb6c9e",
   "metadata": {
    "ExecuteTime": {
     "end_time": "2022-07-07T23:09:05.644942Z",
     "start_time": "2022-07-07T23:09:05.618373Z"
    },
    "hidden": true
   },
   "outputs": [
    {
     "data": {
      "text/plain": [
       "18287.0"
      ]
     },
     "execution_count": 19,
     "metadata": {},
     "output_type": "execute_result"
    }
   ],
   "source": [
    "df_not_missing['customer_id'].max()"
   ]
  },
  {
   "cell_type": "code",
   "execution_count": 20,
   "id": "20315708",
   "metadata": {
    "ExecuteTime": {
     "end_time": "2022-07-07T23:09:06.362663Z",
     "start_time": "2022-07-07T23:09:06.349179Z"
    },
    "hidden": true
   },
   "outputs": [],
   "source": [
    "# Criando um df de backup para a atribuição dos customer_ids aleatórios"
   ]
  },
  {
   "cell_type": "code",
   "execution_count": 21,
   "id": "d1e62a40",
   "metadata": {
    "ExecuteTime": {
     "end_time": "2022-07-07T23:09:07.338367Z",
     "start_time": "2022-07-07T23:09:07.277615Z"
    },
    "hidden": true
   },
   "outputs": [],
   "source": [
    "# criando a referencia\n",
    "df_backup = pd.DataFrame(df_missing['invoice_no'].drop_duplicates())"
   ]
  },
  {
   "cell_type": "code",
   "execution_count": 22,
   "id": "5124787e",
   "metadata": {
    "ExecuteTime": {
     "end_time": "2022-07-07T23:09:08.289385Z",
     "start_time": "2022-07-07T23:09:08.224216Z"
    },
    "hidden": true
   },
   "outputs": [
    {
     "data": {
      "text/plain": [
       "array([ 19000,  19001,  19002, ..., 154077, 154078, 154079])"
      ]
     },
     "execution_count": 22,
     "metadata": {},
     "output_type": "execute_result"
    }
   ],
   "source": [
    "np.arange(19000, 19000+len(df_missing),1)"
   ]
  },
  {
   "cell_type": "code",
   "execution_count": 23,
   "id": "74191810",
   "metadata": {
    "ExecuteTime": {
     "end_time": "2022-07-07T23:09:09.509439Z",
     "start_time": "2022-07-07T23:09:09.416969Z"
    },
    "hidden": true,
    "scrolled": true
   },
   "outputs": [
    {
     "data": {
      "text/html": [
       "<div>\n",
       "<style scoped>\n",
       "    .dataframe tbody tr th:only-of-type {\n",
       "        vertical-align: middle;\n",
       "    }\n",
       "\n",
       "    .dataframe tbody tr th {\n",
       "        vertical-align: top;\n",
       "    }\n",
       "\n",
       "    .dataframe thead th {\n",
       "        text-align: right;\n",
       "    }\n",
       "</style>\n",
       "<table border=\"1\" class=\"dataframe\">\n",
       "  <thead>\n",
       "    <tr style=\"text-align: right;\">\n",
       "      <th></th>\n",
       "      <th>invoice_no</th>\n",
       "      <th>customer_id</th>\n",
       "    </tr>\n",
       "  </thead>\n",
       "  <tbody>\n",
       "    <tr>\n",
       "      <th>622</th>\n",
       "      <td>536414</td>\n",
       "      <td>19000</td>\n",
       "    </tr>\n",
       "    <tr>\n",
       "      <th>1443</th>\n",
       "      <td>536544</td>\n",
       "      <td>19001</td>\n",
       "    </tr>\n",
       "    <tr>\n",
       "      <th>1970</th>\n",
       "      <td>536545</td>\n",
       "      <td>19002</td>\n",
       "    </tr>\n",
       "    <tr>\n",
       "      <th>1971</th>\n",
       "      <td>536546</td>\n",
       "      <td>19003</td>\n",
       "    </tr>\n",
       "    <tr>\n",
       "      <th>1972</th>\n",
       "      <td>536547</td>\n",
       "      <td>19004</td>\n",
       "    </tr>\n",
       "  </tbody>\n",
       "</table>\n",
       "</div>"
      ],
      "text/plain": [
       "     invoice_no  customer_id\n",
       "622      536414        19000\n",
       "1443     536544        19001\n",
       "1970     536545        19002\n",
       "1971     536546        19003\n",
       "1972     536547        19004"
      ]
     },
     "execution_count": 23,
     "metadata": {},
     "output_type": "execute_result"
    }
   ],
   "source": [
    "df_backup['customer_id'] = np.arange(19000, 19000+len(df_backup), 1)\n",
    "\n",
    "df_backup.head()"
   ]
  },
  {
   "cell_type": "code",
   "execution_count": 24,
   "id": "39d974a2",
   "metadata": {
    "ExecuteTime": {
     "end_time": "2022-07-07T23:09:11.472285Z",
     "start_time": "2022-07-07T23:09:10.235793Z"
    },
    "hidden": true
   },
   "outputs": [
    {
     "data": {
      "text/html": [
       "<div>\n",
       "<style scoped>\n",
       "    .dataframe tbody tr th:only-of-type {\n",
       "        vertical-align: middle;\n",
       "    }\n",
       "\n",
       "    .dataframe tbody tr th {\n",
       "        vertical-align: top;\n",
       "    }\n",
       "\n",
       "    .dataframe thead th {\n",
       "        text-align: right;\n",
       "    }\n",
       "</style>\n",
       "<table border=\"1\" class=\"dataframe\">\n",
       "  <thead>\n",
       "    <tr style=\"text-align: right;\">\n",
       "      <th></th>\n",
       "      <th>invoice_no</th>\n",
       "      <th>stock_code</th>\n",
       "      <th>description</th>\n",
       "      <th>quantity</th>\n",
       "      <th>invoice_date</th>\n",
       "      <th>unit_price</th>\n",
       "      <th>customer_id_x</th>\n",
       "      <th>country</th>\n",
       "      <th>customer_id_y</th>\n",
       "    </tr>\n",
       "  </thead>\n",
       "  <tbody>\n",
       "    <tr>\n",
       "      <th>0</th>\n",
       "      <td>536365</td>\n",
       "      <td>85123A</td>\n",
       "      <td>WHITE HANGING HEART T-LIGHT HOLDER</td>\n",
       "      <td>6</td>\n",
       "      <td>29-Nov-16</td>\n",
       "      <td>2.55</td>\n",
       "      <td>17850.0</td>\n",
       "      <td>United Kingdom</td>\n",
       "      <td>NaN</td>\n",
       "    </tr>\n",
       "    <tr>\n",
       "      <th>1</th>\n",
       "      <td>536365</td>\n",
       "      <td>71053</td>\n",
       "      <td>WHITE METAL LANTERN</td>\n",
       "      <td>6</td>\n",
       "      <td>29-Nov-16</td>\n",
       "      <td>3.39</td>\n",
       "      <td>17850.0</td>\n",
       "      <td>United Kingdom</td>\n",
       "      <td>NaN</td>\n",
       "    </tr>\n",
       "    <tr>\n",
       "      <th>2</th>\n",
       "      <td>536365</td>\n",
       "      <td>84406B</td>\n",
       "      <td>CREAM CUPID HEARTS COAT HANGER</td>\n",
       "      <td>8</td>\n",
       "      <td>29-Nov-16</td>\n",
       "      <td>2.75</td>\n",
       "      <td>17850.0</td>\n",
       "      <td>United Kingdom</td>\n",
       "      <td>NaN</td>\n",
       "    </tr>\n",
       "    <tr>\n",
       "      <th>3</th>\n",
       "      <td>536365</td>\n",
       "      <td>84029G</td>\n",
       "      <td>KNITTED UNION FLAG HOT WATER BOTTLE</td>\n",
       "      <td>6</td>\n",
       "      <td>29-Nov-16</td>\n",
       "      <td>3.39</td>\n",
       "      <td>17850.0</td>\n",
       "      <td>United Kingdom</td>\n",
       "      <td>NaN</td>\n",
       "    </tr>\n",
       "    <tr>\n",
       "      <th>4</th>\n",
       "      <td>536365</td>\n",
       "      <td>84029E</td>\n",
       "      <td>RED WOOLLY HOTTIE WHITE HEART.</td>\n",
       "      <td>6</td>\n",
       "      <td>29-Nov-16</td>\n",
       "      <td>3.39</td>\n",
       "      <td>17850.0</td>\n",
       "      <td>United Kingdom</td>\n",
       "      <td>NaN</td>\n",
       "    </tr>\n",
       "  </tbody>\n",
       "</table>\n",
       "</div>"
      ],
      "text/plain": [
       "  invoice_no stock_code                          description  quantity invoice_date  unit_price  customer_id_x         country  customer_id_y\n",
       "0     536365     85123A   WHITE HANGING HEART T-LIGHT HOLDER         6    29-Nov-16        2.55        17850.0  United Kingdom            NaN\n",
       "1     536365      71053                  WHITE METAL LANTERN         6    29-Nov-16        3.39        17850.0  United Kingdom            NaN\n",
       "2     536365     84406B       CREAM CUPID HEARTS COAT HANGER         8    29-Nov-16        2.75        17850.0  United Kingdom            NaN\n",
       "3     536365     84029G  KNITTED UNION FLAG HOT WATER BOTTLE         6    29-Nov-16        3.39        17850.0  United Kingdom            NaN\n",
       "4     536365     84029E       RED WOOLLY HOTTIE WHITE HEART.         6    29-Nov-16        3.39        17850.0  United Kingdom            NaN"
      ]
     },
     "execution_count": 24,
     "metadata": {},
     "output_type": "execute_result"
    }
   ],
   "source": [
    "# merge original with reference dataframe\n",
    "df1 = pd.merge(df1, df_backup, on='invoice_no', how='left')\n",
    "df1.head()"
   ]
  },
  {
   "cell_type": "code",
   "execution_count": 25,
   "id": "e84c7c95",
   "metadata": {
    "ExecuteTime": {
     "end_time": "2022-07-07T23:09:12.004837Z",
     "start_time": "2022-07-07T23:09:11.491467Z"
    },
    "hidden": true
   },
   "outputs": [
    {
     "data": {
      "text/html": [
       "<div>\n",
       "<style scoped>\n",
       "    .dataframe tbody tr th:only-of-type {\n",
       "        vertical-align: middle;\n",
       "    }\n",
       "\n",
       "    .dataframe tbody tr th {\n",
       "        vertical-align: top;\n",
       "    }\n",
       "\n",
       "    .dataframe thead th {\n",
       "        text-align: right;\n",
       "    }\n",
       "</style>\n",
       "<table border=\"1\" class=\"dataframe\">\n",
       "  <thead>\n",
       "    <tr style=\"text-align: right;\">\n",
       "      <th></th>\n",
       "      <th>invoice_no</th>\n",
       "      <th>stock_code</th>\n",
       "      <th>description</th>\n",
       "      <th>quantity</th>\n",
       "      <th>invoice_date</th>\n",
       "      <th>unit_price</th>\n",
       "      <th>country</th>\n",
       "      <th>customer_id</th>\n",
       "    </tr>\n",
       "  </thead>\n",
       "  <tbody>\n",
       "    <tr>\n",
       "      <th>0</th>\n",
       "      <td>536365</td>\n",
       "      <td>85123A</td>\n",
       "      <td>WHITE HANGING HEART T-LIGHT HOLDER</td>\n",
       "      <td>6</td>\n",
       "      <td>29-Nov-16</td>\n",
       "      <td>2.55</td>\n",
       "      <td>United Kingdom</td>\n",
       "      <td>17850.0</td>\n",
       "    </tr>\n",
       "    <tr>\n",
       "      <th>1</th>\n",
       "      <td>536365</td>\n",
       "      <td>71053</td>\n",
       "      <td>WHITE METAL LANTERN</td>\n",
       "      <td>6</td>\n",
       "      <td>29-Nov-16</td>\n",
       "      <td>3.39</td>\n",
       "      <td>United Kingdom</td>\n",
       "      <td>17850.0</td>\n",
       "    </tr>\n",
       "    <tr>\n",
       "      <th>2</th>\n",
       "      <td>536365</td>\n",
       "      <td>84406B</td>\n",
       "      <td>CREAM CUPID HEARTS COAT HANGER</td>\n",
       "      <td>8</td>\n",
       "      <td>29-Nov-16</td>\n",
       "      <td>2.75</td>\n",
       "      <td>United Kingdom</td>\n",
       "      <td>17850.0</td>\n",
       "    </tr>\n",
       "    <tr>\n",
       "      <th>3</th>\n",
       "      <td>536365</td>\n",
       "      <td>84029G</td>\n",
       "      <td>KNITTED UNION FLAG HOT WATER BOTTLE</td>\n",
       "      <td>6</td>\n",
       "      <td>29-Nov-16</td>\n",
       "      <td>3.39</td>\n",
       "      <td>United Kingdom</td>\n",
       "      <td>17850.0</td>\n",
       "    </tr>\n",
       "    <tr>\n",
       "      <th>4</th>\n",
       "      <td>536365</td>\n",
       "      <td>84029E</td>\n",
       "      <td>RED WOOLLY HOTTIE WHITE HEART.</td>\n",
       "      <td>6</td>\n",
       "      <td>29-Nov-16</td>\n",
       "      <td>3.39</td>\n",
       "      <td>United Kingdom</td>\n",
       "      <td>17850.0</td>\n",
       "    </tr>\n",
       "  </tbody>\n",
       "</table>\n",
       "</div>"
      ],
      "text/plain": [
       "  invoice_no stock_code                          description  quantity invoice_date  unit_price         country  customer_id\n",
       "0     536365     85123A   WHITE HANGING HEART T-LIGHT HOLDER         6    29-Nov-16        2.55  United Kingdom      17850.0\n",
       "1     536365      71053                  WHITE METAL LANTERN         6    29-Nov-16        3.39  United Kingdom      17850.0\n",
       "2     536365     84406B       CREAM CUPID HEARTS COAT HANGER         8    29-Nov-16        2.75  United Kingdom      17850.0\n",
       "3     536365     84029G  KNITTED UNION FLAG HOT WATER BOTTLE         6    29-Nov-16        3.39  United Kingdom      17850.0\n",
       "4     536365     84029E       RED WOOLLY HOTTIE WHITE HEART.         6    29-Nov-16        3.39  United Kingdom      17850.0"
      ]
     },
     "execution_count": 25,
     "metadata": {},
     "output_type": "execute_result"
    }
   ],
   "source": [
    "# combining customer_id_x com customer_id_y\n",
    "# coalesce\n",
    "df1['customer_id'] = df1['customer_id_x'].combine_first(df1['customer_id_y'])\n",
    "\n",
    "# drop extra columns\n",
    "df1 = df1.drop(columns=['customer_id_x', 'customer_id_y'], axis=1)\n",
    "df1.head()"
   ]
  },
  {
   "cell_type": "code",
   "execution_count": 26,
   "id": "c4780ac4",
   "metadata": {
    "ExecuteTime": {
     "end_time": "2022-07-07T23:09:16.978388Z",
     "start_time": "2022-07-07T23:09:12.040074Z"
    },
    "hidden": true
   },
   "outputs": [
    {
     "data": {
      "text/plain": [
       "invoice_no         0\n",
       "stock_code         0\n",
       "description     1454\n",
       "quantity           0\n",
       "invoice_date       0\n",
       "unit_price         0\n",
       "country            0\n",
       "customer_id        0\n",
       "dtype: int64"
      ]
     },
     "execution_count": 26,
     "metadata": {},
     "output_type": "execute_result"
    }
   ],
   "source": [
    "df1.isna().sum()"
   ]
  },
  {
   "cell_type": "markdown",
   "id": "572d70e2",
   "metadata": {
    "heading_collapsed": true,
    "hidden": true
   },
   "source": [
    "## 1.6 Change Types"
   ]
  },
  {
   "cell_type": "code",
   "execution_count": 27,
   "id": "35e95d65",
   "metadata": {
    "ExecuteTime": {
     "end_time": "2022-07-07T23:09:17.039241Z",
     "start_time": "2022-07-07T23:09:16.996031Z"
    },
    "hidden": true
   },
   "outputs": [
    {
     "data": {
      "text/plain": [
       "invoice_no       object\n",
       "stock_code       object\n",
       "description      object\n",
       "quantity          int64\n",
       "invoice_date     object\n",
       "unit_price      float64\n",
       "country          object\n",
       "customer_id     float64\n",
       "dtype: object"
      ]
     },
     "execution_count": 27,
     "metadata": {},
     "output_type": "execute_result"
    }
   ],
   "source": [
    "df1.dtypes"
   ]
  },
  {
   "cell_type": "code",
   "execution_count": 28,
   "id": "2f78a8d2",
   "metadata": {
    "ExecuteTime": {
     "end_time": "2022-07-07T23:09:17.164512Z",
     "start_time": "2022-07-07T23:09:17.055188Z"
    },
    "hidden": true
   },
   "outputs": [
    {
     "data": {
      "text/html": [
       "<div>\n",
       "<style scoped>\n",
       "    .dataframe tbody tr th:only-of-type {\n",
       "        vertical-align: middle;\n",
       "    }\n",
       "\n",
       "    .dataframe tbody tr th {\n",
       "        vertical-align: top;\n",
       "    }\n",
       "\n",
       "    .dataframe thead th {\n",
       "        text-align: right;\n",
       "    }\n",
       "</style>\n",
       "<table border=\"1\" class=\"dataframe\">\n",
       "  <thead>\n",
       "    <tr style=\"text-align: right;\">\n",
       "      <th></th>\n",
       "      <th>invoice_no</th>\n",
       "      <th>stock_code</th>\n",
       "      <th>description</th>\n",
       "      <th>quantity</th>\n",
       "      <th>invoice_date</th>\n",
       "      <th>unit_price</th>\n",
       "      <th>country</th>\n",
       "      <th>customer_id</th>\n",
       "    </tr>\n",
       "  </thead>\n",
       "  <tbody>\n",
       "    <tr>\n",
       "      <th>0</th>\n",
       "      <td>536365</td>\n",
       "      <td>85123A</td>\n",
       "      <td>WHITE HANGING HEART T-LIGHT HOLDER</td>\n",
       "      <td>6</td>\n",
       "      <td>29-Nov-16</td>\n",
       "      <td>2.55</td>\n",
       "      <td>United Kingdom</td>\n",
       "      <td>17850.0</td>\n",
       "    </tr>\n",
       "    <tr>\n",
       "      <th>1</th>\n",
       "      <td>536365</td>\n",
       "      <td>71053</td>\n",
       "      <td>WHITE METAL LANTERN</td>\n",
       "      <td>6</td>\n",
       "      <td>29-Nov-16</td>\n",
       "      <td>3.39</td>\n",
       "      <td>United Kingdom</td>\n",
       "      <td>17850.0</td>\n",
       "    </tr>\n",
       "    <tr>\n",
       "      <th>2</th>\n",
       "      <td>536365</td>\n",
       "      <td>84406B</td>\n",
       "      <td>CREAM CUPID HEARTS COAT HANGER</td>\n",
       "      <td>8</td>\n",
       "      <td>29-Nov-16</td>\n",
       "      <td>2.75</td>\n",
       "      <td>United Kingdom</td>\n",
       "      <td>17850.0</td>\n",
       "    </tr>\n",
       "    <tr>\n",
       "      <th>3</th>\n",
       "      <td>536365</td>\n",
       "      <td>84029G</td>\n",
       "      <td>KNITTED UNION FLAG HOT WATER BOTTLE</td>\n",
       "      <td>6</td>\n",
       "      <td>29-Nov-16</td>\n",
       "      <td>3.39</td>\n",
       "      <td>United Kingdom</td>\n",
       "      <td>17850.0</td>\n",
       "    </tr>\n",
       "    <tr>\n",
       "      <th>4</th>\n",
       "      <td>536365</td>\n",
       "      <td>84029E</td>\n",
       "      <td>RED WOOLLY HOTTIE WHITE HEART.</td>\n",
       "      <td>6</td>\n",
       "      <td>29-Nov-16</td>\n",
       "      <td>3.39</td>\n",
       "      <td>United Kingdom</td>\n",
       "      <td>17850.0</td>\n",
       "    </tr>\n",
       "  </tbody>\n",
       "</table>\n",
       "</div>"
      ],
      "text/plain": [
       "  invoice_no stock_code                          description  quantity invoice_date  unit_price         country  customer_id\n",
       "0     536365     85123A   WHITE HANGING HEART T-LIGHT HOLDER         6    29-Nov-16        2.55  United Kingdom      17850.0\n",
       "1     536365      71053                  WHITE METAL LANTERN         6    29-Nov-16        3.39  United Kingdom      17850.0\n",
       "2     536365     84406B       CREAM CUPID HEARTS COAT HANGER         8    29-Nov-16        2.75  United Kingdom      17850.0\n",
       "3     536365     84029G  KNITTED UNION FLAG HOT WATER BOTTLE         6    29-Nov-16        3.39  United Kingdom      17850.0\n",
       "4     536365     84029E       RED WOOLLY HOTTIE WHITE HEART.         6    29-Nov-16        3.39  United Kingdom      17850.0"
      ]
     },
     "execution_count": 28,
     "metadata": {},
     "output_type": "execute_result"
    }
   ],
   "source": [
    "df1.head()"
   ]
  },
  {
   "cell_type": "code",
   "execution_count": 29,
   "id": "3d7470c8",
   "metadata": {
    "ExecuteTime": {
     "end_time": "2022-07-07T23:09:17.642330Z",
     "start_time": "2022-07-07T23:09:17.187766Z"
    },
    "hidden": true
   },
   "outputs": [],
   "source": [
    "# invoice_date\n",
    "df1['invoice_date'] = pd.to_datetime(df1['invoice_date'], format='%d-%b-%y')"
   ]
  },
  {
   "cell_type": "code",
   "execution_count": 30,
   "id": "abf17ffb",
   "metadata": {
    "ExecuteTime": {
     "end_time": "2022-07-07T23:09:17.797653Z",
     "start_time": "2022-07-07T23:09:17.654659Z"
    },
    "hidden": true,
    "scrolled": true
   },
   "outputs": [
    {
     "data": {
      "text/html": [
       "<div>\n",
       "<style scoped>\n",
       "    .dataframe tbody tr th:only-of-type {\n",
       "        vertical-align: middle;\n",
       "    }\n",
       "\n",
       "    .dataframe tbody tr th {\n",
       "        vertical-align: top;\n",
       "    }\n",
       "\n",
       "    .dataframe thead th {\n",
       "        text-align: right;\n",
       "    }\n",
       "</style>\n",
       "<table border=\"1\" class=\"dataframe\">\n",
       "  <thead>\n",
       "    <tr style=\"text-align: right;\">\n",
       "      <th></th>\n",
       "      <th>invoice_no</th>\n",
       "      <th>stock_code</th>\n",
       "      <th>description</th>\n",
       "      <th>quantity</th>\n",
       "      <th>invoice_date</th>\n",
       "      <th>unit_price</th>\n",
       "      <th>country</th>\n",
       "      <th>customer_id</th>\n",
       "    </tr>\n",
       "  </thead>\n",
       "  <tbody>\n",
       "    <tr>\n",
       "      <th>0</th>\n",
       "      <td>536365</td>\n",
       "      <td>85123A</td>\n",
       "      <td>WHITE HANGING HEART T-LIGHT HOLDER</td>\n",
       "      <td>6</td>\n",
       "      <td>2016-11-29</td>\n",
       "      <td>2.55</td>\n",
       "      <td>United Kingdom</td>\n",
       "      <td>17850</td>\n",
       "    </tr>\n",
       "    <tr>\n",
       "      <th>1</th>\n",
       "      <td>536365</td>\n",
       "      <td>71053</td>\n",
       "      <td>WHITE METAL LANTERN</td>\n",
       "      <td>6</td>\n",
       "      <td>2016-11-29</td>\n",
       "      <td>3.39</td>\n",
       "      <td>United Kingdom</td>\n",
       "      <td>17850</td>\n",
       "    </tr>\n",
       "    <tr>\n",
       "      <th>2</th>\n",
       "      <td>536365</td>\n",
       "      <td>84406B</td>\n",
       "      <td>CREAM CUPID HEARTS COAT HANGER</td>\n",
       "      <td>8</td>\n",
       "      <td>2016-11-29</td>\n",
       "      <td>2.75</td>\n",
       "      <td>United Kingdom</td>\n",
       "      <td>17850</td>\n",
       "    </tr>\n",
       "    <tr>\n",
       "      <th>3</th>\n",
       "      <td>536365</td>\n",
       "      <td>84029G</td>\n",
       "      <td>KNITTED UNION FLAG HOT WATER BOTTLE</td>\n",
       "      <td>6</td>\n",
       "      <td>2016-11-29</td>\n",
       "      <td>3.39</td>\n",
       "      <td>United Kingdom</td>\n",
       "      <td>17850</td>\n",
       "    </tr>\n",
       "    <tr>\n",
       "      <th>4</th>\n",
       "      <td>536365</td>\n",
       "      <td>84029E</td>\n",
       "      <td>RED WOOLLY HOTTIE WHITE HEART.</td>\n",
       "      <td>6</td>\n",
       "      <td>2016-11-29</td>\n",
       "      <td>3.39</td>\n",
       "      <td>United Kingdom</td>\n",
       "      <td>17850</td>\n",
       "    </tr>\n",
       "  </tbody>\n",
       "</table>\n",
       "</div>"
      ],
      "text/plain": [
       "  invoice_no stock_code                          description  quantity invoice_date  unit_price         country  customer_id\n",
       "0     536365     85123A   WHITE HANGING HEART T-LIGHT HOLDER         6   2016-11-29        2.55  United Kingdom        17850\n",
       "1     536365      71053                  WHITE METAL LANTERN         6   2016-11-29        3.39  United Kingdom        17850\n",
       "2     536365     84406B       CREAM CUPID HEARTS COAT HANGER         8   2016-11-29        2.75  United Kingdom        17850\n",
       "3     536365     84029G  KNITTED UNION FLAG HOT WATER BOTTLE         6   2016-11-29        3.39  United Kingdom        17850\n",
       "4     536365     84029E       RED WOOLLY HOTTIE WHITE HEART.         6   2016-11-29        3.39  United Kingdom        17850"
      ]
     },
     "execution_count": 30,
     "metadata": {},
     "output_type": "execute_result"
    }
   ],
   "source": [
    "# customer_id\n",
    "df1['customer_id'] = df1['customer_id'].astype(int)\n",
    "df1.head()"
   ]
  },
  {
   "cell_type": "code",
   "execution_count": 31,
   "id": "d3c8b42e",
   "metadata": {
    "ExecuteTime": {
     "end_time": "2022-07-07T23:09:18.176072Z",
     "start_time": "2022-07-07T23:09:18.135892Z"
    },
    "hidden": true
   },
   "outputs": [
    {
     "data": {
      "text/plain": [
       "invoice_no              object\n",
       "stock_code              object\n",
       "description             object\n",
       "quantity                 int64\n",
       "invoice_date    datetime64[ns]\n",
       "unit_price             float64\n",
       "country                 object\n",
       "customer_id              int64\n",
       "dtype: object"
      ]
     },
     "execution_count": 31,
     "metadata": {},
     "output_type": "execute_result"
    }
   ],
   "source": [
    "df1.dtypes"
   ]
  },
  {
   "cell_type": "markdown",
   "id": "2edb1bfd",
   "metadata": {
    "heading_collapsed": true,
    "hidden": true
   },
   "source": [
    "## 1.7 Descriptive Statistics"
   ]
  },
  {
   "cell_type": "markdown",
   "id": "9caeb3f5",
   "metadata": {
    "ExecuteTime": {
     "end_time": "2022-06-10T18:37:48.730923Z",
     "start_time": "2022-06-10T18:37:48.721502Z"
    },
    "hidden": true
   },
   "source": [
    "### 1.7.1 Numerical Attributes"
   ]
  },
  {
   "cell_type": "code",
   "execution_count": 32,
   "id": "b46a9b65",
   "metadata": {
    "ExecuteTime": {
     "end_time": "2022-07-07T23:09:44.782515Z",
     "start_time": "2022-07-07T23:09:44.754340Z"
    },
    "hidden": true
   },
   "outputs": [],
   "source": [
    "num_attributes = df1.select_dtypes(include=['int64', 'float64'])\n",
    "cat_attributes = df1.select_dtypes(exclude=['int64', 'float64', 'datetime64[ns]'])"
   ]
  },
  {
   "cell_type": "code",
   "execution_count": 33,
   "id": "00953ad8",
   "metadata": {
    "ExecuteTime": {
     "end_time": "2022-07-07T23:09:46.468929Z",
     "start_time": "2022-07-07T23:09:45.648530Z"
    },
    "hidden": true
   },
   "outputs": [
    {
     "data": {
      "text/html": [
       "<div>\n",
       "<style scoped>\n",
       "    .dataframe tbody tr th:only-of-type {\n",
       "        vertical-align: middle;\n",
       "    }\n",
       "\n",
       "    .dataframe tbody tr th {\n",
       "        vertical-align: top;\n",
       "    }\n",
       "\n",
       "    .dataframe thead th {\n",
       "        text-align: right;\n",
       "    }\n",
       "</style>\n",
       "<table border=\"1\" class=\"dataframe\">\n",
       "  <thead>\n",
       "    <tr style=\"text-align: right;\">\n",
       "      <th></th>\n",
       "      <th>attributes</th>\n",
       "      <th>min</th>\n",
       "      <th>max</th>\n",
       "      <th>range</th>\n",
       "      <th>mean</th>\n",
       "      <th>median</th>\n",
       "      <th>std</th>\n",
       "      <th>skew</th>\n",
       "      <th>kurtosis</th>\n",
       "    </tr>\n",
       "  </thead>\n",
       "  <tbody>\n",
       "    <tr>\n",
       "      <th>0</th>\n",
       "      <td>quantity</td>\n",
       "      <td>-80995.00</td>\n",
       "      <td>80995.0</td>\n",
       "      <td>161990.00</td>\n",
       "      <td>9.552250</td>\n",
       "      <td>3.00</td>\n",
       "      <td>218.080957</td>\n",
       "      <td>-0.264076</td>\n",
       "      <td>119769.160031</td>\n",
       "    </tr>\n",
       "    <tr>\n",
       "      <th>1</th>\n",
       "      <td>unit_price</td>\n",
       "      <td>-11062.06</td>\n",
       "      <td>38970.0</td>\n",
       "      <td>50032.06</td>\n",
       "      <td>4.611114</td>\n",
       "      <td>2.08</td>\n",
       "      <td>96.759764</td>\n",
       "      <td>186.506972</td>\n",
       "      <td>59005.719097</td>\n",
       "    </tr>\n",
       "    <tr>\n",
       "      <th>2</th>\n",
       "      <td>customer_id</td>\n",
       "      <td>12346.00</td>\n",
       "      <td>22709.0</td>\n",
       "      <td>10363.00</td>\n",
       "      <td>16688.840453</td>\n",
       "      <td>16249.00</td>\n",
       "      <td>2911.408666</td>\n",
       "      <td>0.487449</td>\n",
       "      <td>-0.804287</td>\n",
       "    </tr>\n",
       "  </tbody>\n",
       "</table>\n",
       "</div>"
      ],
      "text/plain": [
       "    attributes       min      max      range          mean    median          std        skew       kurtosis\n",
       "0     quantity -80995.00  80995.0  161990.00      9.552250      3.00   218.080957   -0.264076  119769.160031\n",
       "1   unit_price -11062.06  38970.0   50032.06      4.611114      2.08    96.759764  186.506972   59005.719097\n",
       "2  customer_id  12346.00  22709.0   10363.00  16688.840453  16249.00  2911.408666    0.487449      -0.804287"
      ]
     },
     "execution_count": 33,
     "metadata": {},
     "output_type": "execute_result"
    }
   ],
   "source": [
    "# central tendency - mean, median\n",
    "ct1 = pd.DataFrame(num_attributes.apply(np.mean)).T\n",
    "ct2 = pd.DataFrame(num_attributes.apply(np.median)).T\n",
    "\n",
    "# dispersion - desvio padrão, minimo, maximo, range, skew, kurtosis\n",
    "d1 = pd.DataFrame(num_attributes.apply(np.std)).T\n",
    "d2 = pd.DataFrame(num_attributes.apply(np.min)).T\n",
    "d3 = pd.DataFrame(num_attributes.apply(np.max)).T\n",
    "d4 = pd.DataFrame(num_attributes.apply(lambda x: x.max() - x.min())).T\n",
    "d5 = pd.DataFrame(num_attributes.apply(lambda x: x.skew())).T\n",
    "d6 = pd.DataFrame(num_attributes.apply(lambda x: x.kurtosis())).T\n",
    "\n",
    "# concatenate\n",
    "m = pd.concat([d2, d3, d4, ct1, ct2, d1, d5, d6]).T.reset_index()\n",
    "m.columns = ['attributes', 'min', 'max', 'range', 'mean', 'median', 'std', 'skew', 'kurtosis']\n",
    "m"
   ]
  },
  {
   "cell_type": "markdown",
   "id": "50e3b70c",
   "metadata": {
    "hidden": true
   },
   "source": [
    "#### 1.7.1.1 Numerical Attributes - Investigating"
   ]
  },
  {
   "cell_type": "markdown",
   "id": "a72367a2",
   "metadata": {
    "hidden": true
   },
   "source": [
    "1. Quantidade negativa (pode ser devolução)\n",
    "2. Preço unitário igual a zero (pode ser promoção)"
   ]
  },
  {
   "cell_type": "markdown",
   "id": "630a00c8",
   "metadata": {
    "ExecuteTime": {
     "end_time": "2022-06-11T15:05:11.302224Z",
     "start_time": "2022-06-11T15:05:11.287278Z"
    },
    "hidden": true
   },
   "source": [
    "### 1.7.2 Categorical Attributes"
   ]
  },
  {
   "cell_type": "markdown",
   "id": "15f3bc27",
   "metadata": {
    "ExecuteTime": {
     "end_time": "2022-06-14T13:56:44.378692Z",
     "start_time": "2022-06-14T13:56:44.343231Z"
    },
    "hidden": true
   },
   "source": [
    "#### invoice number"
   ]
  },
  {
   "cell_type": "code",
   "execution_count": 34,
   "id": "4b910d94",
   "metadata": {
    "ExecuteTime": {
     "end_time": "2022-07-07T23:09:51.469956Z",
     "start_time": "2022-07-07T23:09:51.454456Z"
    },
    "hidden": true
   },
   "outputs": [],
   "source": [
    "# cat_attributes['invoice_no'].astype(int)"
   ]
  },
  {
   "cell_type": "code",
   "execution_count": 35,
   "id": "9a715d61",
   "metadata": {
    "ExecuteTime": {
     "end_time": "2022-07-07T23:10:02.035160Z",
     "start_time": "2022-07-07T23:09:52.261468Z"
    },
    "hidden": true
   },
   "outputs": [
    {
     "data": {
      "text/plain": [
       "3839"
      ]
     },
     "execution_count": 35,
     "metadata": {},
     "output_type": "execute_result"
    }
   ],
   "source": [
    "# regex para identificar as linhas que tem letra, a regex identifica apenas as linhas que tem numero e nega o resultado lógico com o circunflexo.\n",
    "len(cat_attributes.loc[cat_attributes['invoice_no'].apply(lambda x: bool(re.search('[^0-9]+', x))), 'invoice_no'].drop_duplicates())\n",
    "#cat_attributes"
   ]
  },
  {
   "cell_type": "code",
   "execution_count": 36,
   "id": "f2c22c6b",
   "metadata": {
    "ExecuteTime": {
     "end_time": "2022-07-07T23:10:12.578000Z",
     "start_time": "2022-07-07T23:10:02.061422Z"
    },
    "hidden": true,
    "scrolled": true
   },
   "outputs": [
    {
     "data": {
      "text/html": [
       "<div>\n",
       "<style scoped>\n",
       "    .dataframe tbody tr th:only-of-type {\n",
       "        vertical-align: middle;\n",
       "    }\n",
       "\n",
       "    .dataframe tbody tr th {\n",
       "        vertical-align: top;\n",
       "    }\n",
       "\n",
       "    .dataframe thead th {\n",
       "        text-align: right;\n",
       "    }\n",
       "</style>\n",
       "<table border=\"1\" class=\"dataframe\">\n",
       "  <thead>\n",
       "    <tr style=\"text-align: right;\">\n",
       "      <th></th>\n",
       "      <th>invoice_no</th>\n",
       "      <th>stock_code</th>\n",
       "      <th>description</th>\n",
       "      <th>quantity</th>\n",
       "      <th>invoice_date</th>\n",
       "      <th>unit_price</th>\n",
       "      <th>country</th>\n",
       "      <th>customer_id</th>\n",
       "    </tr>\n",
       "  </thead>\n",
       "  <tbody>\n",
       "    <tr>\n",
       "      <th>141</th>\n",
       "      <td>C536379</td>\n",
       "      <td>D</td>\n",
       "      <td>Discount</td>\n",
       "      <td>-1</td>\n",
       "      <td>2016-11-29</td>\n",
       "      <td>27.50</td>\n",
       "      <td>United Kingdom</td>\n",
       "      <td>14527</td>\n",
       "    </tr>\n",
       "    <tr>\n",
       "      <th>154</th>\n",
       "      <td>C536383</td>\n",
       "      <td>35004C</td>\n",
       "      <td>SET OF 3 COLOURED  FLYING DUCKS</td>\n",
       "      <td>-1</td>\n",
       "      <td>2016-11-29</td>\n",
       "      <td>4.65</td>\n",
       "      <td>United Kingdom</td>\n",
       "      <td>15311</td>\n",
       "    </tr>\n",
       "    <tr>\n",
       "      <th>235</th>\n",
       "      <td>C536391</td>\n",
       "      <td>22556</td>\n",
       "      <td>PLASTERS IN TIN CIRCUS PARADE</td>\n",
       "      <td>-12</td>\n",
       "      <td>2016-11-29</td>\n",
       "      <td>1.65</td>\n",
       "      <td>United Kingdom</td>\n",
       "      <td>17548</td>\n",
       "    </tr>\n",
       "    <tr>\n",
       "      <th>236</th>\n",
       "      <td>C536391</td>\n",
       "      <td>21984</td>\n",
       "      <td>PACK OF 12 PINK PAISLEY TISSUES</td>\n",
       "      <td>-24</td>\n",
       "      <td>2016-11-29</td>\n",
       "      <td>0.29</td>\n",
       "      <td>United Kingdom</td>\n",
       "      <td>17548</td>\n",
       "    </tr>\n",
       "    <tr>\n",
       "      <th>237</th>\n",
       "      <td>C536391</td>\n",
       "      <td>21983</td>\n",
       "      <td>PACK OF 12 BLUE PAISLEY TISSUES</td>\n",
       "      <td>-24</td>\n",
       "      <td>2016-11-29</td>\n",
       "      <td>0.29</td>\n",
       "      <td>United Kingdom</td>\n",
       "      <td>17548</td>\n",
       "    </tr>\n",
       "  </tbody>\n",
       "</table>\n",
       "</div>"
      ],
      "text/plain": [
       "    invoice_no stock_code                       description  quantity invoice_date  unit_price         country  customer_id\n",
       "141    C536379          D                          Discount        -1   2016-11-29       27.50  United Kingdom        14527\n",
       "154    C536383     35004C   SET OF 3 COLOURED  FLYING DUCKS        -1   2016-11-29        4.65  United Kingdom        15311\n",
       "235    C536391      22556    PLASTERS IN TIN CIRCUS PARADE        -12   2016-11-29        1.65  United Kingdom        17548\n",
       "236    C536391      21984  PACK OF 12 PINK PAISLEY TISSUES        -24   2016-11-29        0.29  United Kingdom        17548\n",
       "237    C536391      21983  PACK OF 12 BLUE PAISLEY TISSUES        -24   2016-11-29        0.29  United Kingdom        17548"
      ]
     },
     "execution_count": 36,
     "metadata": {},
     "output_type": "execute_result"
    }
   ],
   "source": [
    "# problema: existem invoice_no letras e números\n",
    "\n",
    "# identificação\n",
    "df_letter_invoices = df1.loc[df1['invoice_no'].apply(lambda x: bool(re.search('[^0-9]+', x))), :]\n",
    "df_letter_invoices.head()"
   ]
  },
  {
   "cell_type": "code",
   "execution_count": 37,
   "id": "eb2906a7",
   "metadata": {
    "ExecuteTime": {
     "end_time": "2022-07-07T23:10:12.651081Z",
     "start_time": "2022-07-07T23:10:12.590277Z"
    },
    "hidden": true
   },
   "outputs": [
    {
     "name": "stdout",
     "output_type": "stream",
     "text": [
      "Total number of invoices: 9291\n",
      "Total number of negative quantity: 9288\n"
     ]
    }
   ],
   "source": [
    "print(f'Total number of invoices: {len(df_letter_invoices)}')\n",
    "print('Total number of negative quantity: {}'.format(len(df_letter_invoices[df_letter_invoices['quantity'] < 0])))"
   ]
  },
  {
   "cell_type": "markdown",
   "id": "8b61489f",
   "metadata": {
    "ExecuteTime": {
     "end_time": "2022-06-14T13:57:21.469095Z",
     "start_time": "2022-06-14T13:57:21.447244Z"
    },
    "hidden": true
   },
   "source": [
    "#### stock code"
   ]
  },
  {
   "cell_type": "code",
   "execution_count": 38,
   "id": "f9a069bb",
   "metadata": {
    "ExecuteTime": {
     "end_time": "2022-07-07T23:10:12.765585Z",
     "start_time": "2022-07-07T23:10:12.680891Z"
    },
    "hidden": true,
    "scrolled": true
   },
   "outputs": [
    {
     "data": {
      "text/html": [
       "<div>\n",
       "<style scoped>\n",
       "    .dataframe tbody tr th:only-of-type {\n",
       "        vertical-align: middle;\n",
       "    }\n",
       "\n",
       "    .dataframe tbody tr th {\n",
       "        vertical-align: top;\n",
       "    }\n",
       "\n",
       "    .dataframe thead th {\n",
       "        text-align: right;\n",
       "    }\n",
       "</style>\n",
       "<table border=\"1\" class=\"dataframe\">\n",
       "  <thead>\n",
       "    <tr style=\"text-align: right;\">\n",
       "      <th></th>\n",
       "      <th>invoice_no</th>\n",
       "      <th>stock_code</th>\n",
       "      <th>description</th>\n",
       "      <th>country</th>\n",
       "    </tr>\n",
       "  </thead>\n",
       "  <tbody>\n",
       "    <tr>\n",
       "      <th>0</th>\n",
       "      <td>536365</td>\n",
       "      <td>85123A</td>\n",
       "      <td>WHITE HANGING HEART T-LIGHT HOLDER</td>\n",
       "      <td>United Kingdom</td>\n",
       "    </tr>\n",
       "    <tr>\n",
       "      <th>1</th>\n",
       "      <td>536365</td>\n",
       "      <td>71053</td>\n",
       "      <td>WHITE METAL LANTERN</td>\n",
       "      <td>United Kingdom</td>\n",
       "    </tr>\n",
       "    <tr>\n",
       "      <th>2</th>\n",
       "      <td>536365</td>\n",
       "      <td>84406B</td>\n",
       "      <td>CREAM CUPID HEARTS COAT HANGER</td>\n",
       "      <td>United Kingdom</td>\n",
       "    </tr>\n",
       "    <tr>\n",
       "      <th>3</th>\n",
       "      <td>536365</td>\n",
       "      <td>84029G</td>\n",
       "      <td>KNITTED UNION FLAG HOT WATER BOTTLE</td>\n",
       "      <td>United Kingdom</td>\n",
       "    </tr>\n",
       "    <tr>\n",
       "      <th>4</th>\n",
       "      <td>536365</td>\n",
       "      <td>84029E</td>\n",
       "      <td>RED WOOLLY HOTTIE WHITE HEART.</td>\n",
       "      <td>United Kingdom</td>\n",
       "    </tr>\n",
       "  </tbody>\n",
       "</table>\n",
       "</div>"
      ],
      "text/plain": [
       "  invoice_no stock_code                          description         country\n",
       "0     536365     85123A   WHITE HANGING HEART T-LIGHT HOLDER  United Kingdom\n",
       "1     536365      71053                  WHITE METAL LANTERN  United Kingdom\n",
       "2     536365     84406B       CREAM CUPID HEARTS COAT HANGER  United Kingdom\n",
       "3     536365     84029G  KNITTED UNION FLAG HOT WATER BOTTLE  United Kingdom\n",
       "4     536365     84029E       RED WOOLLY HOTTIE WHITE HEART.  United Kingdom"
      ]
     },
     "execution_count": 38,
     "metadata": {},
     "output_type": "execute_result"
    }
   ],
   "source": [
    "cat_attributes.head()"
   ]
  },
  {
   "cell_type": "code",
   "execution_count": 39,
   "id": "aa4e819d",
   "metadata": {
    "ExecuteTime": {
     "end_time": "2022-07-07T23:10:22.648447Z",
     "start_time": "2022-07-07T23:10:12.781598Z"
    },
    "hidden": true
   },
   "outputs": [
    {
     "data": {
      "text/plain": [
       "0     85123A\n",
       "2     84406B\n",
       "3     84029G\n",
       "4     84029E\n",
       "45      POST\n",
       "Name: stock_code, dtype: object"
      ]
     },
     "execution_count": 39,
     "metadata": {},
     "output_type": "execute_result"
    }
   ],
   "source": [
    "cat_attributes.loc[cat_attributes['stock_code'].apply(lambda x: bool(re.search('[^0-9]+', x))), 'stock_code'].head()"
   ]
  },
  {
   "cell_type": "code",
   "execution_count": 40,
   "id": "d9179ba3",
   "metadata": {
    "ExecuteTime": {
     "end_time": "2022-07-07T23:10:32.184075Z",
     "start_time": "2022-07-07T23:10:22.662757Z"
    },
    "hidden": true
   },
   "outputs": [
    {
     "name": "stdout",
     "output_type": "stream",
     "text": [
      "54873\n"
     ]
    }
   ],
   "source": [
    "at_least_one_string = len(cat_attributes.loc[cat_attributes['stock_code'].apply(lambda x: bool(re.search('[^0-9]+', x))), 'stock_code'])\n",
    "print(at_least_one_string)"
   ]
  },
  {
   "cell_type": "code",
   "execution_count": 41,
   "id": "53301910",
   "metadata": {
    "ExecuteTime": {
     "end_time": "2022-07-07T23:10:41.490468Z",
     "start_time": "2022-07-07T23:10:32.197634Z"
    },
    "hidden": true
   },
   "outputs": [
    {
     "name": "stdout",
     "output_type": "stream",
     "text": [
      "['POST' 'D' 'DOT' 'M' 'S' 'AMAZONFEE' 'm' 'DCGSSBOY' 'DCGSSGIRL' 'PADS'\n",
      " 'B' 'CRUK']\n"
     ]
    }
   ],
   "source": [
    "only_string = cat_attributes.loc[cat_attributes['stock_code'].apply(lambda x: bool(re.search('^[a-zA-Z]+$', x))), 'stock_code'].unique()\n",
    "print(only_string)"
   ]
  },
  {
   "cell_type": "code",
   "execution_count": 42,
   "id": "f144da22",
   "metadata": {
    "ExecuteTime": {
     "end_time": "2022-07-07T23:10:51.284195Z",
     "start_time": "2022-07-07T23:10:41.507688Z"
    },
    "hidden": true
   },
   "outputs": [
    {
     "data": {
      "text/html": [
       "<div>\n",
       "<style scoped>\n",
       "    .dataframe tbody tr th:only-of-type {\n",
       "        vertical-align: middle;\n",
       "    }\n",
       "\n",
       "    .dataframe tbody tr th {\n",
       "        vertical-align: top;\n",
       "    }\n",
       "\n",
       "    .dataframe thead th {\n",
       "        text-align: right;\n",
       "    }\n",
       "</style>\n",
       "<table border=\"1\" class=\"dataframe\">\n",
       "  <thead>\n",
       "    <tr style=\"text-align: right;\">\n",
       "      <th></th>\n",
       "      <th>invoice_no</th>\n",
       "      <th>stock_code</th>\n",
       "      <th>description</th>\n",
       "      <th>country</th>\n",
       "    </tr>\n",
       "  </thead>\n",
       "  <tbody>\n",
       "    <tr>\n",
       "      <th>45</th>\n",
       "      <td>536370</td>\n",
       "      <td>POST</td>\n",
       "      <td>POSTAGE</td>\n",
       "      <td>France</td>\n",
       "    </tr>\n",
       "    <tr>\n",
       "      <th>141</th>\n",
       "      <td>C536379</td>\n",
       "      <td>D</td>\n",
       "      <td>Discount</td>\n",
       "      <td>United Kingdom</td>\n",
       "    </tr>\n",
       "    <tr>\n",
       "      <th>386</th>\n",
       "      <td>536403</td>\n",
       "      <td>POST</td>\n",
       "      <td>POSTAGE</td>\n",
       "      <td>Netherlands</td>\n",
       "    </tr>\n",
       "    <tr>\n",
       "      <th>1123</th>\n",
       "      <td>536527</td>\n",
       "      <td>POST</td>\n",
       "      <td>POSTAGE</td>\n",
       "      <td>Germany</td>\n",
       "    </tr>\n",
       "    <tr>\n",
       "      <th>1814</th>\n",
       "      <td>536544</td>\n",
       "      <td>DOT</td>\n",
       "      <td>DOTCOM POSTAGE</td>\n",
       "      <td>United Kingdom</td>\n",
       "    </tr>\n",
       "  </tbody>\n",
       "</table>\n",
       "</div>"
      ],
      "text/plain": [
       "     invoice_no stock_code     description         country\n",
       "45       536370       POST         POSTAGE          France\n",
       "141     C536379          D        Discount  United Kingdom\n",
       "386      536403       POST         POSTAGE     Netherlands\n",
       "1123     536527       POST         POSTAGE         Germany\n",
       "1814     536544        DOT  DOTCOM POSTAGE  United Kingdom"
      ]
     },
     "execution_count": 42,
     "metadata": {},
     "output_type": "execute_result"
    }
   ],
   "source": [
    "cat_attributes.loc[cat_attributes['stock_code'].apply(lambda x: bool(re.search('^[a-zA-Z]+$', x))), :].head()"
   ]
  },
  {
   "cell_type": "code",
   "execution_count": 43,
   "id": "9e40606e",
   "metadata": {
    "ExecuteTime": {
     "end_time": "2022-07-07T23:10:59.990507Z",
     "start_time": "2022-07-07T23:10:51.298604Z"
    },
    "hidden": true
   },
   "outputs": [
    {
     "data": {
      "text/html": [
       "<div>\n",
       "<style scoped>\n",
       "    .dataframe tbody tr th:only-of-type {\n",
       "        vertical-align: middle;\n",
       "    }\n",
       "\n",
       "    .dataframe tbody tr th {\n",
       "        vertical-align: top;\n",
       "    }\n",
       "\n",
       "    .dataframe thead th {\n",
       "        text-align: right;\n",
       "    }\n",
       "</style>\n",
       "<table border=\"1\" class=\"dataframe\">\n",
       "  <thead>\n",
       "    <tr style=\"text-align: right;\">\n",
       "      <th></th>\n",
       "      <th>invoice_no</th>\n",
       "      <th>stock_code</th>\n",
       "      <th>description</th>\n",
       "      <th>quantity</th>\n",
       "      <th>invoice_date</th>\n",
       "      <th>unit_price</th>\n",
       "      <th>country</th>\n",
       "      <th>customer_id</th>\n",
       "    </tr>\n",
       "  </thead>\n",
       "  <tbody>\n",
       "    <tr>\n",
       "      <th>141</th>\n",
       "      <td>C536379</td>\n",
       "      <td>D</td>\n",
       "      <td>Discount</td>\n",
       "      <td>-1</td>\n",
       "      <td>2016-11-29</td>\n",
       "      <td>27.50</td>\n",
       "      <td>United Kingdom</td>\n",
       "      <td>14527</td>\n",
       "    </tr>\n",
       "    <tr>\n",
       "      <th>2239</th>\n",
       "      <td>536569</td>\n",
       "      <td>M</td>\n",
       "      <td>Manual</td>\n",
       "      <td>1</td>\n",
       "      <td>2016-11-29</td>\n",
       "      <td>1.25</td>\n",
       "      <td>United Kingdom</td>\n",
       "      <td>16274</td>\n",
       "    </tr>\n",
       "    <tr>\n",
       "      <th>2250</th>\n",
       "      <td>536569</td>\n",
       "      <td>M</td>\n",
       "      <td>Manual</td>\n",
       "      <td>1</td>\n",
       "      <td>2016-11-29</td>\n",
       "      <td>18.95</td>\n",
       "      <td>United Kingdom</td>\n",
       "      <td>16274</td>\n",
       "    </tr>\n",
       "    <tr>\n",
       "      <th>5684</th>\n",
       "      <td>536865</td>\n",
       "      <td>M</td>\n",
       "      <td>Manual</td>\n",
       "      <td>1</td>\n",
       "      <td>2016-12-01</td>\n",
       "      <td>2.55</td>\n",
       "      <td>United Kingdom</td>\n",
       "      <td>19025</td>\n",
       "    </tr>\n",
       "    <tr>\n",
       "      <th>6798</th>\n",
       "      <td>536981</td>\n",
       "      <td>M</td>\n",
       "      <td>Manual</td>\n",
       "      <td>2</td>\n",
       "      <td>2016-12-01</td>\n",
       "      <td>0.85</td>\n",
       "      <td>United Kingdom</td>\n",
       "      <td>14723</td>\n",
       "    </tr>\n",
       "  </tbody>\n",
       "</table>\n",
       "</div>"
      ],
      "text/plain": [
       "     invoice_no stock_code description  quantity invoice_date  unit_price         country  customer_id\n",
       "141     C536379          D    Discount        -1   2016-11-29       27.50  United Kingdom        14527\n",
       "2239     536569          M      Manual         1   2016-11-29        1.25  United Kingdom        16274\n",
       "2250     536569          M      Manual         1   2016-11-29       18.95  United Kingdom        16274\n",
       "5684     536865          M      Manual         1   2016-12-01        2.55  United Kingdom        19025\n",
       "6798     536981          M      Manual         2   2016-12-01        0.85  United Kingdom        14723"
      ]
     },
     "execution_count": 43,
     "metadata": {},
     "output_type": "execute_result"
    }
   ],
   "source": [
    "# analisando em todo o dataframe todas as linhas onde stock_code é apenas letra\n",
    "\n",
    "df1.loc[cat_attributes['stock_code'].apply(lambda x: bool(re.search('^[a-zA-Z]$', x))), :].head()"
   ]
  },
  {
   "cell_type": "code",
   "execution_count": 44,
   "id": "c505afe3",
   "metadata": {
    "ExecuteTime": {
     "end_time": "2022-07-07T23:11:00.032504Z",
     "start_time": "2022-07-07T23:11:00.017391Z"
    },
    "hidden": true
   },
   "outputs": [],
   "source": [
    "# Ação\n",
    "## 1. Remove stock_code in ['POST', 'D', 'M', 'PADS', 'DOT', 'CRUK']\n",
    "## 2. In cycle 05 remova ['POST' 'D' 'DOT' 'M' 'S' 'AMAZONFEE' 'm' 'DCGSSBOY' 'DCGSSGIRL' 'PADS' 'B' 'CRUK']"
   ]
  },
  {
   "cell_type": "markdown",
   "id": "cafc809f",
   "metadata": {
    "hidden": true
   },
   "source": [
    "#### Description"
   ]
  },
  {
   "cell_type": "code",
   "execution_count": 45,
   "id": "617cc5c7",
   "metadata": {
    "ExecuteTime": {
     "end_time": "2022-07-07T23:11:00.145925Z",
     "start_time": "2022-07-07T23:11:00.046994Z"
    },
    "hidden": true
   },
   "outputs": [
    {
     "data": {
      "text/html": [
       "<div>\n",
       "<style scoped>\n",
       "    .dataframe tbody tr th:only-of-type {\n",
       "        vertical-align: middle;\n",
       "    }\n",
       "\n",
       "    .dataframe tbody tr th {\n",
       "        vertical-align: top;\n",
       "    }\n",
       "\n",
       "    .dataframe thead th {\n",
       "        text-align: right;\n",
       "    }\n",
       "</style>\n",
       "<table border=\"1\" class=\"dataframe\">\n",
       "  <thead>\n",
       "    <tr style=\"text-align: right;\">\n",
       "      <th></th>\n",
       "      <th>invoice_no</th>\n",
       "      <th>stock_code</th>\n",
       "      <th>description</th>\n",
       "      <th>quantity</th>\n",
       "      <th>invoice_date</th>\n",
       "      <th>unit_price</th>\n",
       "      <th>country</th>\n",
       "      <th>customer_id</th>\n",
       "    </tr>\n",
       "  </thead>\n",
       "  <tbody>\n",
       "    <tr>\n",
       "      <th>0</th>\n",
       "      <td>536365</td>\n",
       "      <td>85123A</td>\n",
       "      <td>WHITE HANGING HEART T-LIGHT HOLDER</td>\n",
       "      <td>6</td>\n",
       "      <td>2016-11-29</td>\n",
       "      <td>2.55</td>\n",
       "      <td>United Kingdom</td>\n",
       "      <td>17850</td>\n",
       "    </tr>\n",
       "    <tr>\n",
       "      <th>1</th>\n",
       "      <td>536365</td>\n",
       "      <td>71053</td>\n",
       "      <td>WHITE METAL LANTERN</td>\n",
       "      <td>6</td>\n",
       "      <td>2016-11-29</td>\n",
       "      <td>3.39</td>\n",
       "      <td>United Kingdom</td>\n",
       "      <td>17850</td>\n",
       "    </tr>\n",
       "    <tr>\n",
       "      <th>2</th>\n",
       "      <td>536365</td>\n",
       "      <td>84406B</td>\n",
       "      <td>CREAM CUPID HEARTS COAT HANGER</td>\n",
       "      <td>8</td>\n",
       "      <td>2016-11-29</td>\n",
       "      <td>2.75</td>\n",
       "      <td>United Kingdom</td>\n",
       "      <td>17850</td>\n",
       "    </tr>\n",
       "    <tr>\n",
       "      <th>3</th>\n",
       "      <td>536365</td>\n",
       "      <td>84029G</td>\n",
       "      <td>KNITTED UNION FLAG HOT WATER BOTTLE</td>\n",
       "      <td>6</td>\n",
       "      <td>2016-11-29</td>\n",
       "      <td>3.39</td>\n",
       "      <td>United Kingdom</td>\n",
       "      <td>17850</td>\n",
       "    </tr>\n",
       "    <tr>\n",
       "      <th>4</th>\n",
       "      <td>536365</td>\n",
       "      <td>84029E</td>\n",
       "      <td>RED WOOLLY HOTTIE WHITE HEART.</td>\n",
       "      <td>6</td>\n",
       "      <td>2016-11-29</td>\n",
       "      <td>3.39</td>\n",
       "      <td>United Kingdom</td>\n",
       "      <td>17850</td>\n",
       "    </tr>\n",
       "  </tbody>\n",
       "</table>\n",
       "</div>"
      ],
      "text/plain": [
       "  invoice_no stock_code                          description  quantity invoice_date  unit_price         country  customer_id\n",
       "0     536365     85123A   WHITE HANGING HEART T-LIGHT HOLDER         6   2016-11-29        2.55  United Kingdom        17850\n",
       "1     536365      71053                  WHITE METAL LANTERN         6   2016-11-29        3.39  United Kingdom        17850\n",
       "2     536365     84406B       CREAM CUPID HEARTS COAT HANGER         8   2016-11-29        2.75  United Kingdom        17850\n",
       "3     536365     84029G  KNITTED UNION FLAG HOT WATER BOTTLE         6   2016-11-29        3.39  United Kingdom        17850\n",
       "4     536365     84029E       RED WOOLLY HOTTIE WHITE HEART.         6   2016-11-29        3.39  United Kingdom        17850"
      ]
     },
     "execution_count": 45,
     "metadata": {},
     "output_type": "execute_result"
    }
   ],
   "source": [
    "df1.head()\n",
    "\n",
    "# Ação: deletar a description"
   ]
  },
  {
   "cell_type": "markdown",
   "id": "264dfe3e",
   "metadata": {
    "hidden": true
   },
   "source": [
    "#### Country"
   ]
  },
  {
   "cell_type": "code",
   "execution_count": 46,
   "id": "529b9af3",
   "metadata": {
    "ExecuteTime": {
     "end_time": "2022-07-07T23:11:00.448842Z",
     "start_time": "2022-07-07T23:11:00.163568Z"
    },
    "hidden": true
   },
   "outputs": [
    {
     "data": {
      "text/plain": [
       "38"
      ]
     },
     "execution_count": 46,
     "metadata": {},
     "output_type": "execute_result"
    }
   ],
   "source": [
    "len(df1['country'].unique())"
   ]
  },
  {
   "cell_type": "code",
   "execution_count": 47,
   "id": "9da5c72a",
   "metadata": {
    "ExecuteTime": {
     "end_time": "2022-07-07T23:11:00.916983Z",
     "start_time": "2022-07-07T23:11:00.464571Z"
    },
    "hidden": true
   },
   "outputs": [
    {
     "data": {
      "text/plain": [
       "United Kingdom    0.914320\n",
       "Germany           0.017521\n",
       "France            0.015790\n",
       "EIRE              0.015124\n",
       "Spain             0.004674\n",
       "Name: country, dtype: float64"
      ]
     },
     "execution_count": 47,
     "metadata": {},
     "output_type": "execute_result"
    }
   ],
   "source": [
    "df1['country'].value_counts(normalize=True).head()"
   ]
  },
  {
   "cell_type": "code",
   "execution_count": 48,
   "id": "c5cb8c5b",
   "metadata": {
    "ExecuteTime": {
     "end_time": "2022-07-07T23:11:01.676796Z",
     "start_time": "2022-07-07T23:11:00.943916Z"
    },
    "hidden": true
   },
   "outputs": [
    {
     "data": {
      "text/html": [
       "<div>\n",
       "<style scoped>\n",
       "    .dataframe tbody tr th:only-of-type {\n",
       "        vertical-align: middle;\n",
       "    }\n",
       "\n",
       "    .dataframe tbody tr th {\n",
       "        vertical-align: top;\n",
       "    }\n",
       "\n",
       "    .dataframe thead th {\n",
       "        text-align: right;\n",
       "    }\n",
       "</style>\n",
       "<table border=\"1\" class=\"dataframe\">\n",
       "  <thead>\n",
       "    <tr style=\"text-align: right;\">\n",
       "      <th></th>\n",
       "      <th>country</th>\n",
       "      <th>customer_id</th>\n",
       "    </tr>\n",
       "  </thead>\n",
       "  <tbody>\n",
       "    <tr>\n",
       "      <th>36</th>\n",
       "      <td>United Kingdom</td>\n",
       "      <td>7587</td>\n",
       "    </tr>\n",
       "    <tr>\n",
       "      <th>14</th>\n",
       "      <td>Germany</td>\n",
       "      <td>95</td>\n",
       "    </tr>\n",
       "    <tr>\n",
       "      <th>13</th>\n",
       "      <td>France</td>\n",
       "      <td>90</td>\n",
       "    </tr>\n",
       "    <tr>\n",
       "      <th>10</th>\n",
       "      <td>EIRE</td>\n",
       "      <td>44</td>\n",
       "    </tr>\n",
       "    <tr>\n",
       "      <th>31</th>\n",
       "      <td>Spain</td>\n",
       "      <td>31</td>\n",
       "    </tr>\n",
       "  </tbody>\n",
       "</table>\n",
       "</div>"
      ],
      "text/plain": [
       "           country  customer_id\n",
       "36  United Kingdom         7587\n",
       "14         Germany           95\n",
       "13          France           90\n",
       "10            EIRE           44\n",
       "31           Spain           31"
      ]
     },
     "execution_count": 48,
     "metadata": {},
     "output_type": "execute_result"
    }
   ],
   "source": [
    "# quantidade de clientes unicos por pais\n",
    "df1[['customer_id', 'country']].drop_duplicates().groupby('country').count().reset_index().sort_values('customer_id', ascending=False).head()"
   ]
  },
  {
   "cell_type": "markdown",
   "id": "1ecc4e7a",
   "metadata": {
    "heading_collapsed": true
   },
   "source": [
    "# 3.0 Feature Selection"
   ]
  },
  {
   "cell_type": "code",
   "execution_count": 425,
   "id": "c0556c03",
   "metadata": {
    "ExecuteTime": {
     "end_time": "2022-07-07T23:11:01.773107Z",
     "start_time": "2022-07-07T23:11:01.688990Z"
    },
    "hidden": true
   },
   "outputs": [],
   "source": [
    "df2 = df1.copy()"
   ]
  },
  {
   "cell_type": "code",
   "execution_count": 426,
   "id": "4ae6a4a3",
   "metadata": {
    "ExecuteTime": {
     "end_time": "2022-07-07T23:11:02.017574Z",
     "start_time": "2022-07-07T23:11:01.805829Z"
    },
    "hidden": true,
    "scrolled": true
   },
   "outputs": [
    {
     "data": {
      "text/html": [
       "<div>\n",
       "<style scoped>\n",
       "    .dataframe tbody tr th:only-of-type {\n",
       "        vertical-align: middle;\n",
       "    }\n",
       "\n",
       "    .dataframe tbody tr th {\n",
       "        vertical-align: top;\n",
       "    }\n",
       "\n",
       "    .dataframe thead th {\n",
       "        text-align: right;\n",
       "    }\n",
       "</style>\n",
       "<table border=\"1\" class=\"dataframe\">\n",
       "  <thead>\n",
       "    <tr style=\"text-align: right;\">\n",
       "      <th></th>\n",
       "      <th>invoice_no</th>\n",
       "      <th>stock_code</th>\n",
       "      <th>description</th>\n",
       "      <th>quantity</th>\n",
       "      <th>invoice_date</th>\n",
       "      <th>unit_price</th>\n",
       "      <th>country</th>\n",
       "      <th>customer_id</th>\n",
       "    </tr>\n",
       "  </thead>\n",
       "  <tbody>\n",
       "    <tr>\n",
       "      <th>61624</th>\n",
       "      <td>C541433</td>\n",
       "      <td>23166</td>\n",
       "      <td>MEDIUM CERAMIC TOP STORAGE JAR</td>\n",
       "      <td>-74215</td>\n",
       "      <td>2017-01-16</td>\n",
       "      <td>1.04</td>\n",
       "      <td>United Kingdom</td>\n",
       "      <td>12346</td>\n",
       "    </tr>\n",
       "    <tr>\n",
       "      <th>129743</th>\n",
       "      <td>C547388</td>\n",
       "      <td>21914</td>\n",
       "      <td>BLUE HARMONICA IN BOX</td>\n",
       "      <td>-12</td>\n",
       "      <td>2017-03-20</td>\n",
       "      <td>1.25</td>\n",
       "      <td>Norway</td>\n",
       "      <td>12352</td>\n",
       "    </tr>\n",
       "    <tr>\n",
       "      <th>129738</th>\n",
       "      <td>C547388</td>\n",
       "      <td>37448</td>\n",
       "      <td>CERAMIC CAKE DESIGN SPOTTED MUG</td>\n",
       "      <td>-12</td>\n",
       "      <td>2017-03-20</td>\n",
       "      <td>1.49</td>\n",
       "      <td>Norway</td>\n",
       "      <td>12352</td>\n",
       "    </tr>\n",
       "    <tr>\n",
       "      <th>129741</th>\n",
       "      <td>C547388</td>\n",
       "      <td>22645</td>\n",
       "      <td>CERAMIC HEART FAIRY CAKE MONEY BANK</td>\n",
       "      <td>-12</td>\n",
       "      <td>2017-03-20</td>\n",
       "      <td>1.45</td>\n",
       "      <td>Norway</td>\n",
       "      <td>12352</td>\n",
       "    </tr>\n",
       "    <tr>\n",
       "      <th>129739</th>\n",
       "      <td>C547388</td>\n",
       "      <td>22784</td>\n",
       "      <td>LANTERN CREAM GAZEBO</td>\n",
       "      <td>-3</td>\n",
       "      <td>2017-03-20</td>\n",
       "      <td>4.95</td>\n",
       "      <td>Norway</td>\n",
       "      <td>12352</td>\n",
       "    </tr>\n",
       "    <tr>\n",
       "      <th>129742</th>\n",
       "      <td>C547388</td>\n",
       "      <td>22413</td>\n",
       "      <td>METAL SIGN TAKE IT OR LEAVE IT</td>\n",
       "      <td>-6</td>\n",
       "      <td>2017-03-20</td>\n",
       "      <td>2.95</td>\n",
       "      <td>Norway</td>\n",
       "      <td>12352</td>\n",
       "    </tr>\n",
       "    <tr>\n",
       "      <th>106394</th>\n",
       "      <td>C545329</td>\n",
       "      <td>M</td>\n",
       "      <td>Manual</td>\n",
       "      <td>-1</td>\n",
       "      <td>2017-02-27</td>\n",
       "      <td>280.05</td>\n",
       "      <td>Norway</td>\n",
       "      <td>12352</td>\n",
       "    </tr>\n",
       "    <tr>\n",
       "      <th>106395</th>\n",
       "      <td>C545329</td>\n",
       "      <td>M</td>\n",
       "      <td>Manual</td>\n",
       "      <td>-1</td>\n",
       "      <td>2017-02-27</td>\n",
       "      <td>183.75</td>\n",
       "      <td>Norway</td>\n",
       "      <td>12352</td>\n",
       "    </tr>\n",
       "    <tr>\n",
       "      <th>106397</th>\n",
       "      <td>C545330</td>\n",
       "      <td>M</td>\n",
       "      <td>Manual</td>\n",
       "      <td>-1</td>\n",
       "      <td>2017-02-27</td>\n",
       "      <td>376.50</td>\n",
       "      <td>Norway</td>\n",
       "      <td>12352</td>\n",
       "    </tr>\n",
       "    <tr>\n",
       "      <th>129740</th>\n",
       "      <td>C547388</td>\n",
       "      <td>22701</td>\n",
       "      <td>PINK DOG BOWL</td>\n",
       "      <td>-6</td>\n",
       "      <td>2017-03-20</td>\n",
       "      <td>2.95</td>\n",
       "      <td>Norway</td>\n",
       "      <td>12352</td>\n",
       "    </tr>\n",
       "  </tbody>\n",
       "</table>\n",
       "</div>"
      ],
      "text/plain": [
       "       invoice_no stock_code                          description  quantity invoice_date  unit_price         country  customer_id\n",
       "61624     C541433      23166       MEDIUM CERAMIC TOP STORAGE JAR    -74215   2017-01-16        1.04  United Kingdom        12346\n",
       "129743    C547388      21914               BLUE HARMONICA IN BOX        -12   2017-03-20        1.25          Norway        12352\n",
       "129738    C547388      37448      CERAMIC CAKE DESIGN SPOTTED MUG       -12   2017-03-20        1.49          Norway        12352\n",
       "129741    C547388      22645  CERAMIC HEART FAIRY CAKE MONEY BANK       -12   2017-03-20        1.45          Norway        12352\n",
       "129739    C547388      22784                LANTERN CREAM GAZEBO         -3   2017-03-20        4.95          Norway        12352\n",
       "129742    C547388      22413      METAL SIGN TAKE IT OR LEAVE IT         -6   2017-03-20        2.95          Norway        12352\n",
       "106394    C545329          M                               Manual        -1   2017-02-27      280.05          Norway        12352\n",
       "106395    C545329          M                               Manual        -1   2017-02-27      183.75          Norway        12352\n",
       "106397    C545330          M                               Manual        -1   2017-02-27      376.50          Norway        12352\n",
       "129740    C547388      22701                        PINK DOG BOWL        -6   2017-03-20        2.95          Norway        12352"
      ]
     },
     "execution_count": 426,
     "metadata": {},
     "output_type": "execute_result"
    }
   ],
   "source": [
    "# verificação dos itens com quantty negativo\n",
    "df2.loc[df2['quantity'] < 0, :].sort_values(['customer_id', 'description']).head(10)"
   ]
  },
  {
   "cell_type": "code",
   "execution_count": 427,
   "id": "57d438a5",
   "metadata": {
    "ExecuteTime": {
     "end_time": "2022-07-07T23:11:02.913425Z",
     "start_time": "2022-07-07T23:11:02.030870Z"
    },
    "hidden": true
   },
   "outputs": [
    {
     "data": {
      "text/html": [
       "<div>\n",
       "<style scoped>\n",
       "    .dataframe tbody tr th:only-of-type {\n",
       "        vertical-align: middle;\n",
       "    }\n",
       "\n",
       "    .dataframe tbody tr th {\n",
       "        vertical-align: top;\n",
       "    }\n",
       "\n",
       "    .dataframe thead th {\n",
       "        text-align: right;\n",
       "    }\n",
       "</style>\n",
       "<table border=\"1\" class=\"dataframe\">\n",
       "  <thead>\n",
       "    <tr style=\"text-align: right;\">\n",
       "      <th></th>\n",
       "      <th>customer_id</th>\n",
       "      <th>description</th>\n",
       "      <th>unit_price</th>\n",
       "    </tr>\n",
       "  </thead>\n",
       "  <tbody>\n",
       "    <tr>\n",
       "      <th>299984</th>\n",
       "      <td>21499</td>\n",
       "      <td>Adjust bad debt</td>\n",
       "      <td>-11062.06</td>\n",
       "    </tr>\n",
       "    <tr>\n",
       "      <th>299983</th>\n",
       "      <td>21498</td>\n",
       "      <td>Adjust bad debt</td>\n",
       "      <td>-11062.06</td>\n",
       "    </tr>\n",
       "    <tr>\n",
       "      <th>40984</th>\n",
       "      <td>19296</td>\n",
       "      <td>TRAVEL SEWING KIT</td>\n",
       "      <td>0.00</td>\n",
       "    </tr>\n",
       "    <tr>\n",
       "      <th>52217</th>\n",
       "      <td>19385</td>\n",
       "      <td>NaN</td>\n",
       "      <td>0.00</td>\n",
       "    </tr>\n",
       "    <tr>\n",
       "      <th>52262</th>\n",
       "      <td>19386</td>\n",
       "      <td>NaN</td>\n",
       "      <td>0.00</td>\n",
       "    </tr>\n",
       "    <tr>\n",
       "      <th>344867</th>\n",
       "      <td>21735</td>\n",
       "      <td>Damaged</td>\n",
       "      <td>0.00</td>\n",
       "    </tr>\n",
       "    <tr>\n",
       "      <th>204945</th>\n",
       "      <td>20760</td>\n",
       "      <td>NaN</td>\n",
       "      <td>0.00</td>\n",
       "    </tr>\n",
       "    <tr>\n",
       "      <th>104419</th>\n",
       "      <td>19743</td>\n",
       "      <td>PORCELAIN BUTTERFLY OIL BURNER</td>\n",
       "      <td>0.00</td>\n",
       "    </tr>\n",
       "    <tr>\n",
       "      <th>104418</th>\n",
       "      <td>19743</td>\n",
       "      <td>BLUE POLKADOT PASSPORT COVER</td>\n",
       "      <td>0.00</td>\n",
       "    </tr>\n",
       "    <tr>\n",
       "      <th>115488</th>\n",
       "      <td>19819</td>\n",
       "      <td>Thrown away.</td>\n",
       "      <td>0.00</td>\n",
       "    </tr>\n",
       "  </tbody>\n",
       "</table>\n",
       "</div>"
      ],
      "text/plain": [
       "        customer_id                     description  unit_price\n",
       "299984        21499                 Adjust bad debt   -11062.06\n",
       "299983        21498                 Adjust bad debt   -11062.06\n",
       "40984         19296               TRAVEL SEWING KIT        0.00\n",
       "52217         19385                             NaN        0.00\n",
       "52262         19386                             NaN        0.00\n",
       "344867        21735                         Damaged        0.00\n",
       "204945        20760                             NaN        0.00\n",
       "104419        19743  PORCELAIN BUTTERFLY OIL BURNER        0.00\n",
       "104418        19743    BLUE POLKADOT PASSPORT COVER        0.00\n",
       "115488        19819                    Thrown away.        0.00"
      ]
     },
     "execution_count": 427,
     "metadata": {},
     "output_type": "execute_result"
    }
   ],
   "source": [
    "# localizando valores de produtos pequenos ou nulos\n",
    "df2[['customer_id', 'description', 'unit_price']].sort_values('unit_price', ascending=True).head(10)"
   ]
  },
  {
   "cell_type": "code",
   "execution_count": 428,
   "id": "97baf641",
   "metadata": {
    "ExecuteTime": {
     "end_time": "2022-07-07T23:11:03.835228Z",
     "start_time": "2022-07-07T23:11:02.937031Z"
    },
    "hidden": true
   },
   "outputs": [
    {
     "data": {
      "text/html": [
       "<div>\n",
       "<style scoped>\n",
       "    .dataframe tbody tr th:only-of-type {\n",
       "        vertical-align: middle;\n",
       "    }\n",
       "\n",
       "    .dataframe tbody tr th {\n",
       "        vertical-align: top;\n",
       "    }\n",
       "\n",
       "    .dataframe thead th {\n",
       "        text-align: right;\n",
       "    }\n",
       "</style>\n",
       "<table border=\"1\" class=\"dataframe\">\n",
       "  <thead>\n",
       "    <tr style=\"text-align: right;\">\n",
       "      <th></th>\n",
       "      <th>customer_id</th>\n",
       "      <th>description</th>\n",
       "      <th>unit_price</th>\n",
       "    </tr>\n",
       "  </thead>\n",
       "  <tbody>\n",
       "    <tr>\n",
       "      <th>378177</th>\n",
       "      <td>12748</td>\n",
       "      <td>POPART WOODEN PENCILS ASST</td>\n",
       "      <td>0.04</td>\n",
       "    </tr>\n",
       "    <tr>\n",
       "      <th>506918</th>\n",
       "      <td>17379</td>\n",
       "      <td>POPART WOODEN PENCILS ASST</td>\n",
       "      <td>0.04</td>\n",
       "    </tr>\n",
       "    <tr>\n",
       "      <th>428605</th>\n",
       "      <td>13186</td>\n",
       "      <td>POPART WOODEN PENCILS ASST</td>\n",
       "      <td>0.04</td>\n",
       "    </tr>\n",
       "    <tr>\n",
       "      <th>228959</th>\n",
       "      <td>14282</td>\n",
       "      <td>POPART WOODEN PENCILS ASST</td>\n",
       "      <td>0.04</td>\n",
       "    </tr>\n",
       "    <tr>\n",
       "      <th>464007</th>\n",
       "      <td>14382</td>\n",
       "      <td>POPART WOODEN PENCILS ASST</td>\n",
       "      <td>0.04</td>\n",
       "    </tr>\n",
       "    <tr>\n",
       "      <th>334170</th>\n",
       "      <td>12635</td>\n",
       "      <td>POPART WOODEN PENCILS ASST</td>\n",
       "      <td>0.04</td>\n",
       "    </tr>\n",
       "    <tr>\n",
       "      <th>269871</th>\n",
       "      <td>13081</td>\n",
       "      <td>POPART WOODEN PENCILS ASST</td>\n",
       "      <td>0.04</td>\n",
       "    </tr>\n",
       "    <tr>\n",
       "      <th>383665</th>\n",
       "      <td>12524</td>\n",
       "      <td>POPART WOODEN PENCILS ASST</td>\n",
       "      <td>0.04</td>\n",
       "    </tr>\n",
       "    <tr>\n",
       "      <th>354217</th>\n",
       "      <td>16669</td>\n",
       "      <td>POPART WOODEN PENCILS ASST</td>\n",
       "      <td>0.04</td>\n",
       "    </tr>\n",
       "    <tr>\n",
       "      <th>263241</th>\n",
       "      <td>14862</td>\n",
       "      <td>POPART WOODEN PENCILS ASST</td>\n",
       "      <td>0.04</td>\n",
       "    </tr>\n",
       "  </tbody>\n",
       "</table>\n",
       "</div>"
      ],
      "text/plain": [
       "        customer_id                 description  unit_price\n",
       "378177        12748  POPART WOODEN PENCILS ASST        0.04\n",
       "506918        17379  POPART WOODEN PENCILS ASST        0.04\n",
       "428605        13186  POPART WOODEN PENCILS ASST        0.04\n",
       "228959        14282  POPART WOODEN PENCILS ASST        0.04\n",
       "464007        14382  POPART WOODEN PENCILS ASST        0.04\n",
       "334170        12635  POPART WOODEN PENCILS ASST        0.04\n",
       "269871        13081  POPART WOODEN PENCILS ASST        0.04\n",
       "383665        12524  POPART WOODEN PENCILS ASST        0.04\n",
       "354217        16669  POPART WOODEN PENCILS ASST        0.04\n",
       "263241        14862  POPART WOODEN PENCILS ASST        0.04"
      ]
     },
     "execution_count": 428,
     "metadata": {},
     "output_type": "execute_result"
    }
   ],
   "source": [
    "df2.loc[df1['unit_price'] >= 0.04,['customer_id', 'description', 'unit_price']].sort_values('unit_price', ascending=True).head(10)"
   ]
  },
  {
   "cell_type": "code",
   "execution_count": 429,
   "id": "9cdc5d17",
   "metadata": {
    "ExecuteTime": {
     "end_time": "2022-07-07T23:11:05.165177Z",
     "start_time": "2022-07-07T23:11:03.848982Z"
    },
    "hidden": true
   },
   "outputs": [],
   "source": [
    "# Numerical Attributes\n",
    "# unitprice > 0.0\n",
    "df2 = df2.loc[df2['unit_price'] >= 0.04, :]\n",
    "\n",
    "# stock code != ['POST' 'D' 'DOT' 'M' 'S' 'AMAZONFEE' 'm' 'DCGSSBOY' 'DCGSSGIRL' 'PADS' 'B' 'CRUK']\n",
    "# df2 = df2[~df2['stock_code'].isin(['POST', 'D', 'M', 'DOT', 'CRUK'])]\n",
    "df2 = df2[~df2['stock_code'].isin(['POST', 'D', 'DOT', 'M', 'S', 'AMAZONFEE', 'm', 'DCGSSBOY', 'DCGSSGIRL', 'PADS', 'B', 'CRUK'])]\n",
    "\n",
    "# description\n",
    "df2 = df2.drop(columns='description', axis=1)\n",
    "\n",
    "# map\n",
    "df2 = df2[~df2['country'].isin(['European Community', 'Unspecified'])]\n",
    "\n",
    "# quantity - NEgative numbers means returns\n",
    "df2_returns = df2.loc[df2['quantity'] < 0, :]\n",
    "df2_purchases = df2.loc[df2['quantity'] >= 0, :]"
   ]
  },
  {
   "cell_type": "code",
   "execution_count": 430,
   "id": "b343b125",
   "metadata": {
    "ExecuteTime": {
     "end_time": "2022-07-07T23:11:05.266772Z",
     "start_time": "2022-07-07T23:11:05.182353Z"
    },
    "hidden": true
   },
   "outputs": [
    {
     "data": {
      "text/html": [
       "<div>\n",
       "<style scoped>\n",
       "    .dataframe tbody tr th:only-of-type {\n",
       "        vertical-align: middle;\n",
       "    }\n",
       "\n",
       "    .dataframe tbody tr th {\n",
       "        vertical-align: top;\n",
       "    }\n",
       "\n",
       "    .dataframe thead th {\n",
       "        text-align: right;\n",
       "    }\n",
       "</style>\n",
       "<table border=\"1\" class=\"dataframe\">\n",
       "  <thead>\n",
       "    <tr style=\"text-align: right;\">\n",
       "      <th></th>\n",
       "      <th>invoice_no</th>\n",
       "      <th>stock_code</th>\n",
       "      <th>quantity</th>\n",
       "      <th>invoice_date</th>\n",
       "      <th>unit_price</th>\n",
       "      <th>country</th>\n",
       "      <th>customer_id</th>\n",
       "    </tr>\n",
       "  </thead>\n",
       "  <tbody>\n",
       "    <tr>\n",
       "      <th>0</th>\n",
       "      <td>536365</td>\n",
       "      <td>85123A</td>\n",
       "      <td>6</td>\n",
       "      <td>2016-11-29</td>\n",
       "      <td>2.55</td>\n",
       "      <td>United Kingdom</td>\n",
       "      <td>17850</td>\n",
       "    </tr>\n",
       "    <tr>\n",
       "      <th>1</th>\n",
       "      <td>536365</td>\n",
       "      <td>71053</td>\n",
       "      <td>6</td>\n",
       "      <td>2016-11-29</td>\n",
       "      <td>3.39</td>\n",
       "      <td>United Kingdom</td>\n",
       "      <td>17850</td>\n",
       "    </tr>\n",
       "    <tr>\n",
       "      <th>2</th>\n",
       "      <td>536365</td>\n",
       "      <td>84406B</td>\n",
       "      <td>8</td>\n",
       "      <td>2016-11-29</td>\n",
       "      <td>2.75</td>\n",
       "      <td>United Kingdom</td>\n",
       "      <td>17850</td>\n",
       "    </tr>\n",
       "    <tr>\n",
       "      <th>3</th>\n",
       "      <td>536365</td>\n",
       "      <td>84029G</td>\n",
       "      <td>6</td>\n",
       "      <td>2016-11-29</td>\n",
       "      <td>3.39</td>\n",
       "      <td>United Kingdom</td>\n",
       "      <td>17850</td>\n",
       "    </tr>\n",
       "    <tr>\n",
       "      <th>4</th>\n",
       "      <td>536365</td>\n",
       "      <td>84029E</td>\n",
       "      <td>6</td>\n",
       "      <td>2016-11-29</td>\n",
       "      <td>3.39</td>\n",
       "      <td>United Kingdom</td>\n",
       "      <td>17850</td>\n",
       "    </tr>\n",
       "  </tbody>\n",
       "</table>\n",
       "</div>"
      ],
      "text/plain": [
       "  invoice_no stock_code  quantity invoice_date  unit_price         country  customer_id\n",
       "0     536365     85123A         6   2016-11-29        2.55  United Kingdom        17850\n",
       "1     536365      71053         6   2016-11-29        3.39  United Kingdom        17850\n",
       "2     536365     84406B         8   2016-11-29        2.75  United Kingdom        17850\n",
       "3     536365     84029G         6   2016-11-29        3.39  United Kingdom        17850\n",
       "4     536365     84029E         6   2016-11-29        3.39  United Kingdom        17850"
      ]
     },
     "execution_count": 430,
     "metadata": {},
     "output_type": "execute_result"
    }
   ],
   "source": [
    "df2_purchases.head()"
   ]
  },
  {
   "cell_type": "code",
   "execution_count": 431,
   "id": "0156a5ee",
   "metadata": {
    "ExecuteTime": {
     "end_time": "2022-07-07T23:11:05.379739Z",
     "start_time": "2022-07-07T23:11:05.280626Z"
    },
    "hidden": true
   },
   "outputs": [
    {
     "data": {
      "text/html": [
       "<div>\n",
       "<style scoped>\n",
       "    .dataframe tbody tr th:only-of-type {\n",
       "        vertical-align: middle;\n",
       "    }\n",
       "\n",
       "    .dataframe tbody tr th {\n",
       "        vertical-align: top;\n",
       "    }\n",
       "\n",
       "    .dataframe thead th {\n",
       "        text-align: right;\n",
       "    }\n",
       "</style>\n",
       "<table border=\"1\" class=\"dataframe\">\n",
       "  <thead>\n",
       "    <tr style=\"text-align: right;\">\n",
       "      <th></th>\n",
       "      <th>invoice_no</th>\n",
       "      <th>stock_code</th>\n",
       "      <th>quantity</th>\n",
       "      <th>invoice_date</th>\n",
       "      <th>unit_price</th>\n",
       "      <th>country</th>\n",
       "      <th>customer_id</th>\n",
       "    </tr>\n",
       "  </thead>\n",
       "  <tbody>\n",
       "    <tr>\n",
       "      <th>0</th>\n",
       "      <td>536365</td>\n",
       "      <td>85123A</td>\n",
       "      <td>6</td>\n",
       "      <td>2016-11-29</td>\n",
       "      <td>2.55</td>\n",
       "      <td>United Kingdom</td>\n",
       "      <td>17850</td>\n",
       "    </tr>\n",
       "    <tr>\n",
       "      <th>1</th>\n",
       "      <td>536365</td>\n",
       "      <td>71053</td>\n",
       "      <td>6</td>\n",
       "      <td>2016-11-29</td>\n",
       "      <td>3.39</td>\n",
       "      <td>United Kingdom</td>\n",
       "      <td>17850</td>\n",
       "    </tr>\n",
       "    <tr>\n",
       "      <th>2</th>\n",
       "      <td>536365</td>\n",
       "      <td>84406B</td>\n",
       "      <td>8</td>\n",
       "      <td>2016-11-29</td>\n",
       "      <td>2.75</td>\n",
       "      <td>United Kingdom</td>\n",
       "      <td>17850</td>\n",
       "    </tr>\n",
       "    <tr>\n",
       "      <th>3</th>\n",
       "      <td>536365</td>\n",
       "      <td>84029G</td>\n",
       "      <td>6</td>\n",
       "      <td>2016-11-29</td>\n",
       "      <td>3.39</td>\n",
       "      <td>United Kingdom</td>\n",
       "      <td>17850</td>\n",
       "    </tr>\n",
       "    <tr>\n",
       "      <th>4</th>\n",
       "      <td>536365</td>\n",
       "      <td>84029E</td>\n",
       "      <td>6</td>\n",
       "      <td>2016-11-29</td>\n",
       "      <td>3.39</td>\n",
       "      <td>United Kingdom</td>\n",
       "      <td>17850</td>\n",
       "    </tr>\n",
       "  </tbody>\n",
       "</table>\n",
       "</div>"
      ],
      "text/plain": [
       "  invoice_no stock_code  quantity invoice_date  unit_price         country  customer_id\n",
       "0     536365     85123A         6   2016-11-29        2.55  United Kingdom        17850\n",
       "1     536365      71053         6   2016-11-29        3.39  United Kingdom        17850\n",
       "2     536365     84406B         8   2016-11-29        2.75  United Kingdom        17850\n",
       "3     536365     84029G         6   2016-11-29        3.39  United Kingdom        17850\n",
       "4     536365     84029E         6   2016-11-29        3.39  United Kingdom        17850"
      ]
     },
     "execution_count": 431,
     "metadata": {},
     "output_type": "execute_result"
    }
   ],
   "source": [
    "df2.head()"
   ]
  },
  {
   "cell_type": "markdown",
   "id": "91f6305d",
   "metadata": {},
   "source": [
    "# 2.0 Feature Engineering"
   ]
  },
  {
   "cell_type": "code",
   "execution_count": 432,
   "id": "43939abc",
   "metadata": {
    "ExecuteTime": {
     "end_time": "2022-07-07T23:11:05.470269Z",
     "start_time": "2022-07-07T23:11:05.401450Z"
    }
   },
   "outputs": [],
   "source": [
    "df3 = df2.copy()"
   ]
  },
  {
   "cell_type": "markdown",
   "id": "ce8fcde0",
   "metadata": {},
   "source": [
    "## 2.1 Feature Creation"
   ]
  },
  {
   "cell_type": "code",
   "execution_count": 433,
   "id": "fbe1da70",
   "metadata": {
    "ExecuteTime": {
     "end_time": "2022-07-07T23:11:05.591492Z",
     "start_time": "2022-07-07T23:11:05.491260Z"
    }
   },
   "outputs": [
    {
     "data": {
      "text/html": [
       "<div>\n",
       "<style scoped>\n",
       "    .dataframe tbody tr th:only-of-type {\n",
       "        vertical-align: middle;\n",
       "    }\n",
       "\n",
       "    .dataframe tbody tr th {\n",
       "        vertical-align: top;\n",
       "    }\n",
       "\n",
       "    .dataframe thead th {\n",
       "        text-align: right;\n",
       "    }\n",
       "</style>\n",
       "<table border=\"1\" class=\"dataframe\">\n",
       "  <thead>\n",
       "    <tr style=\"text-align: right;\">\n",
       "      <th></th>\n",
       "      <th>invoice_no</th>\n",
       "      <th>stock_code</th>\n",
       "      <th>quantity</th>\n",
       "      <th>invoice_date</th>\n",
       "      <th>unit_price</th>\n",
       "      <th>country</th>\n",
       "      <th>customer_id</th>\n",
       "    </tr>\n",
       "  </thead>\n",
       "  <tbody>\n",
       "    <tr>\n",
       "      <th>0</th>\n",
       "      <td>536365</td>\n",
       "      <td>85123A</td>\n",
       "      <td>6</td>\n",
       "      <td>2016-11-29</td>\n",
       "      <td>2.55</td>\n",
       "      <td>United Kingdom</td>\n",
       "      <td>17850</td>\n",
       "    </tr>\n",
       "    <tr>\n",
       "      <th>1</th>\n",
       "      <td>536365</td>\n",
       "      <td>71053</td>\n",
       "      <td>6</td>\n",
       "      <td>2016-11-29</td>\n",
       "      <td>3.39</td>\n",
       "      <td>United Kingdom</td>\n",
       "      <td>17850</td>\n",
       "    </tr>\n",
       "    <tr>\n",
       "      <th>2</th>\n",
       "      <td>536365</td>\n",
       "      <td>84406B</td>\n",
       "      <td>8</td>\n",
       "      <td>2016-11-29</td>\n",
       "      <td>2.75</td>\n",
       "      <td>United Kingdom</td>\n",
       "      <td>17850</td>\n",
       "    </tr>\n",
       "    <tr>\n",
       "      <th>3</th>\n",
       "      <td>536365</td>\n",
       "      <td>84029G</td>\n",
       "      <td>6</td>\n",
       "      <td>2016-11-29</td>\n",
       "      <td>3.39</td>\n",
       "      <td>United Kingdom</td>\n",
       "      <td>17850</td>\n",
       "    </tr>\n",
       "    <tr>\n",
       "      <th>4</th>\n",
       "      <td>536365</td>\n",
       "      <td>84029E</td>\n",
       "      <td>6</td>\n",
       "      <td>2016-11-29</td>\n",
       "      <td>3.39</td>\n",
       "      <td>United Kingdom</td>\n",
       "      <td>17850</td>\n",
       "    </tr>\n",
       "  </tbody>\n",
       "</table>\n",
       "</div>"
      ],
      "text/plain": [
       "  invoice_no stock_code  quantity invoice_date  unit_price         country  customer_id\n",
       "0     536365     85123A         6   2016-11-29        2.55  United Kingdom        17850\n",
       "1     536365      71053         6   2016-11-29        3.39  United Kingdom        17850\n",
       "2     536365     84406B         8   2016-11-29        2.75  United Kingdom        17850\n",
       "3     536365     84029G         6   2016-11-29        3.39  United Kingdom        17850\n",
       "4     536365     84029E         6   2016-11-29        3.39  United Kingdom        17850"
      ]
     },
     "execution_count": 433,
     "metadata": {},
     "output_type": "execute_result"
    }
   ],
   "source": [
    "df3.head()"
   ]
  },
  {
   "cell_type": "code",
   "execution_count": 434,
   "id": "363c0b4e",
   "metadata": {
    "ExecuteTime": {
     "end_time": "2022-07-07T23:13:04.513539Z",
     "start_time": "2022-07-07T23:13:04.481004Z"
    }
   },
   "outputs": [],
   "source": [
    "# The granularity of the dataset is stock_code and date, but it will be created a reference table with a client granularity where one column will be the client code.\n",
    "\n",
    "# data reference\n",
    "#df_ref = df3.drop(['invoice_no', 'stock_code', 'description', 'quantity', 'invoice_date', 'unit_price', 'country'], axis=1).drop_duplicates()\n",
    "#df_ref.head()"
   ]
  },
  {
   "cell_type": "code",
   "execution_count": 435,
   "id": "a0e52dc1",
   "metadata": {
    "ExecuteTime": {
     "end_time": "2022-07-07T23:13:05.178664Z",
     "start_time": "2022-07-07T23:13:05.164085Z"
    }
   },
   "outputs": [],
   "source": [
    "# data reference\n",
    "#df_ref = df2.drop(['invoice_no', 'stock_code', 'description', 'quantity', 'invoice_date', 'unit_price', 'country'], axis=1).drop_duplicates(ignore_index=True)\n",
    "#df_ref.head()"
   ]
  },
  {
   "cell_type": "code",
   "execution_count": 436,
   "id": "28e7b518",
   "metadata": {
    "ExecuteTime": {
     "end_time": "2022-07-07T23:13:06.876408Z",
     "start_time": "2022-07-07T23:13:06.615084Z"
    }
   },
   "outputs": [],
   "source": [
    "# data reference\n",
    "df_ref = df3.drop(['invoice_no', 'stock_code', 'quantity', 'invoice_date', 'unit_price', 'country'], axis=1).drop_duplicates(ignore_index=True)"
   ]
  },
  {
   "cell_type": "markdown",
   "id": "1d04a34f",
   "metadata": {},
   "source": [
    "### 2.1.1 Gross Revenue"
   ]
  },
  {
   "cell_type": "code",
   "execution_count": 437,
   "id": "eceea866",
   "metadata": {
    "ExecuteTime": {
     "end_time": "2022-07-07T23:13:11.402676Z",
     "start_time": "2022-07-07T23:13:08.648829Z"
    }
   },
   "outputs": [
    {
     "name": "stderr",
     "output_type": "stream",
     "text": [
      "/tmp/ipykernel_16492/2621303085.py:2: SettingWithCopyWarning: \n",
      "A value is trying to be set on a copy of a slice from a DataFrame.\n",
      "Try using .loc[row_indexer,col_indexer] = value instead\n",
      "\n",
      "See the caveats in the documentation: https://pandas.pydata.org/pandas-docs/stable/user_guide/indexing.html#returning-a-view-versus-a-copy\n",
      "  df2_purchases.loc[:, 'gross_revenue'] = df2_purchases.loc[:, 'quantity'] * df2_purchases.loc[:, 'unit_price']\n"
     ]
    }
   ],
   "source": [
    "# Gross Revenue (quantity * price)\n",
    "df2_purchases.loc[:, 'gross_revenue'] = df2_purchases.loc[:, 'quantity'] * df2_purchases.loc[:, 'unit_price']\n",
    "\n",
    "# Monetary (how much was sepend with the company until now)\n",
    "#df2[['customer_id', 'gross_revenue']].groupby('customer_id').sum().reset_index().head()"
   ]
  },
  {
   "cell_type": "code",
   "execution_count": 438,
   "id": "826538e8",
   "metadata": {
    "ExecuteTime": {
     "end_time": "2022-07-07T23:13:11.446137Z",
     "start_time": "2022-07-07T23:13:11.415777Z"
    }
   },
   "outputs": [],
   "source": [
    "# Monetary (how much was sepend with the company until now)\n",
    "#df_monetary = df2_purchases[['customer_id', 'gross_revenue']].groupby('customer_id').sum().reset_index()\n",
    "#df_ref = pd.merge(df_ref, df_monetary, on='customer_id', how='left')\n",
    "#df_ref.head()"
   ]
  },
  {
   "cell_type": "code",
   "execution_count": 439,
   "id": "5b928b7c",
   "metadata": {
    "ExecuteTime": {
     "end_time": "2022-07-07T23:13:11.801416Z",
     "start_time": "2022-07-07T23:13:11.466594Z"
    }
   },
   "outputs": [
    {
     "data": {
      "text/html": [
       "<div>\n",
       "<style scoped>\n",
       "    .dataframe tbody tr th:only-of-type {\n",
       "        vertical-align: middle;\n",
       "    }\n",
       "\n",
       "    .dataframe tbody tr th {\n",
       "        vertical-align: top;\n",
       "    }\n",
       "\n",
       "    .dataframe thead th {\n",
       "        text-align: right;\n",
       "    }\n",
       "</style>\n",
       "<table border=\"1\" class=\"dataframe\">\n",
       "  <thead>\n",
       "    <tr style=\"text-align: right;\">\n",
       "      <th></th>\n",
       "      <th>customer_id</th>\n",
       "      <th>gross_revenue</th>\n",
       "    </tr>\n",
       "  </thead>\n",
       "  <tbody>\n",
       "    <tr>\n",
       "      <th>0</th>\n",
       "      <td>17850</td>\n",
       "      <td>5391.21</td>\n",
       "    </tr>\n",
       "    <tr>\n",
       "      <th>1</th>\n",
       "      <td>13047</td>\n",
       "      <td>3232.59</td>\n",
       "    </tr>\n",
       "    <tr>\n",
       "      <th>2</th>\n",
       "      <td>12583</td>\n",
       "      <td>6705.38</td>\n",
       "    </tr>\n",
       "    <tr>\n",
       "      <th>3</th>\n",
       "      <td>13748</td>\n",
       "      <td>948.25</td>\n",
       "    </tr>\n",
       "    <tr>\n",
       "      <th>4</th>\n",
       "      <td>15100</td>\n",
       "      <td>876.00</td>\n",
       "    </tr>\n",
       "  </tbody>\n",
       "</table>\n",
       "</div>"
      ],
      "text/plain": [
       "   customer_id  gross_revenue\n",
       "0        17850        5391.21\n",
       "1        13047        3232.59\n",
       "2        12583        6705.38\n",
       "3        13748         948.25\n",
       "4        15100         876.00"
      ]
     },
     "execution_count": 439,
     "metadata": {},
     "output_type": "execute_result"
    }
   ],
   "source": [
    "# Monetary (how much was sepend with the company until now) ->  agora com ddf2_purchases\n",
    "df_monetary = df2_purchases.loc[:, ['customer_id', 'gross_revenue']].groupby('customer_id').sum().reset_index()\n",
    "df_ref = pd.merge(df_ref, df_monetary, on='customer_id', how='left')\n",
    "df_ref.head()"
   ]
  },
  {
   "cell_type": "code",
   "execution_count": 440,
   "id": "056664b2",
   "metadata": {
    "ExecuteTime": {
     "end_time": "2022-07-07T23:13:11.938039Z",
     "start_time": "2022-07-07T23:13:11.839217Z"
    }
   },
   "outputs": [
    {
     "data": {
      "text/plain": [
       "customer_id       0\n",
       "gross_revenue    91\n",
       "dtype: int64"
      ]
     },
     "execution_count": 440,
     "metadata": {},
     "output_type": "execute_result"
    }
   ],
   "source": [
    "df_ref.isna().sum()"
   ]
  },
  {
   "cell_type": "markdown",
   "id": "091ec980",
   "metadata": {},
   "source": [
    "### 2.1.2 Recency - Day from last purchase"
   ]
  },
  {
   "cell_type": "code",
   "execution_count": 441,
   "id": "f4b49a4f",
   "metadata": {
    "ExecuteTime": {
     "end_time": "2022-07-07T23:13:14.488201Z",
     "start_time": "2022-07-07T23:13:14.293133Z"
    }
   },
   "outputs": [
    {
     "data": {
      "text/html": [
       "<div>\n",
       "<style scoped>\n",
       "    .dataframe tbody tr th:only-of-type {\n",
       "        vertical-align: middle;\n",
       "    }\n",
       "\n",
       "    .dataframe tbody tr th {\n",
       "        vertical-align: top;\n",
       "    }\n",
       "\n",
       "    .dataframe thead th {\n",
       "        text-align: right;\n",
       "    }\n",
       "</style>\n",
       "<table border=\"1\" class=\"dataframe\">\n",
       "  <thead>\n",
       "    <tr style=\"text-align: right;\">\n",
       "      <th></th>\n",
       "      <th>customer_id</th>\n",
       "      <th>invoice_date</th>\n",
       "    </tr>\n",
       "  </thead>\n",
       "  <tbody>\n",
       "    <tr>\n",
       "      <th>0</th>\n",
       "      <td>12346</td>\n",
       "      <td>2017-01-16</td>\n",
       "    </tr>\n",
       "    <tr>\n",
       "      <th>1</th>\n",
       "      <td>12347</td>\n",
       "      <td>2017-12-05</td>\n",
       "    </tr>\n",
       "    <tr>\n",
       "      <th>2</th>\n",
       "      <td>12348</td>\n",
       "      <td>2017-09-23</td>\n",
       "    </tr>\n",
       "    <tr>\n",
       "      <th>3</th>\n",
       "      <td>12349</td>\n",
       "      <td>2017-11-19</td>\n",
       "    </tr>\n",
       "    <tr>\n",
       "      <th>4</th>\n",
       "      <td>12350</td>\n",
       "      <td>2017-01-31</td>\n",
       "    </tr>\n",
       "  </tbody>\n",
       "</table>\n",
       "</div>"
      ],
      "text/plain": [
       "   customer_id invoice_date\n",
       "0        12346   2017-01-16\n",
       "1        12347   2017-12-05\n",
       "2        12348   2017-09-23\n",
       "3        12349   2017-11-19\n",
       "4        12350   2017-01-31"
      ]
     },
     "execution_count": 441,
     "metadata": {},
     "output_type": "execute_result"
    }
   ],
   "source": [
    "# Recency - Last day purchase\n",
    "df_recency = df2_purchases.loc[:, ['customer_id', 'invoice_date']].groupby('customer_id').max().reset_index()\n",
    "df_recency.head()"
   ]
  },
  {
   "cell_type": "code",
   "execution_count": 442,
   "id": "c1711216",
   "metadata": {
    "ExecuteTime": {
     "end_time": "2022-07-07T23:13:15.449564Z",
     "start_time": "2022-07-07T23:13:15.287847Z"
    }
   },
   "outputs": [
    {
     "data": {
      "text/html": [
       "<div>\n",
       "<style scoped>\n",
       "    .dataframe tbody tr th:only-of-type {\n",
       "        vertical-align: middle;\n",
       "    }\n",
       "\n",
       "    .dataframe tbody tr th {\n",
       "        vertical-align: top;\n",
       "    }\n",
       "\n",
       "    .dataframe thead th {\n",
       "        text-align: right;\n",
       "    }\n",
       "</style>\n",
       "<table border=\"1\" class=\"dataframe\">\n",
       "  <thead>\n",
       "    <tr style=\"text-align: right;\">\n",
       "      <th></th>\n",
       "      <th>customer_id</th>\n",
       "      <th>invoice_date</th>\n",
       "    </tr>\n",
       "  </thead>\n",
       "  <tbody>\n",
       "    <tr>\n",
       "      <th>0</th>\n",
       "      <td>12346</td>\n",
       "      <td>2017-01-16</td>\n",
       "    </tr>\n",
       "    <tr>\n",
       "      <th>1</th>\n",
       "      <td>12347</td>\n",
       "      <td>2017-12-05</td>\n",
       "    </tr>\n",
       "    <tr>\n",
       "      <th>2</th>\n",
       "      <td>12348</td>\n",
       "      <td>2017-09-23</td>\n",
       "    </tr>\n",
       "    <tr>\n",
       "      <th>3</th>\n",
       "      <td>12349</td>\n",
       "      <td>2017-11-19</td>\n",
       "    </tr>\n",
       "    <tr>\n",
       "      <th>4</th>\n",
       "      <td>12350</td>\n",
       "      <td>2017-01-31</td>\n",
       "    </tr>\n",
       "  </tbody>\n",
       "</table>\n",
       "</div>"
      ],
      "text/plain": [
       "   customer_id invoice_date\n",
       "0        12346   2017-01-16\n",
       "1        12347   2017-12-05\n",
       "2        12348   2017-09-23\n",
       "3        12349   2017-11-19\n",
       "4        12350   2017-01-31"
      ]
     },
     "execution_count": 442,
     "metadata": {},
     "output_type": "execute_result"
    }
   ],
   "source": [
    "df2[['customer_id', 'invoice_date']].groupby('customer_id').max().reset_index().head()"
   ]
  },
  {
   "cell_type": "code",
   "execution_count": 443,
   "id": "a68b34ad",
   "metadata": {
    "ExecuteTime": {
     "end_time": "2022-07-07T23:13:16.000822Z",
     "start_time": "2022-07-07T23:13:15.986829Z"
    }
   },
   "outputs": [],
   "source": [
    "#df_recency_days = (df2['invoice_date'].max() - df_recency['invoice_date'])\n",
    "#df_recency_days.head()"
   ]
  },
  {
   "cell_type": "code",
   "execution_count": 444,
   "id": "34194d69",
   "metadata": {
    "ExecuteTime": {
     "end_time": "2022-07-07T23:13:19.135042Z",
     "start_time": "2022-07-07T23:13:19.112088Z"
    }
   },
   "outputs": [],
   "source": [
    "#type(df_recency_days[0])"
   ]
  },
  {
   "cell_type": "code",
   "execution_count": 445,
   "id": "427dcea9",
   "metadata": {
    "ExecuteTime": {
     "end_time": "2022-07-07T23:13:20.379650Z",
     "start_time": "2022-07-07T23:13:20.347091Z"
    }
   },
   "outputs": [
    {
     "name": "stdout",
     "output_type": "stream",
     "text": [
      "(536143, 7)\n",
      "(5696, 2)\n"
     ]
    }
   ],
   "source": [
    "print(df2.shape)\n",
    "print(df_recency.shape)"
   ]
  },
  {
   "cell_type": "code",
   "execution_count": 446,
   "id": "81a69a47",
   "metadata": {
    "ExecuteTime": {
     "end_time": "2022-07-07T23:13:22.182688Z",
     "start_time": "2022-07-07T23:13:22.132239Z"
    }
   },
   "outputs": [
    {
     "data": {
      "text/plain": [
       "Timestamp('2017-12-07 00:00:00')"
      ]
     },
     "execution_count": 446,
     "metadata": {},
     "output_type": "execute_result"
    }
   ],
   "source": [
    "df2['invoice_date'].max()"
   ]
  },
  {
   "cell_type": "code",
   "execution_count": 447,
   "id": "b7453ff8",
   "metadata": {
    "ExecuteTime": {
     "end_time": "2022-07-07T23:13:23.345550Z",
     "start_time": "2022-07-07T23:13:23.284695Z"
    }
   },
   "outputs": [],
   "source": [
    "df_recency['recency_days'] = (df2['invoice_date'].max() - df_recency['invoice_date']).dt.days # dt is like apply and vetorize the days method in the dataframe which is in the tslibs format\n",
    "#df_recency_days.head()"
   ]
  },
  {
   "cell_type": "code",
   "execution_count": 448,
   "id": "4c83bd4e",
   "metadata": {
    "ExecuteTime": {
     "end_time": "2022-07-07T23:13:24.430352Z",
     "start_time": "2022-07-07T23:13:24.399542Z"
    }
   },
   "outputs": [
    {
     "data": {
      "text/plain": [
       "0    325\n",
       "1      2\n",
       "2     75\n",
       "3     18\n",
       "4    310\n",
       "Name: recency_days, dtype: int64"
      ]
     },
     "execution_count": 448,
     "metadata": {},
     "output_type": "execute_result"
    }
   ],
   "source": [
    "df_recency['recency_days'].head()"
   ]
  },
  {
   "cell_type": "code",
   "execution_count": 449,
   "id": "aa3b81ee",
   "metadata": {
    "ExecuteTime": {
     "end_time": "2022-07-07T23:13:25.080091Z",
     "start_time": "2022-07-07T23:13:25.050037Z"
    }
   },
   "outputs": [
    {
     "data": {
      "text/plain": [
       "(5696, 3)"
      ]
     },
     "execution_count": 449,
     "metadata": {},
     "output_type": "execute_result"
    }
   ],
   "source": [
    "df_recency.shape"
   ]
  },
  {
   "cell_type": "code",
   "execution_count": 450,
   "id": "2431267d",
   "metadata": {
    "ExecuteTime": {
     "end_time": "2022-07-07T23:13:26.367431Z",
     "start_time": "2022-07-07T23:13:26.353028Z"
    }
   },
   "outputs": [],
   "source": [
    "#df_recency['recency_days'] = df_recency_days\n",
    "#df_recency.head()"
   ]
  },
  {
   "cell_type": "code",
   "execution_count": 451,
   "id": "f3da75d0",
   "metadata": {
    "ExecuteTime": {
     "end_time": "2022-07-07T23:13:27.369127Z",
     "start_time": "2022-07-07T23:13:27.305247Z"
    }
   },
   "outputs": [],
   "source": [
    "df_recency = df_recency[['customer_id', 'recency_days']].copy() # to make a physical copy"
   ]
  },
  {
   "cell_type": "code",
   "execution_count": 452,
   "id": "80bbfce4",
   "metadata": {
    "ExecuteTime": {
     "end_time": "2022-07-07T23:13:28.477597Z",
     "start_time": "2022-07-07T23:13:28.354050Z"
    }
   },
   "outputs": [
    {
     "data": {
      "text/html": [
       "<div>\n",
       "<style scoped>\n",
       "    .dataframe tbody tr th:only-of-type {\n",
       "        vertical-align: middle;\n",
       "    }\n",
       "\n",
       "    .dataframe tbody tr th {\n",
       "        vertical-align: top;\n",
       "    }\n",
       "\n",
       "    .dataframe thead th {\n",
       "        text-align: right;\n",
       "    }\n",
       "</style>\n",
       "<table border=\"1\" class=\"dataframe\">\n",
       "  <thead>\n",
       "    <tr style=\"text-align: right;\">\n",
       "      <th></th>\n",
       "      <th>customer_id</th>\n",
       "      <th>gross_revenue</th>\n",
       "      <th>recency_days</th>\n",
       "    </tr>\n",
       "  </thead>\n",
       "  <tbody>\n",
       "    <tr>\n",
       "      <th>0</th>\n",
       "      <td>17850</td>\n",
       "      <td>5391.21</td>\n",
       "      <td>372.0</td>\n",
       "    </tr>\n",
       "    <tr>\n",
       "      <th>1</th>\n",
       "      <td>13047</td>\n",
       "      <td>3232.59</td>\n",
       "      <td>56.0</td>\n",
       "    </tr>\n",
       "    <tr>\n",
       "      <th>2</th>\n",
       "      <td>12583</td>\n",
       "      <td>6705.38</td>\n",
       "      <td>2.0</td>\n",
       "    </tr>\n",
       "    <tr>\n",
       "      <th>3</th>\n",
       "      <td>13748</td>\n",
       "      <td>948.25</td>\n",
       "      <td>95.0</td>\n",
       "    </tr>\n",
       "    <tr>\n",
       "      <th>4</th>\n",
       "      <td>15100</td>\n",
       "      <td>876.00</td>\n",
       "      <td>333.0</td>\n",
       "    </tr>\n",
       "  </tbody>\n",
       "</table>\n",
       "</div>"
      ],
      "text/plain": [
       "   customer_id  gross_revenue  recency_days\n",
       "0        17850        5391.21         372.0\n",
       "1        13047        3232.59          56.0\n",
       "2        12583        6705.38           2.0\n",
       "3        13748         948.25          95.0\n",
       "4        15100         876.00         333.0"
      ]
     },
     "execution_count": 452,
     "metadata": {},
     "output_type": "execute_result"
    }
   ],
   "source": [
    "df_ref = pd.merge(df_ref, df_recency, on='customer_id', how='left')\n",
    "df_ref.head()"
   ]
  },
  {
   "cell_type": "code",
   "execution_count": 453,
   "id": "586f21eb",
   "metadata": {
    "ExecuteTime": {
     "end_time": "2022-07-07T23:13:29.375141Z",
     "start_time": "2022-07-07T23:13:29.311451Z"
    }
   },
   "outputs": [
    {
     "data": {
      "text/plain": [
       "(5787, 3)"
      ]
     },
     "execution_count": 453,
     "metadata": {},
     "output_type": "execute_result"
    }
   ],
   "source": [
    "df_ref.shape"
   ]
  },
  {
   "cell_type": "code",
   "execution_count": 454,
   "id": "d9a4a5d0",
   "metadata": {
    "ExecuteTime": {
     "end_time": "2022-07-07T23:13:30.440101Z",
     "start_time": "2022-07-07T23:13:30.375013Z"
    }
   },
   "outputs": [
    {
     "data": {
      "text/plain": [
       "customer_id       0\n",
       "gross_revenue    91\n",
       "recency_days     91\n",
       "dtype: int64"
      ]
     },
     "execution_count": 454,
     "metadata": {},
     "output_type": "execute_result"
    }
   ],
   "source": [
    "df_ref.isna().sum()"
   ]
  },
  {
   "cell_type": "markdown",
   "id": "f66d07f3",
   "metadata": {
    "ExecuteTime": {
     "end_time": "2022-07-06T12:05:03.049845Z",
     "start_time": "2022-07-06T12:05:03.040403Z"
    }
   },
   "source": [
    "### 2.1.3 Quantity of  purchases"
   ]
  },
  {
   "cell_type": "code",
   "execution_count": 455,
   "id": "02497671",
   "metadata": {
    "ExecuteTime": {
     "end_time": "2022-07-07T23:13:32.644733Z",
     "start_time": "2022-07-07T23:13:32.552288Z"
    }
   },
   "outputs": [
    {
     "data": {
      "text/html": [
       "<div>\n",
       "<style scoped>\n",
       "    .dataframe tbody tr th:only-of-type {\n",
       "        vertical-align: middle;\n",
       "    }\n",
       "\n",
       "    .dataframe tbody tr th {\n",
       "        vertical-align: top;\n",
       "    }\n",
       "\n",
       "    .dataframe thead th {\n",
       "        text-align: right;\n",
       "    }\n",
       "</style>\n",
       "<table border=\"1\" class=\"dataframe\">\n",
       "  <thead>\n",
       "    <tr style=\"text-align: right;\">\n",
       "      <th></th>\n",
       "      <th>customer_id</th>\n",
       "      <th>invoice_no</th>\n",
       "    </tr>\n",
       "  </thead>\n",
       "  <tbody>\n",
       "    <tr>\n",
       "      <th>0</th>\n",
       "      <td>17850</td>\n",
       "      <td>536365</td>\n",
       "    </tr>\n",
       "    <tr>\n",
       "      <th>1</th>\n",
       "      <td>17850</td>\n",
       "      <td>536365</td>\n",
       "    </tr>\n",
       "    <tr>\n",
       "      <th>2</th>\n",
       "      <td>17850</td>\n",
       "      <td>536365</td>\n",
       "    </tr>\n",
       "    <tr>\n",
       "      <th>3</th>\n",
       "      <td>17850</td>\n",
       "      <td>536365</td>\n",
       "    </tr>\n",
       "    <tr>\n",
       "      <th>4</th>\n",
       "      <td>17850</td>\n",
       "      <td>536365</td>\n",
       "    </tr>\n",
       "  </tbody>\n",
       "</table>\n",
       "</div>"
      ],
      "text/plain": [
       "   customer_id invoice_no\n",
       "0        17850     536365\n",
       "1        17850     536365\n",
       "2        17850     536365\n",
       "3        17850     536365\n",
       "4        17850     536365"
      ]
     },
     "execution_count": 455,
     "metadata": {},
     "output_type": "execute_result"
    }
   ],
   "source": [
    "df2[['customer_id', 'invoice_no']].head()"
   ]
  },
  {
   "cell_type": "code",
   "execution_count": 456,
   "id": "d660719b",
   "metadata": {
    "ExecuteTime": {
     "end_time": "2022-07-07T23:13:33.818820Z",
     "start_time": "2022-07-07T23:13:33.311165Z"
    }
   },
   "outputs": [
    {
     "data": {
      "text/html": [
       "<div>\n",
       "<style scoped>\n",
       "    .dataframe tbody tr th:only-of-type {\n",
       "        vertical-align: middle;\n",
       "    }\n",
       "\n",
       "    .dataframe tbody tr th {\n",
       "        vertical-align: top;\n",
       "    }\n",
       "\n",
       "    .dataframe thead th {\n",
       "        text-align: right;\n",
       "    }\n",
       "</style>\n",
       "<table border=\"1\" class=\"dataframe\">\n",
       "  <thead>\n",
       "    <tr style=\"text-align: right;\">\n",
       "      <th></th>\n",
       "      <th>customer_id</th>\n",
       "      <th>invoice_no</th>\n",
       "    </tr>\n",
       "  </thead>\n",
       "  <tbody>\n",
       "    <tr>\n",
       "      <th>0</th>\n",
       "      <td>12346</td>\n",
       "      <td>1</td>\n",
       "    </tr>\n",
       "    <tr>\n",
       "      <th>1</th>\n",
       "      <td>12347</td>\n",
       "      <td>7</td>\n",
       "    </tr>\n",
       "    <tr>\n",
       "      <th>2</th>\n",
       "      <td>12348</td>\n",
       "      <td>4</td>\n",
       "    </tr>\n",
       "    <tr>\n",
       "      <th>3</th>\n",
       "      <td>12349</td>\n",
       "      <td>1</td>\n",
       "    </tr>\n",
       "    <tr>\n",
       "      <th>4</th>\n",
       "      <td>12350</td>\n",
       "      <td>1</td>\n",
       "    </tr>\n",
       "  </tbody>\n",
       "</table>\n",
       "</div>"
      ],
      "text/plain": [
       "   customer_id  invoice_no\n",
       "0        12346           1\n",
       "1        12347           7\n",
       "2        12348           4\n",
       "3        12349           1\n",
       "4        12350           1"
      ]
     },
     "execution_count": 456,
     "metadata": {},
     "output_type": "execute_result"
    }
   ],
   "source": [
    "df_freq = df2_purchases.loc[:, ['customer_id', 'invoice_no']].drop_duplicates().groupby('customer_id').count().reset_index()\n",
    "df_freq.head()"
   ]
  },
  {
   "cell_type": "code",
   "execution_count": 457,
   "id": "6872b7e1",
   "metadata": {
    "ExecuteTime": {
     "end_time": "2022-07-07T23:13:34.167954Z",
     "start_time": "2022-07-07T23:13:34.101994Z"
    }
   },
   "outputs": [],
   "source": [
    "df_ref = pd.merge(df_ref, df_freq, on='customer_id', how='left')"
   ]
  },
  {
   "cell_type": "code",
   "execution_count": 458,
   "id": "4ab43f79",
   "metadata": {
    "ExecuteTime": {
     "end_time": "2022-07-07T23:13:35.240358Z",
     "start_time": "2022-07-07T23:13:35.149802Z"
    }
   },
   "outputs": [
    {
     "data": {
      "text/html": [
       "<div>\n",
       "<style scoped>\n",
       "    .dataframe tbody tr th:only-of-type {\n",
       "        vertical-align: middle;\n",
       "    }\n",
       "\n",
       "    .dataframe tbody tr th {\n",
       "        vertical-align: top;\n",
       "    }\n",
       "\n",
       "    .dataframe thead th {\n",
       "        text-align: right;\n",
       "    }\n",
       "</style>\n",
       "<table border=\"1\" class=\"dataframe\">\n",
       "  <thead>\n",
       "    <tr style=\"text-align: right;\">\n",
       "      <th></th>\n",
       "      <th>customer_id</th>\n",
       "      <th>gross_revenue</th>\n",
       "      <th>recency_days</th>\n",
       "      <th>invoice_no</th>\n",
       "    </tr>\n",
       "  </thead>\n",
       "  <tbody>\n",
       "    <tr>\n",
       "      <th>0</th>\n",
       "      <td>17850</td>\n",
       "      <td>5391.21</td>\n",
       "      <td>372.0</td>\n",
       "      <td>34.0</td>\n",
       "    </tr>\n",
       "    <tr>\n",
       "      <th>1</th>\n",
       "      <td>13047</td>\n",
       "      <td>3232.59</td>\n",
       "      <td>56.0</td>\n",
       "      <td>9.0</td>\n",
       "    </tr>\n",
       "    <tr>\n",
       "      <th>2</th>\n",
       "      <td>12583</td>\n",
       "      <td>6705.38</td>\n",
       "      <td>2.0</td>\n",
       "      <td>15.0</td>\n",
       "    </tr>\n",
       "    <tr>\n",
       "      <th>3</th>\n",
       "      <td>13748</td>\n",
       "      <td>948.25</td>\n",
       "      <td>95.0</td>\n",
       "      <td>5.0</td>\n",
       "    </tr>\n",
       "    <tr>\n",
       "      <th>4</th>\n",
       "      <td>15100</td>\n",
       "      <td>876.00</td>\n",
       "      <td>333.0</td>\n",
       "      <td>3.0</td>\n",
       "    </tr>\n",
       "  </tbody>\n",
       "</table>\n",
       "</div>"
      ],
      "text/plain": [
       "   customer_id  gross_revenue  recency_days  invoice_no\n",
       "0        17850        5391.21         372.0        34.0\n",
       "1        13047        3232.59          56.0         9.0\n",
       "2        12583        6705.38           2.0        15.0\n",
       "3        13748         948.25          95.0         5.0\n",
       "4        15100         876.00         333.0         3.0"
      ]
     },
     "execution_count": 458,
     "metadata": {},
     "output_type": "execute_result"
    }
   ],
   "source": [
    "df_ref.head()"
   ]
  },
  {
   "cell_type": "markdown",
   "id": "975d0a89",
   "metadata": {
    "ExecuteTime": {
     "end_time": "2022-07-06T12:05:03.049845Z",
     "start_time": "2022-07-06T12:05:03.040403Z"
    }
   },
   "source": [
    "### 2.1.4 Quantity of products purchased"
   ]
  },
  {
   "cell_type": "code",
   "execution_count": 459,
   "id": "7e05562c",
   "metadata": {
    "ExecuteTime": {
     "end_time": "2022-07-07T23:13:37.857445Z",
     "start_time": "2022-07-07T23:13:37.514807Z"
    }
   },
   "outputs": [
    {
     "data": {
      "text/plain": [
       "customer_id       0\n",
       "gross_revenue    91\n",
       "recency_days     91\n",
       "invoice_no       91\n",
       "quantity         91\n",
       "dtype: int64"
      ]
     },
     "execution_count": 459,
     "metadata": {},
     "output_type": "execute_result"
    }
   ],
   "source": [
    "df_freq = df2_purchases.loc[:, ['customer_id', 'quantity']].drop_duplicates().groupby('customer_id').count().reset_index()\n",
    "df_freq.head()\n",
    "df_ref = pd.merge(df_ref, df_freq, on='customer_id', how='left')\n",
    "df_ref.isna().sum()"
   ]
  },
  {
   "cell_type": "markdown",
   "id": "5b691dcb",
   "metadata": {
    "ExecuteTime": {
     "end_time": "2022-07-06T12:05:08.732804Z",
     "start_time": "2022-07-06T12:05:08.721966Z"
    }
   },
   "source": [
    "### 2.1.5 Avg Ticket"
   ]
  },
  {
   "cell_type": "code",
   "execution_count": 460,
   "id": "17ec02d2",
   "metadata": {
    "ExecuteTime": {
     "end_time": "2022-07-07T23:13:39.705042Z",
     "start_time": "2022-07-07T23:13:39.678946Z"
    }
   },
   "outputs": [],
   "source": [
    "#df_avg_ticket = df2_purchases.loc[:, ['customer_id', 'gross_revenue']].groupby('customer_id').mean().reset_index()\n",
    "#df_avg_ticket.head()"
   ]
  },
  {
   "cell_type": "code",
   "execution_count": 461,
   "id": "5540b2a3",
   "metadata": {
    "ExecuteTime": {
     "end_time": "2022-07-07T23:13:40.866119Z",
     "start_time": "2022-07-07T23:13:40.642009Z"
    },
    "scrolled": false
   },
   "outputs": [
    {
     "data": {
      "text/html": [
       "<div>\n",
       "<style scoped>\n",
       "    .dataframe tbody tr th:only-of-type {\n",
       "        vertical-align: middle;\n",
       "    }\n",
       "\n",
       "    .dataframe tbody tr th {\n",
       "        vertical-align: top;\n",
       "    }\n",
       "\n",
       "    .dataframe thead th {\n",
       "        text-align: right;\n",
       "    }\n",
       "</style>\n",
       "<table border=\"1\" class=\"dataframe\">\n",
       "  <thead>\n",
       "    <tr style=\"text-align: right;\">\n",
       "      <th></th>\n",
       "      <th>customer_id</th>\n",
       "      <th>avg_ticket</th>\n",
       "    </tr>\n",
       "  </thead>\n",
       "  <tbody>\n",
       "    <tr>\n",
       "      <th>0</th>\n",
       "      <td>12346</td>\n",
       "      <td>77183.600000</td>\n",
       "    </tr>\n",
       "    <tr>\n",
       "      <th>1</th>\n",
       "      <td>12347</td>\n",
       "      <td>23.681319</td>\n",
       "    </tr>\n",
       "    <tr>\n",
       "      <th>2</th>\n",
       "      <td>12348</td>\n",
       "      <td>53.231111</td>\n",
       "    </tr>\n",
       "    <tr>\n",
       "      <th>3</th>\n",
       "      <td>12349</td>\n",
       "      <td>20.243750</td>\n",
       "    </tr>\n",
       "    <tr>\n",
       "      <th>4</th>\n",
       "      <td>12350</td>\n",
       "      <td>18.400000</td>\n",
       "    </tr>\n",
       "  </tbody>\n",
       "</table>\n",
       "</div>"
      ],
      "text/plain": [
       "   customer_id    avg_ticket\n",
       "0        12346  77183.600000\n",
       "1        12347     23.681319\n",
       "2        12348     53.231111\n",
       "3        12349     20.243750\n",
       "4        12350     18.400000"
      ]
     },
     "execution_count": 461,
     "metadata": {},
     "output_type": "execute_result"
    }
   ],
   "source": [
    "df_avg_ticket = df2_purchases[['customer_id', 'gross_revenue']].groupby('customer_id').mean().reset_index().rename(columns={'gross_revenue': 'avg_ticket'})\n",
    "df_avg_ticket.head()"
   ]
  },
  {
   "cell_type": "code",
   "execution_count": 462,
   "id": "96504b6b",
   "metadata": {
    "ExecuteTime": {
     "end_time": "2022-07-07T23:13:42.106607Z",
     "start_time": "2022-07-07T23:13:42.002856Z"
    }
   },
   "outputs": [
    {
     "data": {
      "text/plain": [
       "customer_id       0\n",
       "gross_revenue    91\n",
       "recency_days     91\n",
       "invoice_no       91\n",
       "quantity         91\n",
       "avg_ticket       91\n",
       "dtype: int64"
      ]
     },
     "execution_count": 462,
     "metadata": {},
     "output_type": "execute_result"
    }
   ],
   "source": [
    "df_ref = pd.merge(df_ref, df_avg_ticket, on='customer_id', how='left')\n",
    "df_ref.isna().sum()"
   ]
  },
  {
   "cell_type": "code",
   "execution_count": 463,
   "id": "d8db887c",
   "metadata": {
    "ExecuteTime": {
     "end_time": "2022-07-07T23:13:42.842824Z",
     "start_time": "2022-07-07T23:13:42.757750Z"
    }
   },
   "outputs": [
    {
     "data": {
      "text/html": [
       "<div>\n",
       "<style scoped>\n",
       "    .dataframe tbody tr th:only-of-type {\n",
       "        vertical-align: middle;\n",
       "    }\n",
       "\n",
       "    .dataframe tbody tr th {\n",
       "        vertical-align: top;\n",
       "    }\n",
       "\n",
       "    .dataframe thead th {\n",
       "        text-align: right;\n",
       "    }\n",
       "</style>\n",
       "<table border=\"1\" class=\"dataframe\">\n",
       "  <thead>\n",
       "    <tr style=\"text-align: right;\">\n",
       "      <th></th>\n",
       "      <th>customer_id</th>\n",
       "      <th>gross_revenue</th>\n",
       "      <th>recency_days</th>\n",
       "      <th>invoice_no</th>\n",
       "      <th>quantity</th>\n",
       "      <th>avg_ticket</th>\n",
       "    </tr>\n",
       "  </thead>\n",
       "  <tbody>\n",
       "    <tr>\n",
       "      <th>0</th>\n",
       "      <td>17850</td>\n",
       "      <td>5391.21</td>\n",
       "      <td>372.0</td>\n",
       "      <td>34.0</td>\n",
       "      <td>6.0</td>\n",
       "      <td>18.152222</td>\n",
       "    </tr>\n",
       "    <tr>\n",
       "      <th>1</th>\n",
       "      <td>13047</td>\n",
       "      <td>3232.59</td>\n",
       "      <td>56.0</td>\n",
       "      <td>9.0</td>\n",
       "      <td>11.0</td>\n",
       "      <td>18.904035</td>\n",
       "    </tr>\n",
       "    <tr>\n",
       "      <th>2</th>\n",
       "      <td>12583</td>\n",
       "      <td>6705.38</td>\n",
       "      <td>2.0</td>\n",
       "      <td>15.0</td>\n",
       "      <td>24.0</td>\n",
       "      <td>28.902500</td>\n",
       "    </tr>\n",
       "    <tr>\n",
       "      <th>3</th>\n",
       "      <td>13748</td>\n",
       "      <td>948.25</td>\n",
       "      <td>95.0</td>\n",
       "      <td>5.0</td>\n",
       "      <td>8.0</td>\n",
       "      <td>33.866071</td>\n",
       "    </tr>\n",
       "    <tr>\n",
       "      <th>4</th>\n",
       "      <td>15100</td>\n",
       "      <td>876.00</td>\n",
       "      <td>333.0</td>\n",
       "      <td>3.0</td>\n",
       "      <td>2.0</td>\n",
       "      <td>292.000000</td>\n",
       "    </tr>\n",
       "  </tbody>\n",
       "</table>\n",
       "</div>"
      ],
      "text/plain": [
       "   customer_id  gross_revenue  recency_days  invoice_no  quantity  avg_ticket\n",
       "0        17850        5391.21         372.0        34.0       6.0   18.152222\n",
       "1        13047        3232.59          56.0         9.0      11.0   18.904035\n",
       "2        12583        6705.38           2.0        15.0      24.0   28.902500\n",
       "3        13748         948.25          95.0         5.0       8.0   33.866071\n",
       "4        15100         876.00         333.0         3.0       2.0  292.000000"
      ]
     },
     "execution_count": 463,
     "metadata": {},
     "output_type": "execute_result"
    }
   ],
   "source": [
    "df_ref.head()"
   ]
  },
  {
   "cell_type": "markdown",
   "id": "0dfb7c5b",
   "metadata": {},
   "source": [
    "### 2.1.6 Average Recency Days"
   ]
  },
  {
   "cell_type": "code",
   "execution_count": 464,
   "id": "5c3086fa",
   "metadata": {
    "ExecuteTime": {
     "end_time": "2022-07-07T23:13:53.081555Z",
     "start_time": "2022-07-07T23:13:43.932146Z"
    }
   },
   "outputs": [
    {
     "data": {
      "text/plain": [
       "customer_id            0\n",
       "gross_revenue         91\n",
       "recency_days          91\n",
       "invoice_no            91\n",
       "quantity              91\n",
       "avg_ticket            91\n",
       "avg_recency_days    2816\n",
       "dtype: int64"
      ]
     },
     "execution_count": 464,
     "metadata": {},
     "output_type": "execute_result"
    }
   ],
   "source": [
    "df_aux = df2[['customer_id', 'invoice_date']].drop_duplicates().sort_values(['customer_id', 'invoice_date'], ascending=False)\n",
    "df_aux['next_customer_id'] = df_aux['customer_id'].shift() # next customer\n",
    "df_aux['previous_date'] = df_aux['invoice_date'].shift() # next invoice date\n",
    "\n",
    "df_aux['avg_recency_days'] = df_aux.apply(lambda x: (x['invoice_date'] - x['previous_date']).days if x['customer_id'] == x['next_customer_id'] else np.nan, axis=1)\n",
    "df_aux['avg_recency_days'] = df_aux['avg_recency_days'] * -1\n",
    "df_aux = df_aux.drop(['invoice_date', 'next_customer_id', 'previous_date'], axis=1).dropna()\n",
    "\n",
    "# average recency\n",
    "df_avg_recency_days = df_aux.groupby('customer_id').mean().reset_index()\n",
    "\n",
    "# merge\n",
    "df_ref = pd.merge(df_ref, df_avg_recency_days, on='customer_id', how='left')\n",
    "df_ref.isna().sum() "
   ]
  },
  {
   "cell_type": "markdown",
   "id": "c172d20e",
   "metadata": {},
   "source": [
    "### 2.1.7 Frequency Purchase"
   ]
  },
  {
   "cell_type": "code",
   "execution_count": 465,
   "id": "ca986872",
   "metadata": {},
   "outputs": [
    {
     "data": {
      "text/plain": [
       "customer_id            0\n",
       "gross_revenue         91\n",
       "recency_days          91\n",
       "invoice_no            91\n",
       "quantity              91\n",
       "avg_ticket            91\n",
       "avg_recency_days    2816\n",
       "frequency              0\n",
       "dtype: int64"
      ]
     },
     "execution_count": 465,
     "metadata": {},
     "output_type": "execute_result"
    }
   ],
   "source": [
    "#df2[['invoice_no', 'customer_id', 'invoice_date']].drop_duplicates().head()\n",
    "\n",
    "#(df2[['invoice_no', 'customer_id', 'invoice_date']].drop_duplicates()\n",
    " #                                                 .groupby('customer_id')\n",
    "  #                                                .agg(max_ = ('invoice_date', 'max'),\n",
    "   #                                                    min_ = ('invoice_date', 'min'))).reset_index().head()\n",
    "\n",
    "df_aux = (df2[['invoice_no', 'customer_id', 'invoice_date']].drop_duplicates()\n",
    "                                                .groupby('customer_id')\n",
    "                                                .agg(max_ = ('invoice_date', 'max'),\n",
    "                                                     min_ = ('invoice_date', 'min'), \n",
    "                                                     days_ = ('invoice_date', lambda x: ((x.max()-x.min()).days)+1),\n",
    "                                                     buy_ = ('invoice_no', 'count'))).reset_index()\n",
    "\n",
    "#Frequency\n",
    "df_aux['frequency'] = df_aux[['buy_', 'days_']].apply(lambda x: x['buy_'] / x['days_'] if x['days_'] != 0 else 0, axis=1)\n",
    "\n",
    "df_ref = pd.merge(df_ref, df_aux[['customer_id', 'frequency']], on='customer_id', how='left')\n",
    "\n",
    "df_ref.isna().sum()"
   ]
  },
  {
   "cell_type": "markdown",
   "id": "ec1f4dc3",
   "metadata": {},
   "source": [
    "### 2.1.7 Devoluções"
   ]
  },
  {
   "cell_type": "code",
   "execution_count": 466,
   "id": "f431bb8e",
   "metadata": {},
   "outputs": [
    {
     "data": {
      "text/plain": [
       "customer_id            0\n",
       "gross_revenue         91\n",
       "recency_days          91\n",
       "invoice_no            91\n",
       "quantity              91\n",
       "avg_ticket            91\n",
       "avg_recency_days    2816\n",
       "frequency              0\n",
       "qtde_returns        4191\n",
       "dtype: int64"
      ]
     },
     "execution_count": 466,
     "metadata": {},
     "output_type": "execute_result"
    }
   ],
   "source": [
    "df_returns = df2_returns[['customer_id', 'quantity']].groupby('customer_id').sum().reset_index().rename(columns={'quantity':'qtde_returns'})\n",
    "df_returns['qtde_returns'] = df_returns['qtde_returns'] * -1\n",
    "\n",
    "df_ref = pd.merge(df_ref, df_returns, how='left', on='customer_id')\n",
    "df_ref.isna().sum()"
   ]
  },
  {
   "cell_type": "code",
   "execution_count": 467,
   "id": "c31ca728",
   "metadata": {},
   "outputs": [
    {
     "data": {
      "text/plain": [
       "customer_id            0\n",
       "gross_revenue         91\n",
       "recency_days          91\n",
       "invoice_no            91\n",
       "quantity              91\n",
       "avg_ticket            91\n",
       "avg_recency_days    2816\n",
       "frequency              0\n",
       "qtde_returns           0\n",
       "dtype: int64"
      ]
     },
     "execution_count": 467,
     "metadata": {},
     "output_type": "execute_result"
    }
   ],
   "source": [
    "df_ref.loc[df_ref['qtde_returns'].isna(), 'qtde_returns'] = 0\n",
    "df_ref.isna().sum()"
   ]
  },
  {
   "cell_type": "markdown",
   "id": "891cb6ee",
   "metadata": {},
   "source": [
    "### 2.1.8 Basket Size - Quantidade de Itens por Cesta"
   ]
  },
  {
   "cell_type": "code",
   "execution_count": 468,
   "id": "12e9a29f",
   "metadata": {},
   "outputs": [
    {
     "data": {
      "text/plain": [
       "customer_id            0\n",
       "gross_revenue         91\n",
       "recency_days          91\n",
       "invoice_no            91\n",
       "quantity              91\n",
       "avg_ticket            91\n",
       "avg_recency_days    2816\n",
       "frequency              0\n",
       "qtde_returns           0\n",
       "avg_basket_size       91\n",
       "dtype: int64"
      ]
     },
     "execution_count": 468,
     "metadata": {},
     "output_type": "execute_result"
    }
   ],
   "source": [
    "df_aux = (df2_purchases.loc[:,['customer_id', 'invoice_no', 'quantity']].groupby('customer_id')\n",
    "                                                                        .agg(n_purchases=('invoice_no', 'nunique'),\n",
    "                                                                            n_products=('quantity', 'sum'))\n",
    "                                                                         .reset_index())\n",
    "\n",
    "# calculation\n",
    "df_aux['avg_basket_size'] = df_aux['n_products'] / df_aux['n_purchases']\n",
    "\n",
    "# merge\n",
    "df_ref = pd.merge(df_ref, df_aux[['customer_id', 'avg_basket_size']], how='left', on='customer_id')\n",
    "#df_aux.head()\n",
    "df_ref.isna().sum()"
   ]
  },
  {
   "cell_type": "markdown",
   "id": "f2e8795c",
   "metadata": {},
   "source": [
    "### 2.1.9 Unique Basket Size - Quantidade de produtos distintos por compra"
   ]
  },
  {
   "cell_type": "code",
   "execution_count": 469,
   "id": "fae52d30",
   "metadata": {},
   "outputs": [
    {
     "data": {
      "text/plain": [
       "customer_id                  0\n",
       "gross_revenue               91\n",
       "recency_days                91\n",
       "invoice_no                  91\n",
       "quantity                    91\n",
       "avg_ticket                  91\n",
       "avg_recency_days          2816\n",
       "frequency                    0\n",
       "qtde_returns                 0\n",
       "avg_basket_size             91\n",
       "avg_unique_basket_size      91\n",
       "dtype: int64"
      ]
     },
     "execution_count": 469,
     "metadata": {},
     "output_type": "execute_result"
    }
   ],
   "source": [
    "df_aux = (df2_purchases.loc[:,['customer_id', 'invoice_no', 'quantity']].groupby('customer_id')\n",
    "                                                                        .agg(n_purchases=('invoice_no', 'nunique'),\n",
    "                                                                            n_products=('quantity', 'count'))\n",
    "                                                                         .reset_index())\n",
    "\n",
    "# calculation\n",
    "df_aux['avg_unique_basket_size'] = df_aux['n_products'] / df_aux['n_purchases']\n",
    "\n",
    "# merge\n",
    "df_ref = pd.merge(df_ref, df_aux[['customer_id', 'avg_unique_basket_size']], how='left', on='customer_id')\n",
    "#df_aux.head()\n",
    "df_ref.isna().sum()"
   ]
  },
  {
   "cell_type": "code",
   "execution_count": 470,
   "id": "4067151c",
   "metadata": {},
   "outputs": [
    {
     "data": {
      "text/html": [
       "<div>\n",
       "<style scoped>\n",
       "    .dataframe tbody tr th:only-of-type {\n",
       "        vertical-align: middle;\n",
       "    }\n",
       "\n",
       "    .dataframe tbody tr th {\n",
       "        vertical-align: top;\n",
       "    }\n",
       "\n",
       "    .dataframe thead th {\n",
       "        text-align: right;\n",
       "    }\n",
       "</style>\n",
       "<table border=\"1\" class=\"dataframe\">\n",
       "  <thead>\n",
       "    <tr style=\"text-align: right;\">\n",
       "      <th></th>\n",
       "      <th>customer_id</th>\n",
       "      <th>gross_revenue</th>\n",
       "      <th>recency_days</th>\n",
       "      <th>invoice_no</th>\n",
       "      <th>quantity</th>\n",
       "      <th>avg_ticket</th>\n",
       "      <th>avg_recency_days</th>\n",
       "      <th>frequency</th>\n",
       "      <th>qtde_returns</th>\n",
       "      <th>avg_basket_size</th>\n",
       "      <th>avg_unique_basket_size</th>\n",
       "    </tr>\n",
       "  </thead>\n",
       "  <tbody>\n",
       "    <tr>\n",
       "      <th>0</th>\n",
       "      <td>17850</td>\n",
       "      <td>5391.21</td>\n",
       "      <td>372.0</td>\n",
       "      <td>34.0</td>\n",
       "      <td>6.0</td>\n",
       "      <td>18.152222</td>\n",
       "      <td>35.500000</td>\n",
       "      <td>0.486111</td>\n",
       "      <td>40.0</td>\n",
       "      <td>50.970588</td>\n",
       "      <td>8.735294</td>\n",
       "    </tr>\n",
       "    <tr>\n",
       "      <th>1</th>\n",
       "      <td>13047</td>\n",
       "      <td>3232.59</td>\n",
       "      <td>56.0</td>\n",
       "      <td>9.0</td>\n",
       "      <td>11.0</td>\n",
       "      <td>18.904035</td>\n",
       "      <td>27.250000</td>\n",
       "      <td>0.048780</td>\n",
       "      <td>35.0</td>\n",
       "      <td>154.444444</td>\n",
       "      <td>19.000000</td>\n",
       "    </tr>\n",
       "    <tr>\n",
       "      <th>2</th>\n",
       "      <td>12583</td>\n",
       "      <td>6705.38</td>\n",
       "      <td>2.0</td>\n",
       "      <td>15.0</td>\n",
       "      <td>24.0</td>\n",
       "      <td>28.902500</td>\n",
       "      <td>23.187500</td>\n",
       "      <td>0.045699</td>\n",
       "      <td>50.0</td>\n",
       "      <td>335.200000</td>\n",
       "      <td>15.466667</td>\n",
       "    </tr>\n",
       "    <tr>\n",
       "      <th>3</th>\n",
       "      <td>13748</td>\n",
       "      <td>948.25</td>\n",
       "      <td>95.0</td>\n",
       "      <td>5.0</td>\n",
       "      <td>8.0</td>\n",
       "      <td>33.866071</td>\n",
       "      <td>92.666667</td>\n",
       "      <td>0.017921</td>\n",
       "      <td>0.0</td>\n",
       "      <td>87.800000</td>\n",
       "      <td>5.600000</td>\n",
       "    </tr>\n",
       "    <tr>\n",
       "      <th>4</th>\n",
       "      <td>15100</td>\n",
       "      <td>876.00</td>\n",
       "      <td>333.0</td>\n",
       "      <td>3.0</td>\n",
       "      <td>2.0</td>\n",
       "      <td>292.000000</td>\n",
       "      <td>8.600000</td>\n",
       "      <td>0.136364</td>\n",
       "      <td>22.0</td>\n",
       "      <td>26.666667</td>\n",
       "      <td>1.000000</td>\n",
       "    </tr>\n",
       "  </tbody>\n",
       "</table>\n",
       "</div>"
      ],
      "text/plain": [
       "   customer_id  gross_revenue  recency_days  invoice_no  quantity  avg_ticket  avg_recency_days  frequency  qtde_returns  avg_basket_size  avg_unique_basket_size\n",
       "0        17850        5391.21         372.0        34.0       6.0   18.152222         35.500000   0.486111          40.0        50.970588                8.735294\n",
       "1        13047        3232.59          56.0         9.0      11.0   18.904035         27.250000   0.048780          35.0       154.444444               19.000000\n",
       "2        12583        6705.38           2.0        15.0      24.0   28.902500         23.187500   0.045699          50.0       335.200000               15.466667\n",
       "3        13748         948.25          95.0         5.0       8.0   33.866071         92.666667   0.017921           0.0        87.800000                5.600000\n",
       "4        15100         876.00         333.0         3.0       2.0  292.000000          8.600000   0.136364          22.0        26.666667                1.000000"
      ]
     },
     "execution_count": 470,
     "metadata": {},
     "output_type": "execute_result"
    }
   ],
   "source": [
    "df_ref.head()"
   ]
  },
  {
   "cell_type": "markdown",
   "id": "60e588eb",
   "metadata": {
    "heading_collapsed": true
   },
   "source": [
    "# 4.0 EDA (Exploratory Data Analysis)"
   ]
  },
  {
   "cell_type": "code",
   "execution_count": 472,
   "id": "8d6e2405",
   "metadata": {
    "ExecuteTime": {
     "end_time": "2022-07-07T23:13:53.168935Z",
     "start_time": "2022-07-07T23:13:53.097860Z"
    },
    "hidden": true,
    "scrolled": true
   },
   "outputs": [
    {
     "data": {
      "text/plain": [
       "customer_id               0\n",
       "gross_revenue             0\n",
       "recency_days              0\n",
       "invoice_no                0\n",
       "quantity                  0\n",
       "avg_ticket                0\n",
       "avg_recency_days          0\n",
       "frequency                 0\n",
       "qtde_returns              0\n",
       "avg_basket_size           0\n",
       "avg_unique_basket_size    0\n",
       "dtype: int64"
      ]
     },
     "execution_count": 472,
     "metadata": {},
     "output_type": "execute_result"
    }
   ],
   "source": [
    "df4 = df_ref.dropna()\n",
    "df4.isna().sum()"
   ]
  },
  {
   "cell_type": "markdown",
   "id": "6f819122",
   "metadata": {},
   "source": [
    "## 4.1 Univariate Analysis"
   ]
  },
  {
   "cell_type": "code",
   "execution_count": 475,
   "id": "0e1fe450",
   "metadata": {},
   "outputs": [
    {
     "data": {
      "application/vnd.jupyter.widget-view+json": {
       "model_id": "e9e69aec4d5749438af800dbf8d60bf9",
       "version_major": 2,
       "version_minor": 0
      },
      "text/plain": [
       "Summarize dataset:   0%|          | 0/5 [00:00<?, ?it/s]"
      ]
     },
     "metadata": {},
     "output_type": "display_data"
    },
    {
     "data": {
      "application/vnd.jupyter.widget-view+json": {
       "model_id": "148df4037c644b07a9b8345728a80929",
       "version_major": 2,
       "version_minor": 0
      },
      "text/plain": [
       "Generate report structure:   0%|          | 0/1 [00:00<?, ?it/s]"
      ]
     },
     "metadata": {},
     "output_type": "display_data"
    },
    {
     "data": {
      "application/vnd.jupyter.widget-view+json": {
       "model_id": "af26734261d140e6bfc4320d954621c8",
       "version_major": 2,
       "version_minor": 0
      },
      "text/plain": [
       "Render HTML:   0%|          | 0/1 [00:00<?, ?it/s]"
      ]
     },
     "metadata": {},
     "output_type": "display_data"
    },
    {
     "data": {
      "application/vnd.jupyter.widget-view+json": {
       "model_id": "4265d563538147c2a49a9c181543e339",
       "version_major": 2,
       "version_minor": 0
      },
      "text/plain": [
       "Export report to file:   0%|          | 0/1 [00:00<?, ?it/s]"
      ]
     },
     "metadata": {},
     "output_type": "display_data"
    }
   ],
   "source": [
    "profile = ProfileReport(df4)\n",
    "profile.to_file('output.html')"
   ]
  },
  {
   "cell_type": "markdown",
   "id": "2aa996fe",
   "metadata": {},
   "source": [
    "## 4.2 Bivariate Analysis"
   ]
  },
  {
   "cell_type": "markdown",
   "id": "132db53f",
   "metadata": {
    "heading_collapsed": true
   },
   "source": [
    "# 5.0 Data Preparation"
   ]
  },
  {
   "cell_type": "code",
   "execution_count": 100,
   "id": "58601c02",
   "metadata": {
    "ExecuteTime": {
     "end_time": "2022-07-07T23:13:53.207586Z",
     "start_time": "2022-07-07T23:13:53.188774Z"
    },
    "hidden": true
   },
   "outputs": [],
   "source": [
    "df5 = df4.copy()"
   ]
  },
  {
   "cell_type": "code",
   "execution_count": 101,
   "id": "ffe9b888",
   "metadata": {
    "ExecuteTime": {
     "end_time": "2022-07-07T23:13:53.373541Z",
     "start_time": "2022-07-07T23:13:53.226015Z"
    },
    "hidden": true
   },
   "outputs": [],
   "source": [
    "## Standard Scaler\n",
    "ss = pp.StandardScaler()\n",
    "\n",
    "df5['gross_revenue'] = ss.fit_transform(df5[['gross_revenue']])\n",
    "df5['recency_days'] = ss.fit_transform(df5[['recency_days']])\n",
    "df5['invoice_no'] = ss.fit_transform(df5[['invoice_no']])\n",
    "df5['avg_ticket'] = ss.fit_transform(df5[['avg_ticket']])"
   ]
  },
  {
   "cell_type": "code",
   "execution_count": 102,
   "id": "7a2417ad",
   "metadata": {
    "ExecuteTime": {
     "end_time": "2022-07-07T23:13:53.581543Z",
     "start_time": "2022-07-07T23:13:53.480578Z"
    },
    "hidden": true,
    "scrolled": true
   },
   "outputs": [
    {
     "data": {
      "text/html": [
       "<div>\n",
       "<style scoped>\n",
       "    .dataframe tbody tr th:only-of-type {\n",
       "        vertical-align: middle;\n",
       "    }\n",
       "\n",
       "    .dataframe tbody tr th {\n",
       "        vertical-align: top;\n",
       "    }\n",
       "\n",
       "    .dataframe thead th {\n",
       "        text-align: right;\n",
       "    }\n",
       "</style>\n",
       "<table border=\"1\" class=\"dataframe\">\n",
       "  <thead>\n",
       "    <tr style=\"text-align: right;\">\n",
       "      <th></th>\n",
       "      <th>customer_id</th>\n",
       "      <th>gross_revenue</th>\n",
       "      <th>recency_days</th>\n",
       "      <th>invoice_no</th>\n",
       "      <th>quantity</th>\n",
       "      <th>avg_ticket</th>\n",
       "      <th>avg_recency_days</th>\n",
       "      <th>frequency_x</th>\n",
       "      <th>frequency_y</th>\n",
       "    </tr>\n",
       "  </thead>\n",
       "  <tbody>\n",
       "    <tr>\n",
       "      <th>471</th>\n",
       "      <td>12347</td>\n",
       "      <td>1.0</td>\n",
       "      <td>-1.0</td>\n",
       "      <td>1.0</td>\n",
       "      <td>15.0</td>\n",
       "      <td>-1.0</td>\n",
       "      <td>-60.833333</td>\n",
       "      <td>0.019126</td>\n",
       "      <td>0.019126</td>\n",
       "    </tr>\n",
       "    <tr>\n",
       "      <th>965</th>\n",
       "      <td>12348</td>\n",
       "      <td>-1.0</td>\n",
       "      <td>1.0</td>\n",
       "      <td>-1.0</td>\n",
       "      <td>8.0</td>\n",
       "      <td>1.0</td>\n",
       "      <td>-94.333333</td>\n",
       "      <td>0.014085</td>\n",
       "      <td>0.014085</td>\n",
       "    </tr>\n",
       "  </tbody>\n",
       "</table>\n",
       "</div>"
      ],
      "text/plain": [
       "     customer_id  gross_revenue  recency_days  invoice_no  quantity  avg_ticket  avg_recency_days  frequency_x  frequency_y\n",
       "471        12347            1.0          -1.0         1.0      15.0        -1.0        -60.833333     0.019126     0.019126\n",
       "965        12348           -1.0           1.0        -1.0       8.0         1.0        -94.333333     0.014085     0.014085"
      ]
     },
     "execution_count": 102,
     "metadata": {},
     "output_type": "execute_result"
    }
   ],
   "source": [
    "df5.head()"
   ]
  },
  {
   "cell_type": "code",
   "execution_count": 103,
   "id": "14382453",
   "metadata": {
    "ExecuteTime": {
     "end_time": "2022-07-07T23:13:58.148101Z",
     "start_time": "2022-07-07T23:13:54.253940Z"
    },
    "hidden": true
   },
   "outputs": [
    {
     "name": "stderr",
     "output_type": "stream",
     "text": [
      "/home/work/.pyenv/versions/3.8.0/envs/InsidersClustering/lib/python3.8/site-packages/seaborn/distributions.py:2619: FutureWarning: `distplot` is a deprecated function and will be removed in a future version. Please adapt your code to use either `displot` (a figure-level function with similar flexibility) or `histplot` (an axes-level function for histograms).\n",
      "  warnings.warn(msg, FutureWarning)\n"
     ]
    },
    {
     "data": {
      "text/plain": [
       "<AxesSubplot:xlabel='gross_revenue', ylabel='Density'>"
      ]
     },
     "execution_count": 103,
     "metadata": {},
     "output_type": "execute_result"
    },
    {
     "data": {
      "image/png": "[encoded data removed]",
      "text/plain": [
       "<Figure size 1800x864 with 1 Axes>"
      ]
     },
     "metadata": {},
     "output_type": "display_data"
    }
   ],
   "source": [
    "sns.distplot(df5['gross_revenue'])"
   ]
  },
  {
   "cell_type": "markdown",
   "id": "6def7969",
   "metadata": {
    "heading_collapsed": true
   },
   "source": [
    "# 6.0 Feature Selection"
   ]
  },
  {
   "cell_type": "code",
   "execution_count": 104,
   "id": "6dcb13c5",
   "metadata": {
    "ExecuteTime": {
     "end_time": "2022-07-07T23:13:58.196070Z",
     "start_time": "2022-07-07T23:13:58.175162Z"
    },
    "hidden": true
   },
   "outputs": [],
   "source": [
    "df6 = df5.copy()"
   ]
  },
  {
   "cell_type": "markdown",
   "id": "9cf31875",
   "metadata": {
    "heading_collapsed": true
   },
   "source": [
    "# 7.0 Hyperparameter Fine-Tuning"
   ]
  },
  {
   "cell_type": "code",
   "execution_count": 105,
   "id": "d44999d7",
   "metadata": {
    "ExecuteTime": {
     "end_time": "2022-07-07T23:13:59.876029Z",
     "start_time": "2022-07-07T23:13:59.763888Z"
    },
    "hidden": true,
    "scrolled": true
   },
   "outputs": [
    {
     "data": {
      "text/html": [
       "<div>\n",
       "<style scoped>\n",
       "    .dataframe tbody tr th:only-of-type {\n",
       "        vertical-align: middle;\n",
       "    }\n",
       "\n",
       "    .dataframe tbody tr th {\n",
       "        vertical-align: top;\n",
       "    }\n",
       "\n",
       "    .dataframe thead th {\n",
       "        text-align: right;\n",
       "    }\n",
       "</style>\n",
       "<table border=\"1\" class=\"dataframe\">\n",
       "  <thead>\n",
       "    <tr style=\"text-align: right;\">\n",
       "      <th></th>\n",
       "      <th>customer_id</th>\n",
       "      <th>gross_revenue</th>\n",
       "      <th>recency_days</th>\n",
       "      <th>invoice_no</th>\n",
       "      <th>quantity</th>\n",
       "      <th>avg_ticket</th>\n",
       "      <th>avg_recency_days</th>\n",
       "      <th>frequency_x</th>\n",
       "      <th>frequency_y</th>\n",
       "    </tr>\n",
       "  </thead>\n",
       "  <tbody>\n",
       "    <tr>\n",
       "      <th>471</th>\n",
       "      <td>12347</td>\n",
       "      <td>1.0</td>\n",
       "      <td>-1.0</td>\n",
       "      <td>1.0</td>\n",
       "      <td>15.0</td>\n",
       "      <td>-1.0</td>\n",
       "      <td>-60.833333</td>\n",
       "      <td>0.019126</td>\n",
       "      <td>0.019126</td>\n",
       "    </tr>\n",
       "    <tr>\n",
       "      <th>965</th>\n",
       "      <td>12348</td>\n",
       "      <td>-1.0</td>\n",
       "      <td>1.0</td>\n",
       "      <td>-1.0</td>\n",
       "      <td>8.0</td>\n",
       "      <td>1.0</td>\n",
       "      <td>-94.333333</td>\n",
       "      <td>0.014085</td>\n",
       "      <td>0.014085</td>\n",
       "    </tr>\n",
       "  </tbody>\n",
       "</table>\n",
       "</div>"
      ],
      "text/plain": [
       "     customer_id  gross_revenue  recency_days  invoice_no  quantity  avg_ticket  avg_recency_days  frequency_x  frequency_y\n",
       "471        12347            1.0          -1.0         1.0      15.0        -1.0        -60.833333     0.019126     0.019126\n",
       "965        12348           -1.0           1.0        -1.0       8.0         1.0        -94.333333     0.014085     0.014085"
      ]
     },
     "execution_count": 105,
     "metadata": {},
     "output_type": "execute_result"
    }
   ],
   "source": [
    "df6.head()"
   ]
  },
  {
   "cell_type": "code",
   "execution_count": 106,
   "id": "4fd8a990",
   "metadata": {
    "ExecuteTime": {
     "end_time": "2022-07-07T23:14:00.563964Z",
     "start_time": "2022-07-07T23:14:00.535977Z"
    },
    "hidden": true
   },
   "outputs": [],
   "source": [
    "X = df6.drop(columns=['customer_id'])"
   ]
  },
  {
   "cell_type": "code",
   "execution_count": 107,
   "id": "631a7f52",
   "metadata": {
    "ExecuteTime": {
     "end_time": "2022-07-07T23:14:01.466918Z",
     "start_time": "2022-07-07T23:14:01.374971Z"
    },
    "hidden": true
   },
   "outputs": [
    {
     "data": {
      "text/html": [
       "<div>\n",
       "<style scoped>\n",
       "    .dataframe tbody tr th:only-of-type {\n",
       "        vertical-align: middle;\n",
       "    }\n",
       "\n",
       "    .dataframe tbody tr th {\n",
       "        vertical-align: top;\n",
       "    }\n",
       "\n",
       "    .dataframe thead th {\n",
       "        text-align: right;\n",
       "    }\n",
       "</style>\n",
       "<table border=\"1\" class=\"dataframe\">\n",
       "  <thead>\n",
       "    <tr style=\"text-align: right;\">\n",
       "      <th></th>\n",
       "      <th>gross_revenue</th>\n",
       "      <th>recency_days</th>\n",
       "      <th>invoice_no</th>\n",
       "      <th>quantity</th>\n",
       "      <th>avg_ticket</th>\n",
       "      <th>avg_recency_days</th>\n",
       "      <th>frequency_x</th>\n",
       "      <th>frequency_y</th>\n",
       "    </tr>\n",
       "  </thead>\n",
       "  <tbody>\n",
       "    <tr>\n",
       "      <th>471</th>\n",
       "      <td>1.0</td>\n",
       "      <td>-1.0</td>\n",
       "      <td>1.0</td>\n",
       "      <td>15.0</td>\n",
       "      <td>-1.0</td>\n",
       "      <td>-60.833333</td>\n",
       "      <td>0.019126</td>\n",
       "      <td>0.019126</td>\n",
       "    </tr>\n",
       "    <tr>\n",
       "      <th>965</th>\n",
       "      <td>-1.0</td>\n",
       "      <td>1.0</td>\n",
       "      <td>-1.0</td>\n",
       "      <td>8.0</td>\n",
       "      <td>1.0</td>\n",
       "      <td>-94.333333</td>\n",
       "      <td>0.014085</td>\n",
       "      <td>0.014085</td>\n",
       "    </tr>\n",
       "  </tbody>\n",
       "</table>\n",
       "</div>"
      ],
      "text/plain": [
       "     gross_revenue  recency_days  invoice_no  quantity  avg_ticket  avg_recency_days  frequency_x  frequency_y\n",
       "471            1.0          -1.0         1.0      15.0        -1.0        -60.833333     0.019126     0.019126\n",
       "965           -1.0           1.0        -1.0       8.0         1.0        -94.333333     0.014085     0.014085"
      ]
     },
     "execution_count": 107,
     "metadata": {},
     "output_type": "execute_result"
    }
   ],
   "source": [
    "X.head()"
   ]
  },
  {
   "cell_type": "code",
   "execution_count": 108,
   "id": "e08afae2",
   "metadata": {
    "ExecuteTime": {
     "end_time": "2022-07-07T23:14:02.387189Z",
     "start_time": "2022-07-07T23:14:02.363499Z"
    },
    "hidden": true
   },
   "outputs": [],
   "source": [
    "clusters = [2, 3, 4, 5, 6, 7] # random initialy"
   ]
  },
  {
   "cell_type": "markdown",
   "id": "511df988",
   "metadata": {
    "hidden": true
   },
   "source": [
    "## 7.1 Within-Cluster Sum of Square"
   ]
  },
  {
   "cell_type": "code",
   "execution_count": 109,
   "id": "dfbec403",
   "metadata": {
    "ExecuteTime": {
     "end_time": "2022-07-07T23:14:54.164451Z",
     "start_time": "2022-07-07T23:14:04.425985Z"
    },
    "hidden": true
   },
   "outputs": [
    {
     "ename": "ValueError",
     "evalue": "n_samples=2 should be >= n_clusters=3.",
     "output_type": "error",
     "traceback": [
      "\u001b[0;31m---------------------------------------------------------------------------\u001b[0m",
      "\u001b[0;31mValueError\u001b[0m                                Traceback (most recent call last)",
      "Input \u001b[0;32mIn [109]\u001b[0m, in \u001b[0;36m<cell line: 2>\u001b[0;34m()\u001b[0m\n\u001b[1;32m      4\u001b[0m kmeans \u001b[38;5;241m=\u001b[39m c\u001b[38;5;241m.\u001b[39mKMeans(init\u001b[38;5;241m=\u001b[39m\u001b[38;5;124m'\u001b[39m\u001b[38;5;124mrandom\u001b[39m\u001b[38;5;124m'\u001b[39m, n_clusters\u001b[38;5;241m=\u001b[39mk, n_init\u001b[38;5;241m=\u001b[39m\u001b[38;5;241m10\u001b[39m, max_iter\u001b[38;5;241m=\u001b[39m\u001b[38;5;241m300\u001b[39m, random_state\u001b[38;5;241m=\u001b[39m\u001b[38;5;241m42\u001b[39m)\n\u001b[1;32m      6\u001b[0m \u001b[38;5;66;03m# model training\u001b[39;00m\n\u001b[0;32m----> 7\u001b[0m \u001b[43mkmeans\u001b[49m\u001b[38;5;241;43m.\u001b[39;49m\u001b[43mfit\u001b[49m\u001b[43m(\u001b[49m\u001b[43mX\u001b[49m\u001b[43m)\u001b[49m\n\u001b[1;32m      9\u001b[0m \u001b[38;5;66;03m# validation\u001b[39;00m\n\u001b[1;32m     10\u001b[0m wss\u001b[38;5;241m.\u001b[39mappend(kmeans\u001b[38;5;241m.\u001b[39minertia_)\n",
      "File \u001b[0;32m~/.pyenv/versions/3.8.0/envs/InsidersClustering/lib/python3.8/site-packages/sklearn/cluster/_kmeans.py:1374\u001b[0m, in \u001b[0;36mKMeans.fit\u001b[0;34m(self, X, y, sample_weight)\u001b[0m\n\u001b[1;32m   1340\u001b[0m \u001b[38;5;124;03m\"\"\"Compute k-means clustering.\u001b[39;00m\n\u001b[1;32m   1341\u001b[0m \n\u001b[1;32m   1342\u001b[0m \u001b[38;5;124;03mParameters\u001b[39;00m\n\u001b[0;32m   (...)\u001b[0m\n\u001b[1;32m   1363\u001b[0m \u001b[38;5;124;03m    Fitted estimator.\u001b[39;00m\n\u001b[1;32m   1364\u001b[0m \u001b[38;5;124;03m\"\"\"\u001b[39;00m\n\u001b[1;32m   1365\u001b[0m X \u001b[38;5;241m=\u001b[39m \u001b[38;5;28mself\u001b[39m\u001b[38;5;241m.\u001b[39m_validate_data(\n\u001b[1;32m   1366\u001b[0m     X,\n\u001b[1;32m   1367\u001b[0m     accept_sparse\u001b[38;5;241m=\u001b[39m\u001b[38;5;124m\"\u001b[39m\u001b[38;5;124mcsr\u001b[39m\u001b[38;5;124m\"\u001b[39m,\n\u001b[0;32m   (...)\u001b[0m\n\u001b[1;32m   1371\u001b[0m     accept_large_sparse\u001b[38;5;241m=\u001b[39m\u001b[38;5;28;01mFalse\u001b[39;00m,\n\u001b[1;32m   1372\u001b[0m )\n\u001b[0;32m-> 1374\u001b[0m \u001b[38;5;28;43mself\u001b[39;49m\u001b[38;5;241;43m.\u001b[39;49m\u001b[43m_check_params\u001b[49m\u001b[43m(\u001b[49m\u001b[43mX\u001b[49m\u001b[43m)\u001b[49m\n\u001b[1;32m   1375\u001b[0m random_state \u001b[38;5;241m=\u001b[39m check_random_state(\u001b[38;5;28mself\u001b[39m\u001b[38;5;241m.\u001b[39mrandom_state)\n\u001b[1;32m   1376\u001b[0m sample_weight \u001b[38;5;241m=\u001b[39m _check_sample_weight(sample_weight, X, dtype\u001b[38;5;241m=\u001b[39mX\u001b[38;5;241m.\u001b[39mdtype)\n",
      "File \u001b[0;32m~/.pyenv/versions/3.8.0/envs/InsidersClustering/lib/python3.8/site-packages/sklearn/cluster/_kmeans.py:1305\u001b[0m, in \u001b[0;36mKMeans._check_params\u001b[0;34m(self, X)\u001b[0m\n\u001b[1;32m   1304\u001b[0m \u001b[38;5;28;01mdef\u001b[39;00m \u001b[38;5;21m_check_params\u001b[39m(\u001b[38;5;28mself\u001b[39m, X):\n\u001b[0;32m-> 1305\u001b[0m     \u001b[38;5;28;43msuper\u001b[39;49m\u001b[43m(\u001b[49m\u001b[43m)\u001b[49m\u001b[38;5;241;43m.\u001b[39;49m\u001b[43m_check_params\u001b[49m\u001b[43m(\u001b[49m\u001b[43mX\u001b[49m\u001b[43m)\u001b[49m\n\u001b[1;32m   1307\u001b[0m     \u001b[38;5;66;03m# algorithm\u001b[39;00m\n\u001b[1;32m   1308\u001b[0m     \u001b[38;5;28;01mif\u001b[39;00m \u001b[38;5;28mself\u001b[39m\u001b[38;5;241m.\u001b[39malgorithm \u001b[38;5;129;01mnot\u001b[39;00m \u001b[38;5;129;01min\u001b[39;00m (\u001b[38;5;124m\"\u001b[39m\u001b[38;5;124mlloyd\u001b[39m\u001b[38;5;124m\"\u001b[39m, \u001b[38;5;124m\"\u001b[39m\u001b[38;5;124melkan\u001b[39m\u001b[38;5;124m\"\u001b[39m, \u001b[38;5;124m\"\u001b[39m\u001b[38;5;124mauto\u001b[39m\u001b[38;5;124m\"\u001b[39m, \u001b[38;5;124m\"\u001b[39m\u001b[38;5;124mfull\u001b[39m\u001b[38;5;124m\"\u001b[39m):\n",
      "File \u001b[0;32m~/.pyenv/versions/3.8.0/envs/InsidersClustering/lib/python3.8/site-packages/sklearn/cluster/_kmeans.py:828\u001b[0m, in \u001b[0;36m_BaseKMeans._check_params\u001b[0;34m(self, X)\u001b[0m\n\u001b[1;32m    826\u001b[0m \u001b[38;5;66;03m# n_clusters\u001b[39;00m\n\u001b[1;32m    827\u001b[0m \u001b[38;5;28;01mif\u001b[39;00m X\u001b[38;5;241m.\u001b[39mshape[\u001b[38;5;241m0\u001b[39m] \u001b[38;5;241m<\u001b[39m \u001b[38;5;28mself\u001b[39m\u001b[38;5;241m.\u001b[39mn_clusters:\n\u001b[0;32m--> 828\u001b[0m     \u001b[38;5;28;01mraise\u001b[39;00m \u001b[38;5;167;01mValueError\u001b[39;00m(\n\u001b[1;32m    829\u001b[0m         \u001b[38;5;124mf\u001b[39m\u001b[38;5;124m\"\u001b[39m\u001b[38;5;124mn_samples=\u001b[39m\u001b[38;5;132;01m{\u001b[39;00mX\u001b[38;5;241m.\u001b[39mshape[\u001b[38;5;241m0\u001b[39m]\u001b[38;5;132;01m}\u001b[39;00m\u001b[38;5;124m should be >= n_clusters=\u001b[39m\u001b[38;5;132;01m{\u001b[39;00m\u001b[38;5;28mself\u001b[39m\u001b[38;5;241m.\u001b[39mn_clusters\u001b[38;5;132;01m}\u001b[39;00m\u001b[38;5;124m.\u001b[39m\u001b[38;5;124m\"\u001b[39m\n\u001b[1;32m    830\u001b[0m     )\n\u001b[1;32m    832\u001b[0m \u001b[38;5;66;03m# tol\u001b[39;00m\n\u001b[1;32m    833\u001b[0m \u001b[38;5;28mself\u001b[39m\u001b[38;5;241m.\u001b[39m_tol \u001b[38;5;241m=\u001b[39m _tolerance(X, \u001b[38;5;28mself\u001b[39m\u001b[38;5;241m.\u001b[39mtol)\n",
      "\u001b[0;31mValueError\u001b[0m: n_samples=2 should be >= n_clusters=3."
     ]
    }
   ],
   "source": [
    "wss = []\n",
    "for k in clusters:\n",
    "    # model definition\n",
    "    kmeans = c.KMeans(init='random', n_clusters=k, n_init=10, max_iter=300, random_state=42)\n",
    "    \n",
    "    # model training\n",
    "    kmeans.fit(X)\n",
    "    \n",
    "    # validation\n",
    "    wss.append(kmeans.inertia_)\n",
    "    \n",
    "wss"
   ]
  },
  {
   "cell_type": "code",
   "execution_count": null,
   "id": "1c17c1b3",
   "metadata": {
    "ExecuteTime": {
     "end_time": "2022-07-07T23:14:56.439669Z",
     "start_time": "2022-07-07T23:14:54.200102Z"
    },
    "hidden": true
   },
   "outputs": [],
   "source": [
    "# plot wss - Elbow method\n",
    "plt.plot(clusters, wss, linestyle='--', marker='o', color='b')\n",
    "plt.xlabel('K');\n",
    "plt.ylabel('Within-Cluster Sum of Square');\n",
    "plt.title('WSS vs K');"
   ]
  },
  {
   "cell_type": "code",
   "execution_count": null,
   "id": "1861b687",
   "metadata": {
    "ExecuteTime": {
     "end_time": "2022-07-07T23:15:26.262207Z",
     "start_time": "2022-07-07T23:14:56.456825Z"
    },
    "hidden": true
   },
   "outputs": [],
   "source": [
    "kmeans = KElbowVisualizer(c.KMeans(), k=clusters, timings=False)\n",
    "kmeans.fit(X)\n",
    "kmeans.show()"
   ]
  },
  {
   "cell_type": "markdown",
   "id": "4f774657",
   "metadata": {
    "hidden": true
   },
   "source": [
    "## 7.2 Sillhouette Score"
   ]
  },
  {
   "cell_type": "code",
   "execution_count": null,
   "id": "3604da28",
   "metadata": {
    "ExecuteTime": {
     "end_time": "2022-07-07T23:16:23.097569Z",
     "start_time": "2022-07-07T23:15:26.287993Z"
    },
    "hidden": true,
    "scrolled": false
   },
   "outputs": [],
   "source": [
    "kmeans = KElbowVisualizer(c.KMeans(), k=clusters, metric='silhouette', timings=False)\n",
    "kmeans.fit(X)\n",
    "kmeans.show()"
   ]
  },
  {
   "cell_type": "markdown",
   "id": "b818790e",
   "metadata": {
    "hidden": true
   },
   "source": [
    "## 7.3 Silhouette Analysis"
   ]
  },
  {
   "cell_type": "code",
   "execution_count": null,
   "id": "385f76ea",
   "metadata": {
    "ExecuteTime": {
     "end_time": "2022-07-07T23:16:34.919431Z",
     "start_time": "2022-07-07T23:16:23.112605Z"
    },
    "hidden": true
   },
   "outputs": [],
   "source": [
    "k = 2\n",
    "km = c.KMeans(n_clusters=k, init='random', n_init=10, max_iter=100, random_state=42)\n",
    "visualizer = SilhouetteVisualizer(km, colors='yellowbrick')\n",
    "visualizer.fit(X)\n",
    "visualizer.finalize()"
   ]
  },
  {
   "cell_type": "code",
   "execution_count": null,
   "id": "9fcdacbb",
   "metadata": {
    "ExecuteTime": {
     "end_time": "2022-07-07T23:16:34.958011Z",
     "start_time": "2022-07-07T23:16:34.933047Z"
    },
    "hidden": true
   },
   "outputs": [],
   "source": [
    "q, mod = divmod(5, 2)  #  5/2\n",
    "print(q)   # quociente\n",
    "print(mod) # resto"
   ]
  },
  {
   "cell_type": "code",
   "execution_count": null,
   "id": "f0947383",
   "metadata": {
    "ExecuteTime": {
     "end_time": "2022-07-07T23:17:25.813904Z",
     "start_time": "2022-07-07T23:16:34.973519Z"
    },
    "hidden": true
   },
   "outputs": [],
   "source": [
    "fig, ax = plt.subplots(3, 2, figsize=(25, 18))\n",
    "k = [2, 3, 4, 5, 6, 7]\n",
    "\n",
    "for k in clusters:\n",
    "    km = c.KMeans(n_clusters=k, init='random', n_init=10, max_iter=100, random_state=42)\n",
    "    q, mod = divmod(k, 2)  # utilizando divisao com moda (resto)\n",
    "    visualizer = SilhouetteVisualizer(km, colors='yellowbrick', ax=ax[q-1][mod])\n",
    "    visualizer.fit(X)\n",
    "    visualizer.finalize()"
   ]
  },
  {
   "cell_type": "markdown",
   "id": "3f569f01",
   "metadata": {
    "heading_collapsed": true
   },
   "source": [
    "# 8.0 Model Training"
   ]
  },
  {
   "cell_type": "markdown",
   "id": "a165f05a",
   "metadata": {
    "hidden": true
   },
   "source": [
    "## 8.1 K-Means"
   ]
  },
  {
   "cell_type": "code",
   "execution_count": null,
   "id": "d6ccc527",
   "metadata": {
    "ExecuteTime": {
     "end_time": "2022-07-07T23:17:34.545191Z",
     "start_time": "2022-07-07T23:17:25.825652Z"
    },
    "hidden": true
   },
   "outputs": [],
   "source": [
    "# Model definition\n",
    "k = 4 # wss result\n",
    "kmeans = c.KMeans(init='random', n_clusters=k, n_init=10, max_iter=300)\n",
    "\n",
    "# Model training\n",
    "kmeans.fit(X)\n",
    "\n",
    "# Clustering\n",
    "labels = kmeans.labels_"
   ]
  },
  {
   "cell_type": "markdown",
   "id": "c2431e2b",
   "metadata": {
    "hidden": true
   },
   "source": [
    "## 8.2 Cluster Validation"
   ]
  },
  {
   "cell_type": "code",
   "execution_count": null,
   "id": "2b2dd602",
   "metadata": {
    "ExecuteTime": {
     "end_time": "2022-07-07T23:17:35.226644Z",
     "start_time": "2022-07-07T23:17:34.562285Z"
    },
    "hidden": true
   },
   "outputs": [],
   "source": [
    "# WSS (Within-cluster sum of square)\n",
    "print(f'WSS value: {kmeans.inertia_}')\n",
    "      \n",
    "# SS (Silhouette score)\n",
    "print('SS value: {}'.format(m.silhouette_score(X, labels, metric= 'euclidean')))"
   ]
  },
  {
   "cell_type": "markdown",
   "id": "3a86179e",
   "metadata": {
    "heading_collapsed": true
   },
   "source": [
    "# 9.0 Cluster Analysis"
   ]
  },
  {
   "cell_type": "code",
   "execution_count": null,
   "id": "3d27e1b0",
   "metadata": {
    "ExecuteTime": {
     "end_time": "2022-07-07T23:17:35.246015Z",
     "start_time": "2022-07-07T23:17:35.245864Z"
    },
    "hidden": true
   },
   "outputs": [],
   "source": [
    "df9 = df6.copy()\n",
    "df9['cluster'] = labels\n",
    "df9.head()"
   ]
  },
  {
   "cell_type": "markdown",
   "id": "62770e06",
   "metadata": {
    "hidden": true
   },
   "source": [
    "## 9.1 Visualization Inspection"
   ]
  },
  {
   "cell_type": "code",
   "execution_count": null,
   "id": "c30288bb",
   "metadata": {
    "ExecuteTime": {
     "end_time": "2022-07-07T23:17:35.255145Z",
     "start_time": "2022-07-07T23:17:35.255021Z"
    },
    "hidden": true
   },
   "outputs": [],
   "source": [
    "visualizer = SilhouetteVisualizer(kmeans, colors='yellowbrick') # kmeans -> modelo treinado\n",
    "visualizer.fit(X)\n",
    "visualizer.finalize()"
   ]
  },
  {
   "cell_type": "markdown",
   "id": "bec144e9",
   "metadata": {
    "hidden": true
   },
   "source": [
    "## 9.1 2d plot"
   ]
  },
  {
   "cell_type": "code",
   "execution_count": null,
   "id": "30abec17",
   "metadata": {
    "ExecuteTime": {
     "end_time": "2022-07-07T23:17:35.267899Z",
     "start_time": "2022-07-07T23:17:35.267736Z"
    },
    "hidden": true
   },
   "outputs": [],
   "source": [
    "df9.head()"
   ]
  },
  {
   "cell_type": "code",
   "execution_count": null,
   "id": "cf8457bf",
   "metadata": {
    "ExecuteTime": {
     "end_time": "2022-07-07T23:17:35.282764Z",
     "start_time": "2022-07-07T23:17:35.282626Z"
    },
    "hidden": true,
    "scrolled": false
   },
   "outputs": [],
   "source": [
    "# fazendo o drop do customer_id, pois é apenas a identificação do customer e não uma feature\n",
    "df_viz = df9.drop(columns='customer_id', axis=1)\n",
    "sns.pairplot(df_viz, hue='cluster')"
   ]
  },
  {
   "cell_type": "code",
   "execution_count": null,
   "id": "a0ce84a9",
   "metadata": {
    "ExecuteTime": {
     "end_time": "2022-07-07T23:17:35.291806Z",
     "start_time": "2022-07-07T23:17:35.291672Z"
    },
    "hidden": true
   },
   "outputs": [],
   "source": [
    "# analisando-se as correlações é possível perceber que os dados estão ainda bastante aglomerados com pouca separação, é importante ter cuidadoao selecionar novas ou deletar features através dessa visualização pois ela vem de uma correlação de dimensão dupla, na alta dimensionalidade as features atuais podem gerar bons clusters "
   ]
  },
  {
   "cell_type": "markdown",
   "id": "22074488",
   "metadata": {
    "hidden": true
   },
   "source": [
    "### 9.1 Visualization Inspection"
   ]
  },
  {
   "cell_type": "code",
   "execution_count": null,
   "id": "9efaa5f4",
   "metadata": {
    "ExecuteTime": {
     "end_time": "2022-07-07T23:17:35.304247Z",
     "start_time": "2022-07-07T23:17:35.304119Z"
    },
    "hidden": true
   },
   "outputs": [],
   "source": [
    "# a partir de 3 features não é mais possível a visualização tridimensional dos clusters\n",
    "# fig = px.scatter_3d(df9, x='recency_days', y='invoice_no', z='gross_revenue', color='cluster')\n",
    "# fig.show()"
   ]
  },
  {
   "cell_type": "markdown",
   "id": "15f980d0",
   "metadata": {
    "hidden": true
   },
   "source": [
    "## OBS.: UMAP - t-SNE\n",
    "## Machine Learning - Manifold\n",
    "\n",
    "PCA - Matrix, Espaço de distância -> são necessários 9 condições (colorários) para a matemática garantir a existência de espaço.\n",
    "Por exemplo: espaço de Hilbert\n",
    "\n",
    "UMAP, t-SNE (2009) - Manifold - Topologia (gráficos em alta dimensionalidade)"
   ]
  },
  {
   "cell_type": "markdown",
   "id": "472f7a45",
   "metadata": {
    "hidden": true
   },
   "source": [
    "## 9.3 UMAP"
   ]
  },
  {
   "cell_type": "code",
   "execution_count": null,
   "id": "14d52095",
   "metadata": {
    "ExecuteTime": {
     "end_time": "2022-07-07T23:17:35.313891Z",
     "start_time": "2022-07-07T23:17:35.313767Z"
    },
    "hidden": true
   },
   "outputs": [],
   "source": [
    "X.head()  # 4 dimensões (alta dimensionalidade)"
   ]
  },
  {
   "cell_type": "code",
   "execution_count": null,
   "id": "42843920",
   "metadata": {
    "ExecuteTime": {
     "end_time": "2022-07-07T23:17:35.327135Z",
     "start_time": "2022-07-07T23:17:35.326998Z"
    },
    "hidden": true
   },
   "outputs": [],
   "source": [
    "df_viz.head()"
   ]
  },
  {
   "cell_type": "code",
   "execution_count": null,
   "id": "4ae056dd",
   "metadata": {
    "ExecuteTime": {
     "end_time": "2022-07-07T23:17:35.342815Z",
     "start_time": "2022-07-07T23:17:35.342594Z"
    },
    "hidden": true
   },
   "outputs": [],
   "source": [
    "reducer = umap.UMAP(random_state=42)\n",
    "embedding = reducer.fit_transform(X)  # fit e transform\n",
    "                                      # embedding é um espaço projetado a partir da alta dimensionalidade\n",
    "    \n",
    "# embedding\n",
    "df_viz['embedding_x'] = embedding[:, 0]\n",
    "df_viz['embedding_y'] = embedding[:, 1]\n",
    "\n",
    "# plot UMAP\n",
    "sns.scatterplot(x='embedding_x', y='embedding_y',\n",
    "                hue='cluster',\n",
    "                palette=sns.color_palette('hls', n_colors=len(df_viz['cluster'].unique())), \n",
    "                data=df_viz)\n",
    "# (n_colors)->deixa a cor sendo calculada de forma automatica conforme a quatidade de clusters"
   ]
  },
  {
   "cell_type": "code",
   "execution_count": null,
   "id": "2c75b204",
   "metadata": {
    "ExecuteTime": {
     "end_time": "2022-07-07T23:17:35.353627Z",
     "start_time": "2022-07-07T23:17:35.353500Z"
    },
    "hidden": true
   },
   "outputs": [],
   "source": [
    "reducer = umap.UMAP(n_neighbors=5, random_state=42)\n",
    "embedding = reducer.fit_transform(X)  # fit e transform\n",
    "                                      # embedding é um espaço projetado a partir da alta dimensionalidade\n",
    "    \n",
    "# embedding\n",
    "df_viz['embedding_x'] = embedding[:, 0]\n",
    "df_viz['embedding_y'] = embedding[:, 1]\n",
    "\n",
    "# plot UMAP\n",
    "sns.scatterplot(x='embedding_x', y='embedding_y',\n",
    "                hue='cluster',\n",
    "                palette=sns.color_palette('hls', n_colors=len(df_viz['cluster'].unique())), \n",
    "                data=df_viz)\n",
    "# (n_colors)->deixa a cor sendo calculada de forma automatica conforme a quatidade de clusters"
   ]
  },
  {
   "cell_type": "code",
   "execution_count": null,
   "id": "feb7415d",
   "metadata": {
    "ExecuteTime": {
     "end_time": "2022-07-07T23:17:35.379516Z",
     "start_time": "2022-07-07T23:17:35.379385Z"
    },
    "hidden": true
   },
   "outputs": [],
   "source": [
    "!pwd"
   ]
  },
  {
   "cell_type": "markdown",
   "id": "626e2f12",
   "metadata": {
    "hidden": true
   },
   "source": [
    "## 9.2 Cluster Profile"
   ]
  },
  {
   "cell_type": "code",
   "execution_count": null,
   "id": "4794b930",
   "metadata": {
    "ExecuteTime": {
     "end_time": "2022-07-07T23:17:35.392160Z",
     "start_time": "2022-07-07T23:17:35.392019Z"
    },
    "hidden": true
   },
   "outputs": [],
   "source": [
    "df9.head()"
   ]
  },
  {
   "cell_type": "code",
   "execution_count": null,
   "id": "27c5a79a",
   "metadata": {
    "ExecuteTime": {
     "end_time": "2022-07-07T23:17:35.418907Z",
     "start_time": "2022-07-07T23:17:35.418788Z"
    },
    "hidden": true
   },
   "outputs": [],
   "source": [
    "# Number of customer\n",
    "df_cluster = df9[['customer_id', 'cluster']].groupby('cluster').count().reset_index()\n",
    "df_cluster['perc_customer'] = 100*(df_cluster['customer_id'] / df_cluster['customer_id'].sum())\n",
    "\n",
    "# Avg gross revenue\n",
    "df_avg_gross_revenue = df9[['gross_revenue', 'cluster']].groupby('cluster').mean().reset_index()\n",
    "df_cluster = pd.merge(df_cluster, df_avg_gross_revenue, how='inner', on='cluster')\n",
    "\n",
    "# Avg recency days\n",
    "df_avg_recency_days = df9[['recency_days', 'cluster']].groupby('cluster').mean().reset_index()\n",
    "df_cluster = pd.merge(df_cluster, df_avg_recency_days, how='inner', on='cluster')\n",
    "\n",
    "# Avg invoice_no\n",
    "df_invoice_no = df9[['invoice_no', 'cluster']].groupby('cluster').mean().reset_index()\n",
    "df_cluster = pd.merge(df_cluster, df_invoice_no, how='inner', on='cluster')\n",
    "\n",
    "# Avg Ticket\n",
    "df_ticket = df9[['avg_ticket', 'cluster']].groupby('cluster').mean().reset_index()\n",
    "df_cluster = pd.merge(df_cluster, df_ticket, how='inner', on='cluster')\n",
    "\n",
    "df_cluster"
   ]
  },
  {
   "cell_type": "markdown",
   "id": "1092346d",
   "metadata": {
    "hidden": true
   },
   "source": [
    "### Cluster 01: (Candidato a Insider)\n",
    "\n",
    "    - Numero de customers: 6 (0.14% da base)\n",
    "    - Recência média: 7 dias\n",
    "    - Compras em media: 89\n",
    "    - Receita em media: 182181,00\n",
    "  \n",
    "### Cluster 02:\n",
    "\n",
    "    - Numero de customers: 31 (0.7% da base)\n",
    "    - Recência média: 14 dias\n",
    "    - Compras em media: 53\n",
    "    - Receita em media: 40543\n",
    "    \n",
    "### Cluster 03:\n",
    "\n",
    "    - Numero de customers: 4335 (99% da base)\n",
    "    - Recência média: 92 dias\n",
    "    - Compras em media: 5\n",
    "    - Receita em media: 1372,00"
   ]
  },
  {
   "cell_type": "markdown",
   "id": "79f22a01",
   "metadata": {
    "heading_collapsed": true
   },
   "source": [
    "# 10.0 Deploy to Production"
   ]
  },
  {
   "cell_type": "code",
   "execution_count": null,
   "id": "2d7d3189",
   "metadata": {
    "hidden": true
   },
   "outputs": [],
   "source": []
  },
  {
   "cell_type": "code",
   "execution_count": null,
   "id": "ab3924b1",
   "metadata": {
    "hidden": true
   },
   "outputs": [],
   "source": []
  },
  {
   "cell_type": "code",
   "execution_count": null,
   "id": "beeee8a0",
   "metadata": {
    "hidden": true
   },
   "outputs": [],
   "source": []
  },
  {
   "cell_type": "code",
   "execution_count": null,
   "id": "a7e82483",
   "metadata": {
    "hidden": true
   },
   "outputs": [],
   "source": []
  }
 ],
 "metadata": {
  "kernelspec": {
   "display_name": "InsidersClustering",
   "language": "python",
   "name": "insidersclustering"
  },
  "language_info": {
   "codemirror_mode": {
    "name": "ipython",
    "version": 3
   },
   "file_extension": ".py",
   "mimetype": "text/x-python",
   "name": "python",
   "nbconvert_exporter": "python",
   "pygments_lexer": "ipython3",
   "version": "3.8.0"
  },
  "toc": {
   "base_numbering": 1,
   "nav_menu": {},
   "number_sections": true,
   "sideBar": true,
   "skip_h1_title": false,
   "title_cell": "Table of Contents",
   "title_sidebar": "Contents",
   "toc_cell": false,
   "toc_position": {
    "height": "calc(100% - 180px)",
    "left": "10px",
    "top": "150px",
    "width": "225px"
   },
   "toc_section_display": true,
   "toc_window_display": false
  }
 },
 "nbformat": 4,
 "nbformat_minor": 5
}
