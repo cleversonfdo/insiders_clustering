{
 "cells": [
  {
   "cell_type": "code",
   "execution_count": 1,
   "id": "a5ca2c37",
   "metadata": {
    "ExecuteTime": {
     "end_time": "2022-06-14T14:18:12.028387Z",
     "start_time": "2022-06-14T14:18:11.987973Z"
    }
   },
   "outputs": [],
   "source": [
    "from IPython.display      import Image"
   ]
  },
  {
   "cell_type": "markdown",
   "id": "6cc5ac06",
   "metadata": {},
   "source": [
    "# Ciclo 04 - Feature Engineering"
   ]
  },
  {
   "cell_type": "markdown",
   "id": "7c0fd59f",
   "metadata": {},
   "source": [
    "- Foi identificado itens de desconto no dataset, e como estamos interessados no faturamento do grupo essa informção não é muito interessante para alimentar o algoritmo.\n",
    "- Além disso foi identificado que do totla de invoices com letras todos estão com a quantity negativa\n",
    "- Como os stock codes ['POST' 'D' 'M' 'PADS' 'DOT' 'CRUK'] não siginificam necessariamente uma compra, então iremos removê-los. Poderia ainda ser feito uma investigação mais a fundo para ver se tem stockcode com uma letra, duas, três, etc, porém no momento nos daremos pro satisfetio ao fazer apenas essa limpeza, no proximo ciclo novas alterações serão feitas.\n",
    "- Entende-se que a coluna description não irá contribuir com a diferenciação dos clientes, ela será descartaada nesse momento.\n",
    "- Será assumido que os produtos com unit_price são brindes. E de acordo com essa assumption essas linhas serão excluidas."
   ]
  },
  {
   "cell_type": "markdown",
   "id": "cf8fb84a",
   "metadata": {},
   "source": [
    "## 3.0 Feature Selection"
   ]
  },
  {
   "cell_type": "markdown",
   "id": "0bb1fdca",
   "metadata": {},
   "source": [
    "- Para as variáveis numéricas foram separadas apenas as compras cujo uniy_price foram maiores que 0.04.\n",
    "- Como não existe um lat long específico para união europeia, então esse \"país\" será eliminado e também o pais \"Unspecified\""
   ]
  },
  {
   "cell_type": "markdown",
   "id": "0520046e",
   "metadata": {
    "ExecuteTime": {
     "end_time": "2022-06-14T21:30:42.397141Z",
     "start_time": "2022-06-14T21:30:42.384741Z"
    }
   },
   "source": [
    "## 4.0 Feature Engineering"
   ]
  },
  {
   "cell_type": "markdown",
   "id": "a03daf80",
   "metadata": {},
   "source": [
    "- Como está sendo separado as compras dos charge backs é importante separar também o cálculo da feature de frequencia, pois senão estaremos calculando a frequência de compras e devoluções na mesma feature.\n",
    "- Dependendo do momento da empresa, se ela estiver no momento de scaleup, por exemplo, normalmente não se preocupa com o custo; mas sim em aumentar a base de clientes mesmo tirando dinheiro do bolso para pagar a operação. Após esse período, no momento de escala de um produto procura-se então reduzir o máximo os custos.\n",
    "- No caso será considerado que a empresa está em scaleup, com isso os custos serão considerados e mantidos.\n",
    "- Após a criação do df_monetary apareceram 27 linhas nulas, isso pode ser por conta de devoluções que entraram dentro do período do dataset mas que não contempplou também as compras.\n",
    "- No cálculo do df_recency['recency_days'] considera-sa a data df2['invoice_date'].max() como sendo a data mais atual do dataset, como se fosse a data de hoje."
   ]
  },
  {
   "cell_type": "markdown",
   "id": "4ff9342a",
   "metadata": {},
   "source": [
    "## 5.0 Data Preparation"
   ]
  },
  {
   "cell_type": "markdown",
   "id": "115d7163",
   "metadata": {},
   "source": [
    "- O standardscaler foi feito sem considerar o fato de que a distribuição do gross revenue está bastante concentrada."
   ]
  },
  {
   "cell_type": "code",
   "execution_count": null,
   "id": "4519a3cc",
   "metadata": {},
   "outputs": [],
   "source": []
  }
 ],
 "metadata": {
  "kernelspec": {
   "display_name": "InsidersClustering",
   "language": "python",
   "name": "insidersclustering"
  },
  "language_info": {
   "codemirror_mode": {
    "name": "ipython",
    "version": 3
   },
   "file_extension": ".py",
   "mimetype": "text/x-python",
   "name": "python",
   "nbconvert_exporter": "python",
   "pygments_lexer": "ipython3",
   "version": "3.8.0"
  },
  "toc": {
   "base_numbering": 1,
   "nav_menu": {},
   "number_sections": true,
   "sideBar": true,
   "skip_h1_title": false,
   "title_cell": "Table of Contents",
   "title_sidebar": "Contents",
   "toc_cell": false,
   "toc_position": {},
   "toc_section_display": true,
   "toc_window_display": false
  }
 },
 "nbformat": 4,
 "nbformat_minor": 5
}
